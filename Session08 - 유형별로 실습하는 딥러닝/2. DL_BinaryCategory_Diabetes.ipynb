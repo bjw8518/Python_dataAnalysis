{
 "cells": [
  {
   "cell_type": "code",
   "execution_count": 1,
   "metadata": {},
   "outputs": [],
   "source": [
    "import tensorflow as tf"
   ]
  },
  {
   "cell_type": "code",
   "execution_count": 2,
   "metadata": {},
   "outputs": [],
   "source": [
    "# gpus = tf.config.experimental.list_physical_devices('GPU')\n",
    "# if gpus:\n",
    "#   try:\n",
    "#     tf.config.experimental.set_memory_growth(gpus[0], True)\n",
    "#   except RuntimeError as e:\n",
    "#     # 프로그램 시작시에 메모리 증가가 설정되어야만 합니다\n",
    "#     print(e)"
   ]
  },
  {
   "cell_type": "markdown",
   "metadata": {},
   "source": [
    "### 라이브러리 선언"
   ]
  },
  {
   "cell_type": "markdown",
   "metadata": {},
   "source": [
    "일반 CPU 활용 시"
   ]
  },
  {
   "cell_type": "code",
   "execution_count": 3,
   "metadata": {
    "scrolled": true
   },
   "outputs": [],
   "source": [
    "# # 라이브러리 정의 \n",
    "# from tensorflow import keras\n",
    "# from tensorflow.keras import layers\n",
    "# import numpy as np\n",
    "# import pandas as pd"
   ]
  },
  {
   "cell_type": "markdown",
   "metadata": {},
   "source": [
    "cuda nvidia gpu 활용 시"
   ]
  },
  {
   "cell_type": "code",
   "execution_count": 4,
   "metadata": {
    "scrolled": true
   },
   "outputs": [],
   "source": [
    "# # How to check if the code is running on GPU or CPU?\n",
    "\n",
    "# from tensorflow.python.client import device_lib\n",
    "\n",
    "# print(device_lib.list_local_devices())\n",
    "\n",
    "# import os\n",
    "# os.environ[\"CUDA_VISIBLE_DEVICES\"]='1'"
   ]
  },
  {
   "cell_type": "markdown",
   "metadata": {},
   "source": [
    "intel gpu 활용 시"
   ]
  },
  {
   "cell_type": "code",
   "execution_count": 5,
   "metadata": {
    "scrolled": true
   },
   "outputs": [],
   "source": [
    "# import numpy as np\n",
    "# import os\n",
    "\n",
    "# # intel gpu 적용\n",
    "# os.environ[\"KERAS_BACKEND\"] = \"plaidml.keras.backend\"\n",
    "# import keras\n",
    "# # mnist 데이터셋 \n",
    "# from keras.datasets import mnist\n"
   ]
  },
  {
   "cell_type": "code",
   "execution_count": 6,
   "metadata": {},
   "outputs": [],
   "source": [
    "import matplotlib.pyplot as plt\n",
    "import numpy as np\n",
    "import pandas as pd\n",
    "from sklearn.model_selection import train_test_split\n",
    "from sklearn.metrics import confusion_matrix, precision_score\n",
    "\n",
    "from tensorflow import keras\n",
    "from tensorflow.keras.layers import Dense, Dropout\n",
    "from tensorflow.keras.models import Sequential\n",
    "%matplotlib inline"
   ]
  },
  {
   "cell_type": "code",
   "execution_count": 7,
   "metadata": {},
   "outputs": [
    {
     "data": {
      "text/html": [
       "<div>\n",
       "<style scoped>\n",
       "    .dataframe tbody tr th:only-of-type {\n",
       "        vertical-align: middle;\n",
       "    }\n",
       "\n",
       "    .dataframe tbody tr th {\n",
       "        vertical-align: top;\n",
       "    }\n",
       "\n",
       "    .dataframe thead th {\n",
       "        text-align: right;\n",
       "    }\n",
       "</style>\n",
       "<table border=\"1\" class=\"dataframe\">\n",
       "  <thead>\n",
       "    <tr style=\"text-align: right;\">\n",
       "      <th></th>\n",
       "      <th>pregnancies</th>\n",
       "      <th>glucose</th>\n",
       "      <th>diastolic</th>\n",
       "      <th>trceps</th>\n",
       "      <th>insulin</th>\n",
       "      <th>bmi</th>\n",
       "      <th>dpf</th>\n",
       "      <th>age</th>\n",
       "      <th>diabetes</th>\n",
       "    </tr>\n",
       "  </thead>\n",
       "  <tbody>\n",
       "    <tr>\n",
       "      <th>0</th>\n",
       "      <td>6</td>\n",
       "      <td>148</td>\n",
       "      <td>72</td>\n",
       "      <td>35</td>\n",
       "      <td>0</td>\n",
       "      <td>33.6</td>\n",
       "      <td>0.627</td>\n",
       "      <td>50</td>\n",
       "      <td>1</td>\n",
       "    </tr>\n",
       "    <tr>\n",
       "      <th>1</th>\n",
       "      <td>1</td>\n",
       "      <td>85</td>\n",
       "      <td>66</td>\n",
       "      <td>29</td>\n",
       "      <td>0</td>\n",
       "      <td>26.6</td>\n",
       "      <td>0.351</td>\n",
       "      <td>31</td>\n",
       "      <td>0</td>\n",
       "    </tr>\n",
       "    <tr>\n",
       "      <th>2</th>\n",
       "      <td>8</td>\n",
       "      <td>183</td>\n",
       "      <td>64</td>\n",
       "      <td>0</td>\n",
       "      <td>0</td>\n",
       "      <td>23.3</td>\n",
       "      <td>0.672</td>\n",
       "      <td>32</td>\n",
       "      <td>1</td>\n",
       "    </tr>\n",
       "    <tr>\n",
       "      <th>3</th>\n",
       "      <td>1</td>\n",
       "      <td>89</td>\n",
       "      <td>66</td>\n",
       "      <td>23</td>\n",
       "      <td>94</td>\n",
       "      <td>28.1</td>\n",
       "      <td>0.167</td>\n",
       "      <td>21</td>\n",
       "      <td>0</td>\n",
       "    </tr>\n",
       "    <tr>\n",
       "      <th>4</th>\n",
       "      <td>0</td>\n",
       "      <td>137</td>\n",
       "      <td>40</td>\n",
       "      <td>35</td>\n",
       "      <td>168</td>\n",
       "      <td>43.1</td>\n",
       "      <td>2.288</td>\n",
       "      <td>33</td>\n",
       "      <td>1</td>\n",
       "    </tr>\n",
       "  </tbody>\n",
       "</table>\n",
       "</div>"
      ],
      "text/plain": [
       "   pregnancies  glucose  diastolic  trceps  insulin   bmi    dpf  age  \\\n",
       "0            6      148         72      35        0  33.6  0.627   50   \n",
       "1            1       85         66      29        0  26.6  0.351   31   \n",
       "2            8      183         64       0        0  23.3  0.672   32   \n",
       "3            1       89         66      23       94  28.1  0.167   21   \n",
       "4            0      137         40      35      168  43.1  2.288   33   \n",
       "\n",
       "   diabetes  \n",
       "0         1  \n",
       "1         0  \n",
       "2         1  \n",
       "3         0  \n",
       "4         1  "
      ]
     },
     "execution_count": 7,
     "metadata": {},
     "output_type": "execute_result"
    }
   ],
   "source": [
    "url = 'https://raw.githubusercontent.com/hyokwan/python-lecture/master/dataset/pima-indians-diabetes.csv'\n",
    "data = pd.read_csv(url)\n",
    "data.head()"
   ]
  },
  {
   "cell_type": "code",
   "execution_count": 8,
   "metadata": {},
   "outputs": [],
   "source": [
    "# test = [1,2,3,4,5]\n",
    "\n",
    "# [ test[i] + 1 for i in range(0, len(test))]"
   ]
  },
  {
   "cell_type": "markdown",
   "metadata": {},
   "source": [
    "# 1. 타입 통합 / 특성 숫자컬럼 추가"
   ]
  },
  {
   "cell_type": "markdown",
   "metadata": {},
   "source": [
    "### Skip"
   ]
  },
  {
   "cell_type": "markdown",
   "metadata": {},
   "source": [
    "# 2. 데이터 분리"
   ]
  },
  {
   "cell_type": "code",
   "execution_count": 9,
   "metadata": {},
   "outputs": [
    {
     "data": {
      "text/plain": [
       "Index(['pregnancies', 'glucose', 'diastolic', 'trceps', 'insulin', 'bmi',\n",
       "       'dpf', 'age', 'diabetes'],\n",
       "      dtype='object')"
      ]
     },
     "execution_count": 9,
     "metadata": {},
     "output_type": "execute_result"
    }
   ],
   "source": [
    "data.columns"
   ]
  },
  {
   "cell_type": "code",
   "execution_count": 10,
   "metadata": {},
   "outputs": [],
   "source": [
    "# 데이터 분리\n",
    "featuresData = data.drop(columns=['diabetes'])\n",
    "labelData = data['diabetes']\n",
    "\n",
    "trainingData_features,\\\n",
    "testData_features,\\\n",
    "trainingData_label,\\\n",
    "testData_label = train_test_split(featuresData,labelData, test_size=0.2, random_state=1)"
   ]
  },
  {
   "cell_type": "code",
   "execution_count": 11,
   "metadata": {},
   "outputs": [
    {
     "name": "stdout",
     "output_type": "stream",
     "text": [
      "(614, 8)\n",
      "(154, 8)\n",
      "(614,)\n",
      "(154,)\n"
     ]
    }
   ],
   "source": [
    "print(trainingData_features.shape)\n",
    "print(testData_features.shape)\n",
    "print(trainingData_label.shape)\n",
    "print(testData_label.shape)"
   ]
  },
  {
   "cell_type": "code",
   "execution_count": 12,
   "metadata": {},
   "outputs": [],
   "source": [
    "features = list(trainingData_features.select_dtypes(np.number).columns)"
   ]
  },
  {
   "cell_type": "code",
   "execution_count": 13,
   "metadata": {},
   "outputs": [
    {
     "data": {
      "text/plain": [
       "['pregnancies',\n",
       " 'glucose',\n",
       " 'diastolic',\n",
       " 'trceps',\n",
       " 'insulin',\n",
       " 'bmi',\n",
       " 'dpf',\n",
       " 'age']"
      ]
     },
     "execution_count": 13,
     "metadata": {},
     "output_type": "execute_result"
    }
   ],
   "source": [
    "features"
   ]
  },
  {
   "cell_type": "markdown",
   "metadata": {},
   "source": [
    "# 3. 모델 생성"
   ]
  },
  {
   "cell_type": "code",
   "execution_count": 14,
   "metadata": {},
   "outputs": [],
   "source": [
    "modelDim = trainingData_features.reset_index(drop=True).loc[0].shape"
   ]
  },
  {
   "cell_type": "code",
   "execution_count": 15,
   "metadata": {},
   "outputs": [
    {
     "name": "stdout",
     "output_type": "stream",
     "text": [
      "Model: \"sequential\"\n",
      "_________________________________________________________________\n",
      "Layer (type)                 Output Shape              Param #   \n",
      "=================================================================\n",
      "dense (Dense)                (None, 8)                 72        \n",
      "_________________________________________________________________\n",
      "dense_1 (Dense)              (None, 8)                 72        \n",
      "_________________________________________________________________\n",
      "dense_2 (Dense)              (None, 1)                 9         \n",
      "=================================================================\n",
      "Total params: 153\n",
      "Trainable params: 153\n",
      "Non-trainable params: 0\n",
      "_________________________________________________________________\n"
     ]
    }
   ],
   "source": [
    "model = Sequential()\n",
    "### 4개의 feature 가 행으로 입력됨\n",
    "#Hidden Layer-1\n",
    "unitNo = 8\n",
    "model.add(Dense(unitNo, activation='relu', input_shape = modelDim))\n",
    "#Hidden Layer-2\n",
    "model.add(Dense(unitNo, activation='relu'))\n",
    "#Output layer\n",
    "model.add(Dense(1,activation='sigmoid'))\n",
    "model.summary()"
   ]
  },
  {
   "cell_type": "code",
   "execution_count": 16,
   "metadata": {},
   "outputs": [
    {
     "data": {
      "image/png": "[encoded data removed]",
      "text/plain": [
       "<IPython.core.display.Image object>"
      ]
     },
     "execution_count": 16,
     "metadata": {},
     "output_type": "execute_result"
    }
   ],
   "source": [
    "# 모델 시각화\n",
    "from tensorflow.keras.utils import plot_model\n",
    "plot_model(model, to_file='model_plot.png', \n",
    "           show_shapes=True, \n",
    "           show_layer_names=True)"
   ]
  },
  {
   "cell_type": "markdown",
   "metadata": {},
   "source": [
    "# 4. 모델 컴파일"
   ]
  },
  {
   "cell_type": "code",
   "execution_count": 17,
   "metadata": {},
   "outputs": [],
   "source": [
    "model.compile(loss='binary_crossentropy',\n",
    "              optimizer='adam',\n",
    "              metrics=['accuracy'])"
   ]
  },
  {
   "cell_type": "markdown",
   "metadata": {},
   "source": [
    "# 5. 모델 학습"
   ]
  },
  {
   "cell_type": "code",
   "execution_count": 18,
   "metadata": {},
   "outputs": [],
   "source": [
    "# 라이브러리 및 로그 디렉토리 정의 join\n",
    "from tensorflow.keras.callbacks import EarlyStopping, ModelCheckpoint, TensorBoard\n",
    "from datetime import datetime\n",
    "import os\n",
    "\n",
    "logdir = os.path.join(\"logs\",datetime.now().strftime(\"%Y%m%d_%H%M%S\"))"
   ]
  },
  {
   "cell_type": "code",
   "execution_count": 19,
   "metadata": {},
   "outputs": [],
   "source": [
    "# 콜백 옵션 정의\n",
    "callbacks = [\n",
    "    TensorBoard(\n",
    "    log_dir = logdir),\n",
    "    \n",
    "    ModelCheckpoint(\n",
    "        \"model_b_out.h5\", monitor='val_accuracy',verbose=1, save_best_only=True, mode='max')\n",
    "]"
   ]
  },
  {
   "cell_type": "code",
   "execution_count": 20,
   "metadata": {
    "scrolled": true
   },
   "outputs": [
    {
     "name": "stdout",
     "output_type": "stream",
     "text": [
      "Epoch 1/100\n",
      "16/16 [==============================] - ETA: 0s - loss: 4.8709 - accuracy: 0.4664\n",
      "Epoch 00001: val_accuracy improved from -inf to 0.60163, saving model to model_b_out.h5\n",
      "16/16 [==============================] - 0s 26ms/step - loss: 4.8709 - accuracy: 0.4664 - val_loss: 2.7307 - val_accuracy: 0.6016\n",
      "Epoch 2/100\n",
      "15/16 [===========================>..] - ETA: 0s - loss: 2.7630 - accuracy: 0.5958\n",
      "Epoch 00002: val_accuracy did not improve from 0.60163\n",
      "16/16 [==============================] - 0s 6ms/step - loss: 2.7829 - accuracy: 0.5886 - val_loss: 2.3019 - val_accuracy: 0.5203\n",
      "Epoch 3/100\n",
      "15/16 [===========================>..] - ETA: 0s - loss: 2.1515 - accuracy: 0.5396\n",
      "Epoch 00003: val_accuracy did not improve from 0.60163\n",
      "16/16 [==============================] - 0s 7ms/step - loss: 2.1924 - accuracy: 0.5316 - val_loss: 1.9540 - val_accuracy: 0.5203\n",
      "Epoch 4/100\n",
      "15/16 [===========================>..] - ETA: 0s - loss: 1.9052 - accuracy: 0.5083\n",
      "Epoch 00004: val_accuracy did not improve from 0.60163\n",
      "16/16 [==============================] - 0s 7ms/step - loss: 1.9028 - accuracy: 0.5112 - val_loss: 1.7032 - val_accuracy: 0.5447\n",
      "Epoch 5/100\n",
      "15/16 [===========================>..] - ETA: 0s - loss: 1.7807 - accuracy: 0.5229\n",
      "Epoch 00005: val_accuracy did not improve from 0.60163\n",
      "16/16 [==============================] - 0s 6ms/step - loss: 1.7649 - accuracy: 0.5275 - val_loss: 1.4139 - val_accuracy: 0.5854\n",
      "Epoch 6/100\n",
      "15/16 [===========================>..] - ETA: 0s - loss: 1.5528 - accuracy: 0.5479\n",
      "Epoch 00006: val_accuracy did not improve from 0.60163\n",
      "16/16 [==============================] - 0s 6ms/step - loss: 1.5475 - accuracy: 0.5458 - val_loss: 1.3041 - val_accuracy: 0.6016\n",
      "Epoch 7/100\n",
      " 1/16 [>.............................] - ETA: 0s - loss: 1.6492 - accuracy: 0.6250\n",
      "Epoch 00007: val_accuracy did not improve from 0.60163\n",
      "16/16 [==============================] - 0s 5ms/step - loss: 1.4149 - accuracy: 0.5743 - val_loss: 1.1042 - val_accuracy: 0.5935\n",
      "Epoch 8/100\n",
      " 1/16 [>.............................] - ETA: 0s - loss: 1.7455 - accuracy: 0.4375\n",
      "Epoch 00008: val_accuracy improved from 0.60163 to 0.65041, saving model to model_b_out.h5\n",
      "16/16 [==============================] - 0s 7ms/step - loss: 1.2577 - accuracy: 0.5845 - val_loss: 1.0675 - val_accuracy: 0.6504\n",
      "Epoch 9/100\n",
      "13/16 [=======================>......] - ETA: 0s - loss: 1.1404 - accuracy: 0.6154\n",
      "Epoch 00009: val_accuracy did not improve from 0.65041\n",
      "16/16 [==============================] - 0s 8ms/step - loss: 1.1759 - accuracy: 0.6130 - val_loss: 0.8858 - val_accuracy: 0.6504\n",
      "Epoch 10/100\n",
      "13/16 [=======================>......] - ETA: 0s - loss: 1.0004 - accuracy: 0.6226\n",
      "Epoch 00010: val_accuracy improved from 0.65041 to 0.69106, saving model to model_b_out.h5\n",
      "16/16 [==============================] - 0s 8ms/step - loss: 1.0576 - accuracy: 0.6151 - val_loss: 0.7937 - val_accuracy: 0.6911\n",
      "Epoch 11/100\n",
      "15/16 [===========================>..] - ETA: 0s - loss: 0.9473 - accuracy: 0.6083\n",
      "Epoch 00011: val_accuracy did not improve from 0.69106\n",
      "16/16 [==============================] - 0s 6ms/step - loss: 0.9575 - accuracy: 0.6049 - val_loss: 0.7278 - val_accuracy: 0.6667\n",
      "Epoch 12/100\n",
      "14/16 [=========================>....] - ETA: 0s - loss: 0.9209 - accuracy: 0.6183\n",
      "Epoch 00012: val_accuracy did not improve from 0.69106\n",
      "16/16 [==============================] - 0s 6ms/step - loss: 0.9057 - accuracy: 0.6191 - val_loss: 0.6847 - val_accuracy: 0.6829\n",
      "Epoch 13/100\n",
      "15/16 [===========================>..] - ETA: 0s - loss: 0.8469 - accuracy: 0.6146\n",
      "Epoch 00013: val_accuracy did not improve from 0.69106\n",
      "16/16 [==============================] - 0s 6ms/step - loss: 0.8640 - accuracy: 0.6130 - val_loss: 0.7154 - val_accuracy: 0.6829\n",
      "Epoch 14/100\n",
      " 1/16 [>.............................] - ETA: 0s - loss: 0.7335 - accuracy: 0.7188\n",
      "Epoch 00014: val_accuracy did not improve from 0.69106\n",
      "16/16 [==============================] - 0s 5ms/step - loss: 0.8333 - accuracy: 0.6334 - val_loss: 0.6826 - val_accuracy: 0.6911\n",
      "Epoch 15/100\n",
      "16/16 [==============================] - ETA: 0s - loss: 0.8037 - accuracy: 0.6395\n",
      "Epoch 00015: val_accuracy improved from 0.69106 to 0.69919, saving model to model_b_out.h5\n",
      "16/16 [==============================] - 0s 8ms/step - loss: 0.8037 - accuracy: 0.6395 - val_loss: 0.6256 - val_accuracy: 0.6992\n",
      "Epoch 16/100\n",
      "15/16 [===========================>..] - ETA: 0s - loss: 0.7546 - accuracy: 0.6479\n",
      "Epoch 00016: val_accuracy did not improve from 0.69919\n",
      "16/16 [==============================] - 0s 7ms/step - loss: 0.7593 - accuracy: 0.6436 - val_loss: 0.6317 - val_accuracy: 0.6992\n",
      "Epoch 17/100\n",
      "14/16 [=========================>....] - ETA: 0s - loss: 0.7518 - accuracy: 0.6429\n",
      "Epoch 00017: val_accuracy did not improve from 0.69919\n",
      "16/16 [==============================] - 0s 7ms/step - loss: 0.7649 - accuracy: 0.6395 - val_loss: 0.6135 - val_accuracy: 0.6992\n",
      "Epoch 18/100\n",
      "15/16 [===========================>..] - ETA: 0s - loss: 0.7328 - accuracy: 0.6375\n",
      "Epoch 00018: val_accuracy did not improve from 0.69919\n",
      "16/16 [==============================] - 0s 6ms/step - loss: 0.7423 - accuracy: 0.6375 - val_loss: 0.6364 - val_accuracy: 0.6667\n",
      "Epoch 19/100\n",
      " 1/16 [>.............................] - ETA: 0s - loss: 0.9407 - accuracy: 0.6562\n",
      "Epoch 00019: val_accuracy did not improve from 0.69919\n",
      "16/16 [==============================] - 0s 5ms/step - loss: 0.7250 - accuracy: 0.6680 - val_loss: 0.6015 - val_accuracy: 0.6829\n",
      "Epoch 20/100\n",
      " 1/16 [>.............................] - ETA: 0s - loss: 0.9007 - accuracy: 0.5625\n",
      "Epoch 00020: val_accuracy did not improve from 0.69919\n",
      "16/16 [==============================] - 0s 5ms/step - loss: 0.7183 - accuracy: 0.6619 - val_loss: 0.5946 - val_accuracy: 0.6748\n",
      "Epoch 21/100\n",
      "16/16 [==============================] - ETA: 0s - loss: 0.7185 - accuracy: 0.6640\n",
      "Epoch 00021: val_accuracy improved from 0.69919 to 0.70732, saving model to model_b_out.h5\n",
      "16/16 [==============================] - 0s 8ms/step - loss: 0.7185 - accuracy: 0.6640 - val_loss: 0.5968 - val_accuracy: 0.7073\n",
      "Epoch 22/100\n",
      "15/16 [===========================>..] - ETA: 0s - loss: 0.7119 - accuracy: 0.6458\n",
      "Epoch 00022: val_accuracy did not improve from 0.70732\n",
      "16/16 [==============================] - 0s 7ms/step - loss: 0.7077 - accuracy: 0.6477 - val_loss: 0.6154 - val_accuracy: 0.6829\n",
      "Epoch 23/100\n",
      "16/16 [==============================] - ETA: 0s - loss: 0.7166 - accuracy: 0.6517\n",
      "Epoch 00023: val_accuracy did not improve from 0.70732\n",
      "16/16 [==============================] - 0s 6ms/step - loss: 0.7166 - accuracy: 0.6517 - val_loss: 0.6282 - val_accuracy: 0.6992\n",
      "Epoch 24/100\n",
      "16/16 [==============================] - ETA: 0s - loss: 0.7177 - accuracy: 0.6558\n",
      "Epoch 00024: val_accuracy did not improve from 0.70732\n",
      "16/16 [==============================] - 0s 6ms/step - loss: 0.7177 - accuracy: 0.6558 - val_loss: 0.5809 - val_accuracy: 0.6911\n",
      "Epoch 25/100\n",
      " 1/16 [>.............................] - ETA: 0s - loss: 0.5190 - accuracy: 0.7188\n",
      "Epoch 00025: val_accuracy did not improve from 0.70732\n",
      "16/16 [==============================] - 0s 5ms/step - loss: 0.7193 - accuracy: 0.6375 - val_loss: 0.5931 - val_accuracy: 0.7073\n",
      "Epoch 26/100\n",
      "16/16 [==============================] - ETA: 0s - loss: 0.7093 - accuracy: 0.6640\n",
      "Epoch 00026: val_accuracy did not improve from 0.70732\n",
      "16/16 [==============================] - 0s 6ms/step - loss: 0.7093 - accuracy: 0.6640 - val_loss: 0.5786 - val_accuracy: 0.6992\n",
      "Epoch 27/100\n",
      " 1/16 [>.............................] - ETA: 0s - loss: 0.8266 - accuracy: 0.5312\n",
      "Epoch 00027: val_accuracy did not improve from 0.70732\n",
      "16/16 [==============================] - 0s 6ms/step - loss: 0.6874 - accuracy: 0.6558 - val_loss: 0.5782 - val_accuracy: 0.6829\n",
      "Epoch 28/100\n",
      "14/16 [=========================>....] - ETA: 0s - loss: 0.6859 - accuracy: 0.6496\n",
      "Epoch 00028: val_accuracy improved from 0.70732 to 0.71545, saving model to model_b_out.h5\n",
      "16/16 [==============================] - 0s 9ms/step - loss: 0.6774 - accuracy: 0.6558 - val_loss: 0.5718 - val_accuracy: 0.7154\n",
      "Epoch 29/100\n",
      "14/16 [=========================>....] - ETA: 0s - loss: 0.6328 - accuracy: 0.6763\n",
      "Epoch 00029: val_accuracy improved from 0.71545 to 0.72358, saving model to model_b_out.h5\n",
      "16/16 [==============================] - 0s 8ms/step - loss: 0.6567 - accuracy: 0.6721 - val_loss: 0.5558 - val_accuracy: 0.7236\n",
      "Epoch 30/100\n",
      "16/16 [==============================] - ETA: 0s - loss: 0.6488 - accuracy: 0.6741\n",
      "Epoch 00030: val_accuracy improved from 0.72358 to 0.73984, saving model to model_b_out.h5\n",
      "16/16 [==============================] - 0s 8ms/step - loss: 0.6488 - accuracy: 0.6741 - val_loss: 0.5716 - val_accuracy: 0.7398\n",
      "Epoch 31/100\n",
      "15/16 [===========================>..] - ETA: 0s - loss: 0.6553 - accuracy: 0.6792\n",
      "Epoch 00031: val_accuracy did not improve from 0.73984\n",
      "16/16 [==============================] - 0s 6ms/step - loss: 0.6475 - accuracy: 0.6843 - val_loss: 0.5961 - val_accuracy: 0.7154\n",
      "Epoch 32/100\n",
      "15/16 [===========================>..] - ETA: 0s - loss: 0.6513 - accuracy: 0.6708\n",
      "Epoch 00032: val_accuracy improved from 0.73984 to 0.75610, saving model to model_b_out.h5\n",
      "16/16 [==============================] - 0s 8ms/step - loss: 0.6451 - accuracy: 0.6741 - val_loss: 0.5534 - val_accuracy: 0.7561\n",
      "Epoch 33/100\n",
      "15/16 [===========================>..] - ETA: 0s - loss: 0.6502 - accuracy: 0.6771\n",
      "Epoch 00033: val_accuracy did not improve from 0.75610\n",
      "16/16 [==============================] - 0s 6ms/step - loss: 0.6547 - accuracy: 0.6802 - val_loss: 0.5519 - val_accuracy: 0.7480\n",
      "Epoch 34/100\n",
      "15/16 [===========================>..] - ETA: 0s - loss: 0.6310 - accuracy: 0.7021\n",
      "Epoch 00034: val_accuracy did not improve from 0.75610\n",
      "16/16 [==============================] - 0s 6ms/step - loss: 0.6284 - accuracy: 0.7006 - val_loss: 0.5468 - val_accuracy: 0.7561\n",
      "Epoch 35/100\n",
      "14/16 [=========================>....] - ETA: 0s - loss: 0.6275 - accuracy: 0.7009\n",
      "Epoch 00035: val_accuracy did not improve from 0.75610\n",
      "16/16 [==============================] - 0s 6ms/step - loss: 0.6273 - accuracy: 0.7047 - val_loss: 0.5416 - val_accuracy: 0.7561\n",
      "Epoch 36/100\n",
      "16/16 [==============================] - ETA: 0s - loss: 0.6328 - accuracy: 0.6864\n",
      "Epoch 00036: val_accuracy did not improve from 0.75610\n",
      "16/16 [==============================] - 0s 6ms/step - loss: 0.6328 - accuracy: 0.6864 - val_loss: 0.5543 - val_accuracy: 0.7154\n",
      "Epoch 37/100\n",
      "13/16 [=======================>......] - ETA: 0s - loss: 0.6442 - accuracy: 0.6995\n",
      "Epoch 00037: val_accuracy improved from 0.75610 to 0.76423, saving model to model_b_out.h5\n",
      "16/16 [==============================] - 0s 9ms/step - loss: 0.6492 - accuracy: 0.6884 - val_loss: 0.5384 - val_accuracy: 0.7642\n",
      "Epoch 38/100\n",
      "10/16 [=================>............] - ETA: 0s - loss: 0.6258 - accuracy: 0.6906\n",
      "Epoch 00038: val_accuracy improved from 0.76423 to 0.77236, saving model to model_b_out.h5\n",
      "16/16 [==============================] - 0s 9ms/step - loss: 0.6198 - accuracy: 0.6864 - val_loss: 0.5432 - val_accuracy: 0.7724\n",
      "Epoch 39/100\n",
      "15/16 [===========================>..] - ETA: 0s - loss: 0.6134 - accuracy: 0.6938\n",
      "Epoch 00039: val_accuracy did not improve from 0.77236\n",
      "16/16 [==============================] - 0s 7ms/step - loss: 0.6128 - accuracy: 0.6925 - val_loss: 0.5613 - val_accuracy: 0.7154\n",
      "Epoch 40/100\n",
      "15/16 [===========================>..] - ETA: 0s - loss: 0.6138 - accuracy: 0.6875\n",
      "Epoch 00040: val_accuracy improved from 0.77236 to 0.80488, saving model to model_b_out.h5\n",
      "16/16 [==============================] - 0s 7ms/step - loss: 0.6217 - accuracy: 0.6823 - val_loss: 0.5326 - val_accuracy: 0.8049\n",
      "Epoch 41/100\n",
      "12/16 [=====================>........] - ETA: 0s - loss: 0.6619 - accuracy: 0.7135\n",
      "Epoch 00041: val_accuracy did not improve from 0.80488\n",
      "16/16 [==============================] - 0s 7ms/step - loss: 0.6674 - accuracy: 0.6965 - val_loss: 0.5530 - val_accuracy: 0.7154\n",
      "Epoch 42/100\n",
      "15/16 [===========================>..] - ETA: 0s - loss: 0.6078 - accuracy: 0.7000\n",
      "Epoch 00042: val_accuracy did not improve from 0.80488\n",
      "16/16 [==============================] - 0s 6ms/step - loss: 0.6079 - accuracy: 0.7006 - val_loss: 0.5545 - val_accuracy: 0.7317\n",
      "Epoch 43/100\n",
      "14/16 [=========================>....] - ETA: 0s - loss: 0.6088 - accuracy: 0.6853\n",
      "Epoch 00043: val_accuracy did not improve from 0.80488\n",
      "16/16 [==============================] - 0s 6ms/step - loss: 0.6273 - accuracy: 0.6843 - val_loss: 0.5390 - val_accuracy: 0.7642\n",
      "Epoch 44/100\n",
      "16/16 [==============================] - ETA: 0s - loss: 0.5894 - accuracy: 0.7026\n",
      "Epoch 00044: val_accuracy did not improve from 0.80488\n",
      "16/16 [==============================] - 0s 6ms/step - loss: 0.5894 - accuracy: 0.7026 - val_loss: 0.6159 - val_accuracy: 0.6829\n",
      "Epoch 45/100\n",
      "15/16 [===========================>..] - ETA: 0s - loss: 0.6076 - accuracy: 0.6979\n",
      "Epoch 00045: val_accuracy did not improve from 0.80488\n",
      "16/16 [==============================] - 0s 6ms/step - loss: 0.6099 - accuracy: 0.6925 - val_loss: 0.5423 - val_accuracy: 0.7724\n",
      "Epoch 46/100\n",
      "14/16 [=========================>....] - ETA: 0s - loss: 0.6011 - accuracy: 0.6987\n",
      "Epoch 00046: val_accuracy did not improve from 0.80488\n",
      "16/16 [==============================] - 0s 7ms/step - loss: 0.5950 - accuracy: 0.6986 - val_loss: 0.5421 - val_accuracy: 0.7642\n",
      "Epoch 47/100\n",
      "15/16 [===========================>..] - ETA: 0s - loss: 0.5903 - accuracy: 0.7063\n",
      "Epoch 00047: val_accuracy did not improve from 0.80488\n",
      "16/16 [==============================] - 0s 6ms/step - loss: 0.5914 - accuracy: 0.7067 - val_loss: 0.5438 - val_accuracy: 0.7561\n",
      "Epoch 48/100\n",
      "15/16 [===========================>..] - ETA: 0s - loss: 0.5950 - accuracy: 0.6917\n",
      "Epoch 00048: val_accuracy did not improve from 0.80488\n",
      "16/16 [==============================] - 0s 6ms/step - loss: 0.5880 - accuracy: 0.6965 - val_loss: 0.5519 - val_accuracy: 0.7398\n",
      "Epoch 49/100\n",
      "15/16 [===========================>..] - ETA: 0s - loss: 0.5997 - accuracy: 0.6896\n",
      "Epoch 00049: val_accuracy did not improve from 0.80488\n",
      "16/16 [==============================] - 0s 6ms/step - loss: 0.5992 - accuracy: 0.6904 - val_loss: 0.5382 - val_accuracy: 0.7642\n",
      "Epoch 50/100\n",
      "16/16 [==============================] - ETA: 0s - loss: 0.6460 - accuracy: 0.7128\n",
      "Epoch 00050: val_accuracy did not improve from 0.80488\n",
      "16/16 [==============================] - 0s 6ms/step - loss: 0.6460 - accuracy: 0.7128 - val_loss: 0.5830 - val_accuracy: 0.7154\n",
      "Epoch 51/100\n",
      "14/16 [=========================>....] - ETA: 0s - loss: 0.6299 - accuracy: 0.6853\n",
      "Epoch 00051: val_accuracy did not improve from 0.80488\n",
      "16/16 [==============================] - 0s 6ms/step - loss: 0.6163 - accuracy: 0.6925 - val_loss: 0.5603 - val_accuracy: 0.7398\n",
      "Epoch 52/100\n",
      "14/16 [=========================>....] - ETA: 0s - loss: 0.6049 - accuracy: 0.6741\n",
      "Epoch 00052: val_accuracy did not improve from 0.80488\n",
      "16/16 [==============================] - 0s 6ms/step - loss: 0.6041 - accuracy: 0.6843 - val_loss: 0.5395 - val_accuracy: 0.7967\n",
      "Epoch 53/100\n",
      "16/16 [==============================] - ETA: 0s - loss: 0.5851 - accuracy: 0.7047\n",
      "Epoch 00053: val_accuracy did not improve from 0.80488\n",
      "16/16 [==============================] - 0s 6ms/step - loss: 0.5851 - accuracy: 0.7047 - val_loss: 0.5676 - val_accuracy: 0.7398\n",
      "Epoch 54/100\n",
      "14/16 [=========================>....] - ETA: 0s - loss: 0.5924 - accuracy: 0.7232\n",
      "Epoch 00054: val_accuracy did not improve from 0.80488\n",
      "16/16 [==============================] - 0s 7ms/step - loss: 0.5954 - accuracy: 0.7169 - val_loss: 0.5442 - val_accuracy: 0.7724\n",
      "Epoch 55/100\n",
      "14/16 [=========================>....] - ETA: 0s - loss: 0.5852 - accuracy: 0.7009\n",
      "Epoch 00055: val_accuracy did not improve from 0.80488\n",
      "16/16 [==============================] - 0s 6ms/step - loss: 0.5826 - accuracy: 0.7006 - val_loss: 0.5464 - val_accuracy: 0.7642\n",
      "Epoch 56/100\n",
      "15/16 [===========================>..] - ETA: 0s - loss: 0.5776 - accuracy: 0.7021\n",
      "Epoch 00056: val_accuracy did not improve from 0.80488\n",
      "16/16 [==============================] - 0s 6ms/step - loss: 0.5784 - accuracy: 0.7026 - val_loss: 0.5468 - val_accuracy: 0.7561\n",
      "Epoch 57/100\n",
      "15/16 [===========================>..] - ETA: 0s - loss: 0.5993 - accuracy: 0.7000\n",
      "Epoch 00057: val_accuracy did not improve from 0.80488\n",
      "16/16 [==============================] - 0s 6ms/step - loss: 0.5948 - accuracy: 0.7047 - val_loss: 0.5393 - val_accuracy: 0.8049\n",
      "Epoch 58/100\n",
      "14/16 [=========================>....] - ETA: 0s - loss: 0.5823 - accuracy: 0.7188\n",
      "Epoch 00058: val_accuracy did not improve from 0.80488\n",
      "16/16 [==============================] - 0s 7ms/step - loss: 0.5836 - accuracy: 0.7128 - val_loss: 0.5430 - val_accuracy: 0.7724\n",
      "Epoch 59/100\n",
      "16/16 [==============================] - ETA: 0s - loss: 0.5750 - accuracy: 0.7128\n",
      "Epoch 00059: val_accuracy did not improve from 0.80488\n",
      "16/16 [==============================] - 0s 6ms/step - loss: 0.5750 - accuracy: 0.7128 - val_loss: 0.5393 - val_accuracy: 0.7886\n",
      "Epoch 60/100\n",
      "15/16 [===========================>..] - ETA: 0s - loss: 0.5846 - accuracy: 0.7083\n",
      "Epoch 00060: val_accuracy did not improve from 0.80488\n",
      "16/16 [==============================] - 0s 6ms/step - loss: 0.5829 - accuracy: 0.7108 - val_loss: 0.5367 - val_accuracy: 0.7805\n",
      "Epoch 61/100\n",
      "14/16 [=========================>....] - ETA: 0s - loss: 0.6030 - accuracy: 0.6964\n",
      "Epoch 00061: val_accuracy did not improve from 0.80488\n",
      "16/16 [==============================] - 0s 7ms/step - loss: 0.5951 - accuracy: 0.7026 - val_loss: 0.5741 - val_accuracy: 0.7236\n",
      "Epoch 62/100\n",
      "14/16 [=========================>....] - ETA: 0s - loss: 0.5808 - accuracy: 0.7143\n",
      "Epoch 00062: val_accuracy did not improve from 0.80488\n",
      "16/16 [==============================] - 0s 6ms/step - loss: 0.5825 - accuracy: 0.7128 - val_loss: 0.5385 - val_accuracy: 0.7805\n",
      "Epoch 63/100\n",
      "16/16 [==============================] - ETA: 0s - loss: 0.5661 - accuracy: 0.7230\n",
      "Epoch 00063: val_accuracy did not improve from 0.80488\n",
      "16/16 [==============================] - 0s 7ms/step - loss: 0.5661 - accuracy: 0.7230 - val_loss: 0.5530 - val_accuracy: 0.7398\n",
      "Epoch 64/100\n",
      "14/16 [=========================>....] - ETA: 0s - loss: 0.5809 - accuracy: 0.7232\n",
      "Epoch 00064: val_accuracy did not improve from 0.80488\n",
      "16/16 [==============================] - 0s 7ms/step - loss: 0.5707 - accuracy: 0.7251 - val_loss: 0.5309 - val_accuracy: 0.7805\n",
      "Epoch 65/100\n",
      "15/16 [===========================>..] - ETA: 0s - loss: 0.5502 - accuracy: 0.7271\n",
      "Epoch 00065: val_accuracy did not improve from 0.80488\n",
      "16/16 [==============================] - 0s 7ms/step - loss: 0.5606 - accuracy: 0.7210 - val_loss: 0.6153 - val_accuracy: 0.6667\n",
      "Epoch 66/100\n",
      "13/16 [=======================>......] - ETA: 0s - loss: 0.5940 - accuracy: 0.7139\n",
      "Epoch 00066: val_accuracy did not improve from 0.80488\n",
      "16/16 [==============================] - 0s 7ms/step - loss: 0.5914 - accuracy: 0.7189 - val_loss: 0.6284 - val_accuracy: 0.6829\n",
      "Epoch 67/100\n",
      "10/16 [=================>............] - ETA: 0s - loss: 0.5852 - accuracy: 0.7094\n",
      "Epoch 00067: val_accuracy did not improve from 0.80488\n",
      "16/16 [==============================] - 0s 9ms/step - loss: 0.5806 - accuracy: 0.7067 - val_loss: 0.5444 - val_accuracy: 0.7561\n",
      "Epoch 68/100\n",
      "13/16 [=======================>......] - ETA: 0s - loss: 0.5808 - accuracy: 0.7067\n",
      "Epoch 00068: val_accuracy did not improve from 0.80488\n",
      "16/16 [==============================] - 0s 6ms/step - loss: 0.5752 - accuracy: 0.7128 - val_loss: 0.5318 - val_accuracy: 0.7886\n",
      "Epoch 69/100\n",
      "16/16 [==============================] - ETA: 0s - loss: 0.5688 - accuracy: 0.7169\n",
      "Epoch 00069: val_accuracy did not improve from 0.80488\n",
      "16/16 [==============================] - 0s 6ms/step - loss: 0.5688 - accuracy: 0.7169 - val_loss: 0.5437 - val_accuracy: 0.7805\n",
      "Epoch 70/100\n",
      "14/16 [=========================>....] - ETA: 0s - loss: 0.5710 - accuracy: 0.7321\n",
      "Epoch 00070: val_accuracy did not improve from 0.80488\n",
      "16/16 [==============================] - 0s 7ms/step - loss: 0.5739 - accuracy: 0.7312 - val_loss: 0.5337 - val_accuracy: 0.8049\n",
      "Epoch 71/100\n",
      "14/16 [=========================>....] - ETA: 0s - loss: 0.5638 - accuracy: 0.7165\n",
      "Epoch 00071: val_accuracy did not improve from 0.80488\n",
      "16/16 [==============================] - 0s 7ms/step - loss: 0.5588 - accuracy: 0.7169 - val_loss: 0.5403 - val_accuracy: 0.7724\n",
      "Epoch 72/100\n",
      "15/16 [===========================>..] - ETA: 0s - loss: 0.5640 - accuracy: 0.7333\n",
      "Epoch 00072: val_accuracy did not improve from 0.80488\n",
      "16/16 [==============================] - 0s 6ms/step - loss: 0.5594 - accuracy: 0.7373 - val_loss: 0.5408 - val_accuracy: 0.7561\n",
      "Epoch 73/100\n",
      "15/16 [===========================>..] - ETA: 0s - loss: 0.5673 - accuracy: 0.7083\n",
      "Epoch 00073: val_accuracy did not improve from 0.80488\n",
      "16/16 [==============================] - 0s 7ms/step - loss: 0.5604 - accuracy: 0.7149 - val_loss: 0.5342 - val_accuracy: 0.7967\n",
      "Epoch 74/100\n",
      "10/16 [=================>............] - ETA: 0s - loss: 0.5615 - accuracy: 0.7063\n",
      "Epoch 00074: val_accuracy did not improve from 0.80488\n",
      "16/16 [==============================] - 0s 7ms/step - loss: 0.5691 - accuracy: 0.7067 - val_loss: 0.5906 - val_accuracy: 0.6748\n",
      "Epoch 75/100\n",
      " 9/16 [===============>..............] - ETA: 0s - loss: 0.6097 - accuracy: 0.7083\n",
      "Epoch 00075: val_accuracy did not improve from 0.80488\n",
      "16/16 [==============================] - 0s 8ms/step - loss: 0.5920 - accuracy: 0.7026 - val_loss: 0.6031 - val_accuracy: 0.6748\n",
      "Epoch 76/100\n",
      "15/16 [===========================>..] - ETA: 0s - loss: 0.5913 - accuracy: 0.7021\n",
      "Epoch 00076: val_accuracy did not improve from 0.80488\n",
      "16/16 [==============================] - 0s 6ms/step - loss: 0.5857 - accuracy: 0.7047 - val_loss: 0.5975 - val_accuracy: 0.6911\n",
      "Epoch 77/100\n",
      "15/16 [===========================>..] - ETA: 0s - loss: 0.5618 - accuracy: 0.7333\n",
      "Epoch 00077: val_accuracy did not improve from 0.80488\n",
      "16/16 [==============================] - 0s 7ms/step - loss: 0.5651 - accuracy: 0.7332 - val_loss: 0.5351 - val_accuracy: 0.7724\n",
      "Epoch 78/100\n",
      "15/16 [===========================>..] - ETA: 0s - loss: 0.5752 - accuracy: 0.7125\n",
      "Epoch 00078: val_accuracy did not improve from 0.80488\n",
      "16/16 [==============================] - 0s 6ms/step - loss: 0.5695 - accuracy: 0.7169 - val_loss: 0.5395 - val_accuracy: 0.7398\n",
      "Epoch 79/100\n",
      "16/16 [==============================] - ETA: 0s - loss: 0.5449 - accuracy: 0.7291\n",
      "Epoch 00079: val_accuracy did not improve from 0.80488\n",
      "16/16 [==============================] - 0s 6ms/step - loss: 0.5449 - accuracy: 0.7291 - val_loss: 0.5779 - val_accuracy: 0.6992\n",
      "Epoch 80/100\n",
      "13/16 [=======================>......] - ETA: 0s - loss: 0.6238 - accuracy: 0.6827\n",
      "Epoch 00080: val_accuracy did not improve from 0.80488\n",
      "16/16 [==============================] - 0s 7ms/step - loss: 0.6087 - accuracy: 0.6884 - val_loss: 0.5362 - val_accuracy: 0.7967\n",
      "Epoch 81/100\n",
      "14/16 [=========================>....] - ETA: 0s - loss: 0.5511 - accuracy: 0.7388\n",
      "Epoch 00081: val_accuracy did not improve from 0.80488\n",
      "16/16 [==============================] - 0s 6ms/step - loss: 0.5562 - accuracy: 0.7332 - val_loss: 0.5369 - val_accuracy: 0.7398\n",
      "Epoch 82/100\n",
      "15/16 [===========================>..] - ETA: 0s - loss: 0.5489 - accuracy: 0.7312\n",
      "Epoch 00082: val_accuracy did not improve from 0.80488\n",
      "16/16 [==============================] - 0s 6ms/step - loss: 0.5471 - accuracy: 0.7312 - val_loss: 0.5676 - val_accuracy: 0.6992\n",
      "Epoch 83/100\n",
      "14/16 [=========================>....] - ETA: 0s - loss: 0.5478 - accuracy: 0.7366\n",
      "Epoch 00083: val_accuracy did not improve from 0.80488\n",
      "16/16 [==============================] - 0s 7ms/step - loss: 0.5523 - accuracy: 0.7352 - val_loss: 0.5320 - val_accuracy: 0.7724\n",
      "Epoch 84/100\n",
      "13/16 [=======================>......] - ETA: 0s - loss: 0.5522 - accuracy: 0.7163\n",
      "Epoch 00084: val_accuracy did not improve from 0.80488\n",
      "16/16 [==============================] - 0s 7ms/step - loss: 0.5542 - accuracy: 0.7088 - val_loss: 0.5334 - val_accuracy: 0.7724\n",
      "Epoch 85/100\n",
      "14/16 [=========================>....] - ETA: 0s - loss: 0.5505 - accuracy: 0.7321\n",
      "Epoch 00085: val_accuracy did not improve from 0.80488\n",
      "16/16 [==============================] - 0s 7ms/step - loss: 0.5485 - accuracy: 0.7312 - val_loss: 0.5405 - val_accuracy: 0.7642\n",
      "Epoch 86/100\n",
      "12/16 [=====================>........] - ETA: 0s - loss: 0.5450 - accuracy: 0.7448\n",
      "Epoch 00086: val_accuracy did not improve from 0.80488\n",
      "16/16 [==============================] - 0s 8ms/step - loss: 0.5438 - accuracy: 0.7413 - val_loss: 0.5360 - val_accuracy: 0.7724\n",
      "Epoch 87/100\n",
      "15/16 [===========================>..] - ETA: 0s - loss: 0.5460 - accuracy: 0.7125\n",
      "Epoch 00087: val_accuracy did not improve from 0.80488\n",
      "16/16 [==============================] - 0s 10ms/step - loss: 0.5447 - accuracy: 0.7128 - val_loss: 0.5695 - val_accuracy: 0.7073\n",
      "Epoch 88/100\n",
      "14/16 [=========================>....] - ETA: 0s - loss: 0.5592 - accuracy: 0.7165\n",
      "Epoch 00088: val_accuracy did not improve from 0.80488\n",
      "16/16 [==============================] - 0s 6ms/step - loss: 0.5571 - accuracy: 0.7189 - val_loss: 0.5573 - val_accuracy: 0.7073\n",
      "Epoch 89/100\n",
      "16/16 [==============================] - ETA: 0s - loss: 0.5435 - accuracy: 0.7352\n",
      "Epoch 00089: val_accuracy did not improve from 0.80488\n",
      "16/16 [==============================] - 0s 6ms/step - loss: 0.5435 - accuracy: 0.7352 - val_loss: 0.5326 - val_accuracy: 0.7642\n",
      "Epoch 90/100\n",
      "16/16 [==============================] - ETA: 0s - loss: 0.5447 - accuracy: 0.7271\n",
      "Epoch 00090: val_accuracy did not improve from 0.80488\n",
      "16/16 [==============================] - 0s 6ms/step - loss: 0.5447 - accuracy: 0.7271 - val_loss: 0.5358 - val_accuracy: 0.7480\n",
      "Epoch 91/100\n",
      "15/16 [===========================>..] - ETA: 0s - loss: 0.5463 - accuracy: 0.7312\n",
      "Epoch 00091: val_accuracy did not improve from 0.80488\n",
      "16/16 [==============================] - 0s 6ms/step - loss: 0.5451 - accuracy: 0.7312 - val_loss: 0.5263 - val_accuracy: 0.7561\n",
      "Epoch 92/100\n",
      "15/16 [===========================>..] - ETA: 0s - loss: 0.5428 - accuracy: 0.7229\n",
      "Epoch 00092: val_accuracy did not improve from 0.80488\n",
      "16/16 [==============================] - 0s 6ms/step - loss: 0.5459 - accuracy: 0.7251 - val_loss: 0.5654 - val_accuracy: 0.7073\n",
      "Epoch 93/100\n",
      "15/16 [===========================>..] - ETA: 0s - loss: 0.5439 - accuracy: 0.7250\n",
      "Epoch 00093: val_accuracy did not improve from 0.80488\n",
      "16/16 [==============================] - 0s 7ms/step - loss: 0.5409 - accuracy: 0.7271 - val_loss: 0.5303 - val_accuracy: 0.7480\n",
      "Epoch 94/100\n",
      "13/16 [=======================>......] - ETA: 0s - loss: 0.5486 - accuracy: 0.7260\n",
      "Epoch 00094: val_accuracy did not improve from 0.80488\n",
      "16/16 [==============================] - 0s 8ms/step - loss: 0.5467 - accuracy: 0.7271 - val_loss: 0.5358 - val_accuracy: 0.7398\n",
      "Epoch 95/100\n",
      "13/16 [=======================>......] - ETA: 0s - loss: 0.5309 - accuracy: 0.7524\n",
      "Epoch 00095: val_accuracy did not improve from 0.80488\n",
      "16/16 [==============================] - 0s 7ms/step - loss: 0.5401 - accuracy: 0.7454 - val_loss: 0.5375 - val_accuracy: 0.7561\n",
      "Epoch 96/100\n",
      "16/16 [==============================] - ETA: 0s - loss: 0.5615 - accuracy: 0.6884\n",
      "Epoch 00096: val_accuracy did not improve from 0.80488\n",
      "16/16 [==============================] - 0s 6ms/step - loss: 0.5615 - accuracy: 0.6884 - val_loss: 0.5305 - val_accuracy: 0.7398\n",
      "Epoch 97/100\n",
      "15/16 [===========================>..] - ETA: 0s - loss: 0.5498 - accuracy: 0.7250\n",
      "Epoch 00097: val_accuracy did not improve from 0.80488\n",
      "16/16 [==============================] - 0s 6ms/step - loss: 0.5488 - accuracy: 0.7251 - val_loss: 0.5211 - val_accuracy: 0.7642\n",
      "Epoch 98/100\n",
      "15/16 [===========================>..] - ETA: 0s - loss: 0.5463 - accuracy: 0.7333\n",
      "Epoch 00098: val_accuracy did not improve from 0.80488\n",
      "16/16 [==============================] - 0s 6ms/step - loss: 0.5492 - accuracy: 0.7291 - val_loss: 0.5341 - val_accuracy: 0.7642\n",
      "Epoch 99/100\n",
      "15/16 [===========================>..] - ETA: 0s - loss: 0.5549 - accuracy: 0.7125\n",
      "Epoch 00099: val_accuracy did not improve from 0.80488\n",
      "16/16 [==============================] - 0s 6ms/step - loss: 0.5508 - accuracy: 0.7149 - val_loss: 0.5314 - val_accuracy: 0.7398\n",
      "Epoch 100/100\n",
      "14/16 [=========================>....] - ETA: 0s - loss: 0.5777 - accuracy: 0.6942\n",
      "Epoch 00100: val_accuracy did not improve from 0.80488\n",
      "16/16 [==============================] - 0s 6ms/step - loss: 0.5732 - accuracy: 0.7006 - val_loss: 0.5425 - val_accuracy: 0.7642\n"
     ]
    }
   ],
   "source": [
    "# 훈련\n",
    "history = model.fit(x=trainingData_features,\n",
    "                         y=trainingData_label,\n",
    "                         epochs=100,\n",
    "                         batch_size=32,\n",
    "                         callbacks=callbacks,\n",
    "                         validation_split=0.2)\n"
   ]
  },
  {
   "cell_type": "code",
   "execution_count": 21,
   "metadata": {},
   "outputs": [],
   "source": [
    "trainingLog  = pd.DataFrame(history.history)"
   ]
  },
  {
   "cell_type": "code",
   "execution_count": 22,
   "metadata": {},
   "outputs": [
    {
     "data": {
      "text/html": [
       "<div>\n",
       "<style scoped>\n",
       "    .dataframe tbody tr th:only-of-type {\n",
       "        vertical-align: middle;\n",
       "    }\n",
       "\n",
       "    .dataframe tbody tr th {\n",
       "        vertical-align: top;\n",
       "    }\n",
       "\n",
       "    .dataframe thead th {\n",
       "        text-align: right;\n",
       "    }\n",
       "</style>\n",
       "<table border=\"1\" class=\"dataframe\">\n",
       "  <thead>\n",
       "    <tr style=\"text-align: right;\">\n",
       "      <th></th>\n",
       "      <th>loss</th>\n",
       "      <th>accuracy</th>\n",
       "      <th>val_loss</th>\n",
       "      <th>val_accuracy</th>\n",
       "    </tr>\n",
       "  </thead>\n",
       "  <tbody>\n",
       "    <tr>\n",
       "      <th>90</th>\n",
       "      <td>0.545098</td>\n",
       "      <td>0.731161</td>\n",
       "      <td>0.526348</td>\n",
       "      <td>0.756098</td>\n",
       "    </tr>\n",
       "    <tr>\n",
       "      <th>91</th>\n",
       "      <td>0.545865</td>\n",
       "      <td>0.725051</td>\n",
       "      <td>0.565445</td>\n",
       "      <td>0.707317</td>\n",
       "    </tr>\n",
       "    <tr>\n",
       "      <th>92</th>\n",
       "      <td>0.540853</td>\n",
       "      <td>0.727088</td>\n",
       "      <td>0.530250</td>\n",
       "      <td>0.747967</td>\n",
       "    </tr>\n",
       "    <tr>\n",
       "      <th>93</th>\n",
       "      <td>0.546651</td>\n",
       "      <td>0.727088</td>\n",
       "      <td>0.535806</td>\n",
       "      <td>0.739837</td>\n",
       "    </tr>\n",
       "    <tr>\n",
       "      <th>94</th>\n",
       "      <td>0.540137</td>\n",
       "      <td>0.745418</td>\n",
       "      <td>0.537547</td>\n",
       "      <td>0.756098</td>\n",
       "    </tr>\n",
       "    <tr>\n",
       "      <th>95</th>\n",
       "      <td>0.561463</td>\n",
       "      <td>0.688391</td>\n",
       "      <td>0.530477</td>\n",
       "      <td>0.739837</td>\n",
       "    </tr>\n",
       "    <tr>\n",
       "      <th>96</th>\n",
       "      <td>0.548815</td>\n",
       "      <td>0.725051</td>\n",
       "      <td>0.521085</td>\n",
       "      <td>0.764228</td>\n",
       "    </tr>\n",
       "    <tr>\n",
       "      <th>97</th>\n",
       "      <td>0.549190</td>\n",
       "      <td>0.729124</td>\n",
       "      <td>0.534117</td>\n",
       "      <td>0.764228</td>\n",
       "    </tr>\n",
       "    <tr>\n",
       "      <th>98</th>\n",
       "      <td>0.550780</td>\n",
       "      <td>0.714868</td>\n",
       "      <td>0.531356</td>\n",
       "      <td>0.739837</td>\n",
       "    </tr>\n",
       "    <tr>\n",
       "      <th>99</th>\n",
       "      <td>0.573186</td>\n",
       "      <td>0.700611</td>\n",
       "      <td>0.542502</td>\n",
       "      <td>0.764228</td>\n",
       "    </tr>\n",
       "  </tbody>\n",
       "</table>\n",
       "</div>"
      ],
      "text/plain": [
       "        loss  accuracy  val_loss  val_accuracy\n",
       "90  0.545098  0.731161  0.526348      0.756098\n",
       "91  0.545865  0.725051  0.565445      0.707317\n",
       "92  0.540853  0.727088  0.530250      0.747967\n",
       "93  0.546651  0.727088  0.535806      0.739837\n",
       "94  0.540137  0.745418  0.537547      0.756098\n",
       "95  0.561463  0.688391  0.530477      0.739837\n",
       "96  0.548815  0.725051  0.521085      0.764228\n",
       "97  0.549190  0.729124  0.534117      0.764228\n",
       "98  0.550780  0.714868  0.531356      0.739837\n",
       "99  0.573186  0.700611  0.542502      0.764228"
      ]
     },
     "execution_count": 22,
     "metadata": {},
     "output_type": "execute_result"
    }
   ],
   "source": [
    "trainingLog.tail(10)"
   ]
  },
  {
   "cell_type": "code",
   "execution_count": 23,
   "metadata": {
    "scrolled": true
   },
   "outputs": [
    {
     "name": "stdout",
     "output_type": "stream",
     "text": [
      "5/5 [==============================] - 0s 3ms/step - loss: 0.6067 - accuracy: 0.6883\n"
     ]
    },
    {
     "data": {
      "text/plain": [
       "[0.6066891551017761, 0.6883116960525513]"
      ]
     },
     "execution_count": 23,
     "metadata": {},
     "output_type": "execute_result"
    }
   ],
   "source": [
    "model.evaluate(testData_features, testData_label)"
   ]
  },
  {
   "cell_type": "code",
   "execution_count": 24,
   "metadata": {},
   "outputs": [
    {
     "data": {
      "text/html": [
       "<div>\n",
       "<style scoped>\n",
       "    .dataframe tbody tr th:only-of-type {\n",
       "        vertical-align: middle;\n",
       "    }\n",
       "\n",
       "    .dataframe tbody tr th {\n",
       "        vertical-align: top;\n",
       "    }\n",
       "\n",
       "    .dataframe thead th {\n",
       "        text-align: right;\n",
       "    }\n",
       "</style>\n",
       "<table border=\"1\" class=\"dataframe\">\n",
       "  <thead>\n",
       "    <tr style=\"text-align: right;\">\n",
       "      <th></th>\n",
       "      <th>loss</th>\n",
       "      <th>accuracy</th>\n",
       "      <th>val_loss</th>\n",
       "      <th>val_accuracy</th>\n",
       "    </tr>\n",
       "  </thead>\n",
       "  <tbody>\n",
       "    <tr>\n",
       "      <th>0</th>\n",
       "      <td>4.870868</td>\n",
       "      <td>0.466395</td>\n",
       "      <td>2.730652</td>\n",
       "      <td>0.601626</td>\n",
       "    </tr>\n",
       "    <tr>\n",
       "      <th>1</th>\n",
       "      <td>2.782931</td>\n",
       "      <td>0.588595</td>\n",
       "      <td>2.301899</td>\n",
       "      <td>0.520325</td>\n",
       "    </tr>\n",
       "    <tr>\n",
       "      <th>2</th>\n",
       "      <td>2.192392</td>\n",
       "      <td>0.531568</td>\n",
       "      <td>1.953964</td>\n",
       "      <td>0.520325</td>\n",
       "    </tr>\n",
       "    <tr>\n",
       "      <th>3</th>\n",
       "      <td>1.902803</td>\n",
       "      <td>0.511202</td>\n",
       "      <td>1.703166</td>\n",
       "      <td>0.544715</td>\n",
       "    </tr>\n",
       "    <tr>\n",
       "      <th>4</th>\n",
       "      <td>1.764861</td>\n",
       "      <td>0.527495</td>\n",
       "      <td>1.413931</td>\n",
       "      <td>0.585366</td>\n",
       "    </tr>\n",
       "    <tr>\n",
       "      <th>...</th>\n",
       "      <td>...</td>\n",
       "      <td>...</td>\n",
       "      <td>...</td>\n",
       "      <td>...</td>\n",
       "    </tr>\n",
       "    <tr>\n",
       "      <th>95</th>\n",
       "      <td>0.561463</td>\n",
       "      <td>0.688391</td>\n",
       "      <td>0.530477</td>\n",
       "      <td>0.739837</td>\n",
       "    </tr>\n",
       "    <tr>\n",
       "      <th>96</th>\n",
       "      <td>0.548815</td>\n",
       "      <td>0.725051</td>\n",
       "      <td>0.521085</td>\n",
       "      <td>0.764228</td>\n",
       "    </tr>\n",
       "    <tr>\n",
       "      <th>97</th>\n",
       "      <td>0.549190</td>\n",
       "      <td>0.729124</td>\n",
       "      <td>0.534117</td>\n",
       "      <td>0.764228</td>\n",
       "    </tr>\n",
       "    <tr>\n",
       "      <th>98</th>\n",
       "      <td>0.550780</td>\n",
       "      <td>0.714868</td>\n",
       "      <td>0.531356</td>\n",
       "      <td>0.739837</td>\n",
       "    </tr>\n",
       "    <tr>\n",
       "      <th>99</th>\n",
       "      <td>0.573186</td>\n",
       "      <td>0.700611</td>\n",
       "      <td>0.542502</td>\n",
       "      <td>0.764228</td>\n",
       "    </tr>\n",
       "  </tbody>\n",
       "</table>\n",
       "<p>100 rows × 4 columns</p>\n",
       "</div>"
      ],
      "text/plain": [
       "        loss  accuracy  val_loss  val_accuracy\n",
       "0   4.870868  0.466395  2.730652      0.601626\n",
       "1   2.782931  0.588595  2.301899      0.520325\n",
       "2   2.192392  0.531568  1.953964      0.520325\n",
       "3   1.902803  0.511202  1.703166      0.544715\n",
       "4   1.764861  0.527495  1.413931      0.585366\n",
       "..       ...       ...       ...           ...\n",
       "95  0.561463  0.688391  0.530477      0.739837\n",
       "96  0.548815  0.725051  0.521085      0.764228\n",
       "97  0.549190  0.729124  0.534117      0.764228\n",
       "98  0.550780  0.714868  0.531356      0.739837\n",
       "99  0.573186  0.700611  0.542502      0.764228\n",
       "\n",
       "[100 rows x 4 columns]"
      ]
     },
     "execution_count": 24,
     "metadata": {},
     "output_type": "execute_result"
    }
   ],
   "source": [
    "pd.DataFrame(history.history)"
   ]
  },
  {
   "cell_type": "code",
   "execution_count": 25,
   "metadata": {},
   "outputs": [
    {
     "data": {
      "image/png": "[encoded data removed]",
      "text/plain": [
       "<Figure size 864x576 with 1 Axes>"
      ]
     },
     "metadata": {
      "needs_background": "light"
     },
     "output_type": "display_data"
    }
   ],
   "source": [
    "import matplotlib.pyplot as plt\n",
    "%matplotlib inline\n",
    "\n",
    "plt.figure(figsize=(12,8))\n",
    "# 훈련 데이터의 mse\n",
    "plt.plot(history.history['accuracy'])\n",
    "# 검증 데이터의 mse\n",
    "plt.plot(history.history['val_accuracy'])\n",
    "plt.legend(['accuracy','val_accuracy'])\n",
    "plt.grid()\n",
    "plt.show()"
   ]
  },
  {
   "cell_type": "code",
   "execution_count": 26,
   "metadata": {
    "scrolled": true
   },
   "outputs": [
    {
     "data": {
      "text/html": [
       "<div>\n",
       "<style scoped>\n",
       "    .dataframe tbody tr th:only-of-type {\n",
       "        vertical-align: middle;\n",
       "    }\n",
       "\n",
       "    .dataframe tbody tr th {\n",
       "        vertical-align: top;\n",
       "    }\n",
       "\n",
       "    .dataframe thead th {\n",
       "        text-align: right;\n",
       "    }\n",
       "</style>\n",
       "<table border=\"1\" class=\"dataframe\">\n",
       "  <thead>\n",
       "    <tr style=\"text-align: right;\">\n",
       "      <th></th>\n",
       "      <th>loss</th>\n",
       "      <th>accuracy</th>\n",
       "      <th>val_loss</th>\n",
       "      <th>val_accuracy</th>\n",
       "    </tr>\n",
       "  </thead>\n",
       "  <tbody>\n",
       "    <tr>\n",
       "      <th>95</th>\n",
       "      <td>0.561463</td>\n",
       "      <td>0.688391</td>\n",
       "      <td>0.530477</td>\n",
       "      <td>0.739837</td>\n",
       "    </tr>\n",
       "    <tr>\n",
       "      <th>96</th>\n",
       "      <td>0.548815</td>\n",
       "      <td>0.725051</td>\n",
       "      <td>0.521085</td>\n",
       "      <td>0.764228</td>\n",
       "    </tr>\n",
       "    <tr>\n",
       "      <th>97</th>\n",
       "      <td>0.549190</td>\n",
       "      <td>0.729124</td>\n",
       "      <td>0.534117</td>\n",
       "      <td>0.764228</td>\n",
       "    </tr>\n",
       "    <tr>\n",
       "      <th>98</th>\n",
       "      <td>0.550780</td>\n",
       "      <td>0.714868</td>\n",
       "      <td>0.531356</td>\n",
       "      <td>0.739837</td>\n",
       "    </tr>\n",
       "    <tr>\n",
       "      <th>99</th>\n",
       "      <td>0.573186</td>\n",
       "      <td>0.700611</td>\n",
       "      <td>0.542502</td>\n",
       "      <td>0.764228</td>\n",
       "    </tr>\n",
       "  </tbody>\n",
       "</table>\n",
       "</div>"
      ],
      "text/plain": [
       "        loss  accuracy  val_loss  val_accuracy\n",
       "95  0.561463  0.688391  0.530477      0.739837\n",
       "96  0.548815  0.725051  0.521085      0.764228\n",
       "97  0.549190  0.729124  0.534117      0.764228\n",
       "98  0.550780  0.714868  0.531356      0.739837\n",
       "99  0.573186  0.700611  0.542502      0.764228"
      ]
     },
     "execution_count": 26,
     "metadata": {},
     "output_type": "execute_result"
    }
   ],
   "source": [
    "pd.DataFrame(history.history).tail()"
   ]
  },
  {
   "cell_type": "markdown",
   "metadata": {},
   "source": [
    "# 6. 모델 추론"
   ]
  },
  {
   "cell_type": "code",
   "execution_count": 27,
   "metadata": {},
   "outputs": [
    {
     "name": "stdout",
     "output_type": "stream",
     "text": [
      "5/5 [==============================] - 0s 2ms/step - loss: 0.6067 - accuracy: 0.6883\n",
      "0.6066891551017761\n",
      "0.6883116960525513\n"
     ]
    }
   ],
   "source": [
    "import math\n",
    "# 정확도 추론\n",
    "loss, accuracy = model.evaluate(testData_features, testData_label, verbose=1)\n",
    "print(loss)\n",
    "print(accuracy)"
   ]
  },
  {
   "cell_type": "markdown",
   "metadata": {},
   "source": [
    "# 7. 모델 예측"
   ]
  },
  {
   "cell_type": "code",
   "execution_count": 28,
   "metadata": {},
   "outputs": [
    {
     "data": {
      "text/plain": [
       "array([[0.41832632]], dtype=float32)"
      ]
     },
     "execution_count": 28,
     "metadata": {},
     "output_type": "execute_result"
    }
   ],
   "source": [
    "# 가상의 환자 데이터 입력\n",
    "patient_1 = pd.DataFrame([[0,137,90,35,168,43.1,2.288,33]])\n",
    "\n",
    "# 모델로 예측하기\n",
    "prediction = model.predict(patient_1)\n",
    "prediction"
   ]
  },
  {
   "cell_type": "code",
   "execution_count": 29,
   "metadata": {},
   "outputs": [
    {
     "name": "stdout",
     "output_type": "stream",
     "text": [
      "[[41.83263]]\n"
     ]
    }
   ],
   "source": [
    "# 예측결과 출력하기\n",
    "print(prediction*100)"
   ]
  },
  {
   "cell_type": "markdown",
   "metadata": {},
   "source": [
    "### [실습] \n",
    "diabetes 동일 데이터를 활용하여 다음장 학습 종료 후 sigmoid 와 softmax를 활용하여 예측정확도를 비교해보세요."
   ]
  },
  {
   "cell_type": "code",
   "execution_count": 30,
   "metadata": {},
   "outputs": [],
   "source": [
    "from tensorflow.keras import backend as K\n",
    "\n",
    "K.clear_session()\n",
    "from numba import cuda\n",
    "cuda.select_device(0)\n",
    "cuda.close()"
   ]
  }
 ],
 "metadata": {
  "kernelspec": {
   "display_name": "Python 3",
   "language": "python",
   "name": "python3"
  },
  "language_info": {
   "codemirror_mode": {
    "name": "ipython",
    "version": 3
   },
   "file_extension": ".py",
   "mimetype": "text/x-python",
   "name": "python",
   "nbconvert_exporter": "python",
   "pygments_lexer": "ipython3",
   "version": "3.7.6"
  }
 },
 "nbformat": 4,
 "nbformat_minor": 4
}
