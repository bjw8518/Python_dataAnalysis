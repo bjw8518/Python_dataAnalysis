{
 "cells": [
  {
   "cell_type": "code",
   "execution_count": 1,
   "metadata": {},
   "outputs": [],
   "source": [
    "# gpus = tf.config.experimental.list_physical_devices('GPU')\n",
    "# if gpus:\n",
    "#   try:\n",
    "#     tf.config.experimental.set_memory_growth(gpus[0], True)\n",
    "#   except RuntimeError as e:\n",
    "#     # 프로그램 시작시에 메모리 증가가 설정되어야만 합니다\n",
    "#     print(e)"
   ]
  },
  {
   "cell_type": "code",
   "execution_count": 2,
   "metadata": {},
   "outputs": [],
   "source": [
    "import tensorflow as tf"
   ]
  },
  {
   "cell_type": "code",
   "execution_count": 3,
   "metadata": {},
   "outputs": [],
   "source": [
    "# tf.debugging.set_log_device_placement(True)\n",
    "\n",
    "# # 텐서 생성\n",
    "# a = tf.constant([[1.0, 2.0, 3.0], [4.0, 5.0, 6.0]])\n",
    "# b = tf.constant([[1.0, 2.0], [3.0, 4.0], [5.0, 6.0]])\n",
    "# c = tf.matmul(a, b)\n",
    "\n",
    "# print(c)"
   ]
  },
  {
   "cell_type": "code",
   "execution_count": 4,
   "metadata": {},
   "outputs": [],
   "source": [
    "# tf.debugging.set_log_device_placement(True)\n",
    "\n",
    "# # 텐서를 CPU에 할당\n",
    "# with tf.device('/CPU:0'):\n",
    "#   a = tf.constant([[1.0, 2.0, 3.0], [4.0, 5.0, 6.0]])\n",
    "#   b = tf.constant([[1.0, 2.0], [3.0, 4.0], [5.0, 6.0]])\n",
    "\n",
    "# c = tf.matmul(a, b)\n",
    "# print(c)"
   ]
  },
  {
   "cell_type": "code",
   "execution_count": 5,
   "metadata": {},
   "outputs": [],
   "source": [
    "# from tensorflow.python.client import device_lib\n",
    "\n",
    "# device_lib.list_local_devices()"
   ]
  },
  {
   "cell_type": "code",
   "execution_count": 6,
   "metadata": {},
   "outputs": [],
   "source": [
    "# import os\n",
    "# os.environ[\"CUDA_VISIBLE_DEVICES\"]='1'"
   ]
  },
  {
   "cell_type": "markdown",
   "metadata": {},
   "source": [
    "### 라이브러리 선언"
   ]
  },
  {
   "cell_type": "markdown",
   "metadata": {},
   "source": [
    "일반 CPU 활용 시"
   ]
  },
  {
   "cell_type": "code",
   "execution_count": 7,
   "metadata": {
    "scrolled": true
   },
   "outputs": [],
   "source": [
    "# # 라이브러리 정의 \n",
    "# from tensorflow import keras\n",
    "# from tensorflow.keras import layers\n",
    "# import numpy as np\n",
    "# import pandas as pd"
   ]
  },
  {
   "cell_type": "markdown",
   "metadata": {},
   "source": [
    "cuda nvidia gpu 활용 시"
   ]
  },
  {
   "cell_type": "code",
   "execution_count": 8,
   "metadata": {
    "scrolled": true
   },
   "outputs": [
    {
     "name": "stdout",
     "output_type": "stream",
     "text": [
      "[name: \"/device:CPU:0\"\n",
      "device_type: \"CPU\"\n",
      "memory_limit: 268435456\n",
      "locality {\n",
      "}\n",
      "incarnation: 14320356503967770690\n",
      ", name: \"/device:XLA_CPU:0\"\n",
      "device_type: \"XLA_CPU\"\n",
      "memory_limit: 17179869184\n",
      "locality {\n",
      "}\n",
      "incarnation: 2720805635317350085\n",
      "physical_device_desc: \"device: XLA_CPU device\"\n",
      ", name: \"/device:GPU:0\"\n",
      "device_type: \"GPU\"\n",
      "memory_limit: 1434376601\n",
      "locality {\n",
      "  bus_id: 1\n",
      "  links {\n",
      "  }\n",
      "}\n",
      "incarnation: 4128271411287693238\n",
      "physical_device_desc: \"device: 0, name: GeForce GTX 950M, pci bus id: 0000:01:00.0, compute capability: 5.0\"\n",
      ", name: \"/device:XLA_GPU:0\"\n",
      "device_type: \"XLA_GPU\"\n",
      "memory_limit: 17179869184\n",
      "locality {\n",
      "}\n",
      "incarnation: 9934056937198150028\n",
      "physical_device_desc: \"device: XLA_GPU device\"\n",
      "]\n"
     ]
    }
   ],
   "source": [
    "# How to check if the code is running on GPU or CPU?\n",
    "\n",
    "from tensorflow.python.client import device_lib\n",
    "\n",
    "print(device_lib.list_local_devices())\n",
    "\n",
    "# import os\n",
    "# os.environ[\"CUDA_VISIBLE_DEVICES\"]='0'"
   ]
  },
  {
   "cell_type": "markdown",
   "metadata": {},
   "source": [
    "intel gpu 활용 시"
   ]
  },
  {
   "cell_type": "code",
   "execution_count": 9,
   "metadata": {
    "scrolled": true
   },
   "outputs": [],
   "source": [
    "# import numpy as np\n",
    "# import os\n",
    "\n",
    "# # intel gpu 적용\n",
    "# os.environ[\"KERAS_BACKEND\"] = \"plaidml.keras.backend\"\n",
    "# import keras\n",
    "# # mnist 데이터셋 \n",
    "# from keras.datasets import mnist\n"
   ]
  },
  {
   "cell_type": "code",
   "execution_count": 10,
   "metadata": {},
   "outputs": [],
   "source": [
    "import numpy as np\n",
    "import mnist\n",
    "from tensorflow import keras\n",
    "\n",
    "from tensorflow.keras.layers import Dense, Dropout, Flatten\n",
    "from tensorflow.keras.models import Sequential\n",
    "from tensorflow.keras.utils import to_categorical"
   ]
  },
  {
   "cell_type": "code",
   "execution_count": 11,
   "metadata": {},
   "outputs": [],
   "source": [
    "# import warnings\n",
    "# warnings.filterwarnings(action=\"ignore\")"
   ]
  },
  {
   "cell_type": "markdown",
   "metadata": {},
   "source": [
    "# 데이터 불러오기"
   ]
  },
  {
   "cell_type": "code",
   "execution_count": 12,
   "metadata": {},
   "outputs": [
    {
     "name": "stdout",
     "output_type": "stream",
     "text": [
      "(60000, 28, 28)\n",
      "(60000,)\n",
      "(10000, 28, 28)\n",
      "(10000,)\n"
     ]
    }
   ],
   "source": [
    "train_images = mnist.train_images()\n",
    "train_labels = mnist.train_labels()\n",
    "test_images = mnist.test_images()\n",
    "test_labels = mnist.test_labels()\n",
    "\n",
    "print(train_images.shape) # (60000, 28, 28)\n",
    "print(train_labels.shape) # (60000,)\n",
    "print(test_images.shape) # (10000, 28, 28)\n",
    "print(test_labels.shape) # (10000,)"
   ]
  },
  {
   "cell_type": "code",
   "execution_count": 13,
   "metadata": {},
   "outputs": [
    {
     "data": {
      "text/plain": [
       "<matplotlib.image.AxesImage at 0x253b5c33c08>"
      ]
     },
     "execution_count": 13,
     "metadata": {},
     "output_type": "execute_result"
    },
    {
     "data": {
      "image/png": "[encoded data removed]",
      "text/plain": [
       "<Figure size 432x288 with 1 Axes>"
      ]
     },
     "metadata": {
      "needs_background": "light"
     },
     "output_type": "display_data"
    }
   ],
   "source": [
    "import pandas as pd\n",
    "import matplotlib.pyplot as plt\n",
    "%matplotlib inline\n",
    "\n",
    "one_char = pd.DataFrame(train_images[2])\n",
    "plt.imshow(train_images[2],cmap=\"gray\")"
   ]
  },
  {
   "cell_type": "markdown",
   "metadata": {},
   "source": [
    "# 1. 타입 통합 / 특성 숫자컬럼 추가"
   ]
  },
  {
   "cell_type": "markdown",
   "metadata": {},
   "source": [
    "### skip"
   ]
  },
  {
   "cell_type": "markdown",
   "metadata": {},
   "source": [
    "# 2. 데이터 분리"
   ]
  },
  {
   "cell_type": "code",
   "execution_count": 14,
   "metadata": {},
   "outputs": [
    {
     "name": "stdout",
     "output_type": "stream",
     "text": [
      "(60000, 28, 28)\n",
      "(10000, 28, 28)\n"
     ]
    }
   ],
   "source": [
    "# 이미지 정규화\n",
    "train_images = (train_images / 255)\n",
    "test_images = (test_images / 255)\n",
    "\n",
    "# 이미지 형태 변경 (향후 CNN 시 차원 DEPTH 추가 필요)\n",
    "# train_images = train_images.reshape((len(train_images),28,28))\n",
    "# test_images = test_images.reshape((len(test_images),28,28))\n",
    "\n",
    "print(train_images.shape) # (60000, 28, 28)\n",
    "print(test_images.shape)  # (10000, 28, 28)"
   ]
  },
  {
   "cell_type": "code",
   "execution_count": 15,
   "metadata": {},
   "outputs": [
    {
     "name": "stdout",
     "output_type": "stream",
     "text": [
      "Original label 0 :  4\n",
      "After conversion to categorical ( one-hot ) :  [0. 0. 0. 0. 1. 0. 0. 0. 0. 0.]\n"
     ]
    }
   ],
   "source": [
    "# Change the labels from integer to categorical data\n",
    "train_labels_one_hot = to_categorical(train_labels)\n",
    "test_labels_one_hot = to_categorical(test_labels)\n",
    " \n",
    "# Display the change for category label using one-hot encoding\n",
    "print('Original label 0 : ', train_labels[2])\n",
    "print('After conversion to categorical ( one-hot ) : ', train_labels_one_hot[2])"
   ]
  },
  {
   "cell_type": "markdown",
   "metadata": {},
   "source": [
    "# 3. 모델 생성"
   ]
  },
  {
   "cell_type": "code",
   "execution_count": 16,
   "metadata": {},
   "outputs": [
    {
     "name": "stdout",
     "output_type": "stream",
     "text": [
      "Model: \"sequential\"\n",
      "_________________________________________________________________\n",
      "Layer (type)                 Output Shape              Param #   \n",
      "=================================================================\n",
      "flatten (Flatten)            (None, 784)               0         \n",
      "_________________________________________________________________\n",
      "dense (Dense)                (None, 8)                 6280      \n",
      "_________________________________________________________________\n",
      "dense_1 (Dense)              (None, 8)                 72        \n",
      "_________________________________________________________________\n",
      "dense_2 (Dense)              (None, 10)                90        \n",
      "=================================================================\n",
      "Total params: 6,442\n",
      "Trainable params: 6,442\n",
      "Non-trainable params: 0\n",
      "_________________________________________________________________\n"
     ]
    }
   ],
   "source": [
    "from tensorflow.keras.layers import Dense, Dropout, Flatten\n",
    "from tensorflow.keras.models import Sequential\n",
    "\n",
    "### 입출력 형태 정의\n",
    "input_shape = train_images[0].shape\n",
    "nclasses = len(np.unique(train_labels))\n",
    "\n",
    "model = Sequential()\n",
    "#input Layer\n",
    "model.add(Flatten(input_shape=input_shape))\n",
    "#Hidden Layer-1\n",
    "model.add(Dense(units=8, activation='relu'))\n",
    "#Hidden Layer-2\n",
    "model.add(Dense(units=8, activation='relu'))\n",
    "#Output layer\n",
    "model.add(Dense(units=nclasses,activation='softmax'))\n",
    "model.summary()"
   ]
  },
  {
   "cell_type": "code",
   "execution_count": 17,
   "metadata": {},
   "outputs": [
    {
     "data": {
      "image/png": "[encoded data removed]",
      "text/plain": [
       "<IPython.core.display.Image object>"
      ]
     },
     "execution_count": 17,
     "metadata": {},
     "output_type": "execute_result"
    }
   ],
   "source": [
    "# 모델 시각화\n",
    "from tensorflow.keras.utils import plot_model\n",
    "plot_model(model, to_file='model_plot.png', \n",
    "           show_shapes=True, \n",
    "           show_layer_names=True)\n",
    "# from IPython.display import Image\n",
    "# Image(retina=True, filename='model_plot.png')\n"
   ]
  },
  {
   "cell_type": "markdown",
   "metadata": {},
   "source": [
    "# 4. 모델 컴파일"
   ]
  },
  {
   "cell_type": "code",
   "execution_count": 18,
   "metadata": {},
   "outputs": [],
   "source": [
    "model.compile(loss='categorical_crossentropy',\n",
    "              optimizer='adam',\n",
    "              metrics=['accuracy'])\n"
   ]
  },
  {
   "cell_type": "markdown",
   "metadata": {},
   "source": [
    "# 5. 모델 훈련"
   ]
  },
  {
   "cell_type": "code",
   "execution_count": 19,
   "metadata": {},
   "outputs": [],
   "source": [
    "import os\n",
    "from datetime import datetime\n",
    "\n",
    "from tensorflow.keras.callbacks import TensorBoard, ModelCheckpoint, EarlyStopping\n",
    "\n",
    "datetime.now().strftime(\"%Y%m%d_%H%M%S\")\n",
    "\n",
    "logdir = os.path.join(\"logs\", datetime.now().strftime(\"%Y%m%d_%H%M%S\"))\n",
    "logdir\n",
    "\n",
    "callbacks = [\n",
    "    \n",
    "    TensorBoard(\n",
    "    log_dir = logdir),\n",
    "    \n",
    "    EarlyStopping(monitor=\"val_loss\", patience=10),\n",
    "    \n",
    "    ModelCheckpoint(filepath=\"model_mnist_weights.h5\", \n",
    "                    monitor='val_accuracy',verbose=1, save_best_only=True, mode='max')\n",
    "]"
   ]
  },
  {
   "cell_type": "code",
   "execution_count": 20,
   "metadata": {},
   "outputs": [
    {
     "name": "stdout",
     "output_type": "stream",
     "text": [
      "Epoch 1/10\n",
      "1491/1500 [============================>.] - ETA: 0s - loss: 0.7068 - accuracy: 0.7809\n",
      "Epoch 00001: val_accuracy improved from -inf to 0.89975, saving model to model_mnist_weights.h5\n",
      "1500/1500 [==============================] - 5s 4ms/step - loss: 0.7049 - accuracy: 0.7816 - val_loss: 0.3472 - val_accuracy: 0.8997\n",
      "Epoch 2/10\n",
      "1496/1500 [============================>.] - ETA: 0s - loss: 0.3347 - accuracy: 0.9046\n",
      "Epoch 00002: val_accuracy improved from 0.89975 to 0.91225, saving model to model_mnist_weights.h5\n",
      "1500/1500 [==============================] - 5s 3ms/step - loss: 0.3348 - accuracy: 0.9046 - val_loss: 0.2950 - val_accuracy: 0.9122\n",
      "Epoch 3/10\n",
      "1498/1500 [============================>.] - ETA: 0s - loss: 0.2975 - accuracy: 0.9163\n",
      "Epoch 00003: val_accuracy improved from 0.91225 to 0.92192, saving model to model_mnist_weights.h5\n",
      "1500/1500 [==============================] - 5s 3ms/step - loss: 0.2974 - accuracy: 0.9162 - val_loss: 0.2710 - val_accuracy: 0.9219\n",
      "Epoch 4/10\n",
      "1499/1500 [============================>.] - ETA: 0s - loss: 0.2767 - accuracy: 0.9214\n",
      "Epoch 00004: val_accuracy improved from 0.92192 to 0.92242, saving model to model_mnist_weights.h5\n",
      "1500/1500 [==============================] - 5s 3ms/step - loss: 0.2765 - accuracy: 0.9214 - val_loss: 0.2665 - val_accuracy: 0.9224\n",
      "Epoch 5/10\n",
      "1493/1500 [============================>.] - ETA: 0s - loss: 0.2635 - accuracy: 0.9254\n",
      "Epoch 00005: val_accuracy improved from 0.92242 to 0.92617, saving model to model_mnist_weights.h5\n",
      "1500/1500 [==============================] - 5s 4ms/step - loss: 0.2634 - accuracy: 0.9255 - val_loss: 0.2557 - val_accuracy: 0.9262\n",
      "Epoch 6/10\n",
      "1492/1500 [============================>.] - ETA: 0s - loss: 0.2537 - accuracy: 0.9281\n",
      "Epoch 00006: val_accuracy improved from 0.92617 to 0.92792, saving model to model_mnist_weights.h5\n",
      "1500/1500 [==============================] - 6s 4ms/step - loss: 0.2535 - accuracy: 0.9282 - val_loss: 0.2473 - val_accuracy: 0.9279\n",
      "Epoch 7/10\n",
      "1483/1500 [============================>.] - ETA: 0s - loss: 0.2463 - accuracy: 0.9296\n",
      "Epoch 00007: val_accuracy improved from 0.92792 to 0.93117, saving model to model_mnist_weights.h5\n",
      "1500/1500 [==============================] - 5s 4ms/step - loss: 0.2472 - accuracy: 0.9294 - val_loss: 0.2401 - val_accuracy: 0.9312\n",
      "Epoch 8/10\n",
      "1493/1500 [============================>.] - ETA: 0s - loss: 0.2407 - accuracy: 0.9312\n",
      "Epoch 00008: val_accuracy did not improve from 0.93117\n",
      "1500/1500 [==============================] - 5s 4ms/step - loss: 0.2406 - accuracy: 0.9312 - val_loss: 0.2414 - val_accuracy: 0.9293\n",
      "Epoch 9/10\n",
      "1490/1500 [============================>.] - ETA: 0s - loss: 0.2356 - accuracy: 0.9328\n",
      "Epoch 00009: val_accuracy improved from 0.93117 to 0.93292, saving model to model_mnist_weights.h5\n",
      "1500/1500 [==============================] - 6s 4ms/step - loss: 0.2355 - accuracy: 0.9328 - val_loss: 0.2350 - val_accuracy: 0.9329\n",
      "Epoch 10/10\n",
      "1483/1500 [============================>.] - ETA: 0s - loss: 0.2311 - accuracy: 0.9345\n",
      "Epoch 00010: val_accuracy improved from 0.93292 to 0.93358, saving model to model_mnist_weights.h5\n",
      "1500/1500 [==============================] - 6s 4ms/step - loss: 0.2311 - accuracy: 0.9346 - val_loss: 0.2337 - val_accuracy: 0.9336\n"
     ]
    }
   ],
   "source": [
    "history = model.fit(train_images,\n",
    "                         train_labels_one_hot,\n",
    "                         epochs=10,\n",
    "                         batch_size=32,\n",
    "                         callbacks=callbacks,\n",
    "                         validation_split=0.2)"
   ]
  },
  {
   "cell_type": "code",
   "execution_count": 21,
   "metadata": {},
   "outputs": [],
   "source": [
    "# 텐서를 CPU에 할당\n",
    "# with tf.device('/GPU:0'):\n",
    "#     history = model.fit(train_images,\n",
    "#                          train_labels_one_hot,\n",
    "#                          epochs=10,\n",
    "#                          batch_size=32,\n",
    "#                          callbacks=callbacks,\n",
    "#                          validation_split=0.2)"
   ]
  },
  {
   "cell_type": "markdown",
   "metadata": {},
   "source": [
    "# 6. 모델 추론"
   ]
  },
  {
   "cell_type": "code",
   "execution_count": 22,
   "metadata": {
    "scrolled": true
   },
   "outputs": [
    {
     "name": "stdout",
     "output_type": "stream",
     "text": [
      "313/313 [==============================] - 1s 3ms/step - loss: 0.2590 - accuracy: 0.9288\n"
     ]
    },
    {
     "data": {
      "text/plain": [
       "[0.2589881718158722, 0.9287999868392944]"
      ]
     },
     "execution_count": 22,
     "metadata": {},
     "output_type": "execute_result"
    }
   ],
   "source": [
    "model.evaluate(test_images, test_labels_one_hot)"
   ]
  },
  {
   "cell_type": "markdown",
   "metadata": {},
   "source": [
    "### [실습]\n",
    "Img_5.jpg 파일을 불러와서 예측하세요\n",
    "testimg = cv2.imread(“./img_5.jpg”, cv2.IMREAD_GRAYSCALE)\n",
    "testimg = testimg.reshape(1,28,28)"
   ]
  },
  {
   "cell_type": "code",
   "execution_count": 23,
   "metadata": {},
   "outputs": [
    {
     "data": {
      "text/plain": [
       "(10000, 28, 28)"
      ]
     },
     "execution_count": 23,
     "metadata": {},
     "output_type": "execute_result"
    }
   ],
   "source": [
    "test_images.shape"
   ]
  },
  {
   "cell_type": "code",
   "execution_count": 24,
   "metadata": {},
   "outputs": [],
   "source": [
    "import cv2"
   ]
  },
  {
   "cell_type": "code",
   "execution_count": 25,
   "metadata": {},
   "outputs": [],
   "source": [
    "testImg = cv2.imread(\"./img_5.jpg\", cv2.IMREAD_GRAYSCALE)"
   ]
  },
  {
   "cell_type": "code",
   "execution_count": 26,
   "metadata": {},
   "outputs": [],
   "source": [
    "testImg = testImg.astype(float)"
   ]
  },
  {
   "cell_type": "code",
   "execution_count": 27,
   "metadata": {},
   "outputs": [],
   "source": [
    "testImg = testImg/255.0"
   ]
  },
  {
   "cell_type": "code",
   "execution_count": 28,
   "metadata": {},
   "outputs": [],
   "source": [
    "testImg = testImg.reshape(1,28,28)"
   ]
  },
  {
   "cell_type": "code",
   "execution_count": 29,
   "metadata": {},
   "outputs": [],
   "source": [
    "answer = model.predict(testImg)"
   ]
  },
  {
   "cell_type": "code",
   "execution_count": 30,
   "metadata": {},
   "outputs": [
    {
     "data": {
      "text/plain": [
       "3"
      ]
     },
     "execution_count": 30,
     "metadata": {},
     "output_type": "execute_result"
    }
   ],
   "source": [
    "np.argmax(answer)"
   ]
  },
  {
   "cell_type": "markdown",
   "metadata": {},
   "source": [
    "# GPU 메모리 해제"
   ]
  },
  {
   "cell_type": "code",
   "execution_count": 31,
   "metadata": {},
   "outputs": [],
   "source": [
    "from tensorflow.keras import backend as K\n",
    "\n",
    "K.clear_session()\n",
    "\n",
    "from numba import cuda\n",
    "cuda.select_device(0)\n",
    "cuda.close()"
   ]
  }
 ],
 "metadata": {
  "kernelspec": {
   "display_name": "Python 3",
   "language": "python",
   "name": "python3"
  },
  "language_info": {
   "codemirror_mode": {
    "name": "ipython",
    "version": 3
   },
   "file_extension": ".py",
   "mimetype": "text/x-python",
   "name": "python",
   "nbconvert_exporter": "python",
   "pygments_lexer": "ipython3",
   "version": "3.7.6"
  }
 },
 "nbformat": 4,
 "nbformat_minor": 4
}
