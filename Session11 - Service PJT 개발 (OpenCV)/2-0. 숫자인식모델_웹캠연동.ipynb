{
 "cells": [
  {
   "cell_type": "markdown",
   "metadata": {},
   "source": [
    "# 1. 라이브러리 선언"
   ]
  },
  {
   "cell_type": "code",
   "execution_count": 1,
   "metadata": {},
   "outputs": [],
   "source": [
    "import tensorflow as tf\n",
    "import cv2\n",
    "import numpy as np\n",
    "import matplotlib.pyplot as plt\n",
    "%matplotlib inline"
   ]
  },
  {
   "cell_type": "markdown",
   "metadata": {},
   "source": [
    "# 2. 이미지 전처리 수행"
   ]
  },
  {
   "cell_type": "code",
   "execution_count": 2,
   "metadata": {},
   "outputs": [],
   "source": [
    "# 인풋 이미지를 불러와서 (28,28,1 형태로 변경, 합성곱 신경망 활용)\n",
    "def process(img_input):\n",
    "    # 이미지 사이즈 변경\n",
    "    IMG_SIZE = 28\n",
    "    # 그레이컬러 변환 및 사이즈 조절 (단 이미 gray인 경우 패스)\n",
    "    if len(testimg.shape) > 2:\n",
    "        img_input = cv2.cvtColor(img_input, cv2.COLOR_BGR2GRAY)\n",
    "    img_input = cv2.resize(img_input, (IMG_SIZE, IMG_SIZE))\n",
    "    # 합성곱 신경망 적용을 위한 설정\n",
    "    out_img = img_input.reshape(1,IMG_SIZE,IMG_SIZE,1)\n",
    "    return out_img"
   ]
  },
  {
   "cell_type": "markdown",
   "metadata": {},
   "source": [
    "# 3. 모델 불러오기"
   ]
  },
  {
   "cell_type": "code",
   "execution_count": 3,
   "metadata": {},
   "outputs": [
    {
     "name": "stdout",
     "output_type": "stream",
     "text": [
      "Model: \"sequential\"\n",
      "_________________________________________________________________\n",
      "Layer (type)                 Output Shape              Param #   \n",
      "=================================================================\n",
      "conv2d (Conv2D)              (None, 28, 28, 32)        320       \n",
      "_________________________________________________________________\n",
      "max_pooling2d (MaxPooling2D) (None, 14, 14, 32)        0         \n",
      "_________________________________________________________________\n",
      "dropout (Dropout)            (None, 14, 14, 32)        0         \n",
      "_________________________________________________________________\n",
      "conv2d_1 (Conv2D)            (None, 14, 14, 32)        9248      \n",
      "_________________________________________________________________\n",
      "max_pooling2d_1 (MaxPooling2 (None, 7, 7, 32)          0         \n",
      "_________________________________________________________________\n",
      "flatten (Flatten)            (None, 1568)              0         \n",
      "_________________________________________________________________\n",
      "dense (Dense)                (None, 5)                 7845      \n",
      "=================================================================\n",
      "Total params: 17,413\n",
      "Trainable params: 17,413\n",
      "Non-trainable params: 0\n",
      "_________________________________________________________________\n"
     ]
    }
   ],
   "source": [
    "import json\n",
    "from tensorflow.keras.models import model_from_json\n",
    "\n",
    "with open('model_mnist.json', 'r') as json_file:\n",
    "    loaded_model = model_from_json(json_file.read())\n",
    "\n",
    "loaded_model.summary()\n",
    "loaded_model.load_weights(\"./model_mnist_weight.h5\")"
   ]
  },
  {
   "cell_type": "code",
   "execution_count": 4,
   "metadata": {},
   "outputs": [],
   "source": [
    "import cv2\n",
    "\n",
    "testimg = cv2.imread(\\\n",
    "     \"./sample_mnist.jpg\", cv2.IMREAD_GRAYSCALE)"
   ]
  },
  {
   "cell_type": "code",
   "execution_count": 5,
   "metadata": {},
   "outputs": [
    {
     "data": {
      "text/plain": [
       "(1, 28, 28, 1)"
      ]
     },
     "execution_count": 5,
     "metadata": {},
     "output_type": "execute_result"
    }
   ],
   "source": [
    "prepro_img = process(testimg)\n",
    "prepro_img.shape"
   ]
  },
  {
   "cell_type": "code",
   "execution_count": 6,
   "metadata": {},
   "outputs": [
    {
     "data": {
      "text/plain": [
       "3"
      ]
     },
     "execution_count": 6,
     "metadata": {},
     "output_type": "execute_result"
    }
   ],
   "source": [
    "predictValue = loaded_model.predict(prepro_img)\n",
    "np.argmax(predictValue)"
   ]
  },
  {
   "cell_type": "markdown",
   "metadata": {},
   "source": [
    "# 4. 웹캠 연동"
   ]
  },
  {
   "cell_type": "code",
   "execution_count": 7,
   "metadata": {},
   "outputs": [
    {
     "name": "stdout",
     "output_type": "stream",
     "text": [
      "cannot reshape array of size 2352 into shape (1,28,28,1)\n",
      "cannot reshape array of size 2352 into shape (1,28,28,1)\n"
     ]
    }
   ],
   "source": [
    "cap = cv2.VideoCapture(0)\n",
    "width = int(cap.get(cv2.CAP_PROP_FRAME_WIDTH))\n",
    "height = int(cap.get(cv2.CAP_PROP_FRAME_HEIGHT))\n",
    "CAP_SIZE = 150\n",
    "while(True):\n",
    "    ret, img_color = cap.read()\n",
    "    if ret == False:\n",
    "        break;\n",
    "    x1= int(width/2-CAP_SIZE/2)\n",
    "    y1=int(height/2-CAP_SIZE/2)\n",
    "    x2= x1+CAP_SIZE\n",
    "    y2= y1+CAP_SIZE\n",
    "    cv2.rectangle(img_color, ( x1,y1 ), ( x2,y2 ),  (0, 0, 255), 3)  \n",
    "    cv2.imshow('bgr', img_color)\n",
    "\n",
    "    img_roi = img_color[y1:y1+CAP_SIZE, x1:x1+CAP_SIZE]\n",
    "    key = cv2.waitKey(33)\n",
    "    # 코드 Here\n",
    "    if key==27: # esc key\n",
    "        cap.release()\n",
    "        cv2.destroyAllWindows()\n",
    "    elif key==32: # space bar key\n",
    "        try:\n",
    "            target_img = process(img_roi)\n",
    "            p_value = loaded_model.predict(target_img)\n",
    "            p_value2 = np.argmax(p_value)\n",
    "            print(p_value2)\n",
    "            cv2.imwrite(\"./test_capture.jpg\", img_roi)\n",
    "        except Exception as e:\n",
    "            print(e)\n",
    "\n",
    "cap.release()\n",
    "cv2.destroyAllWindows()"
   ]
  },
  {
   "cell_type": "code",
   "execution_count": 11,
   "metadata": {},
   "outputs": [],
   "source": [
    "cv2.destroyAllWindows()"
   ]
  },
  {
   "cell_type": "code",
   "execution_count": 28,
   "metadata": {},
   "outputs": [],
   "source": [
    "test = cv2.imread(\"../images/mnist/trainingSet/2_two/img_10247.jpg\", cv2.IMREAD_COLOR)\n",
    "\n",
    "# test = cv2.imread(\"d:/aaa.jpg\", cv2.IMREAD_COLOR)\n",
    "\n",
    "test2 = process(test)\n",
    "\n",
    "test3 = test2.reshape(28,28)*255\n",
    "\n",
    "plt.imshow(test3, cmap=\"gray\")\n",
    "\n",
    "np.argmax(loaded_model.predict(test2.reshape(1,28,28,1)))"
   ]
  },
  {
   "cell_type": "code",
   "execution_count": 8,
   "metadata": {},
   "outputs": [],
   "source": [
    "from tensorflow.keras import backend as K\n",
    "\n",
    "K.clear_session()\n",
    "\n",
    "from numba import cuda\n",
    "cuda.select_device(0)\n",
    "cuda.close()"
   ]
  }
 ],
 "metadata": {
  "kernelspec": {
   "display_name": "Python 3",
   "language": "python",
   "name": "python3"
  },
  "language_info": {
   "codemirror_mode": {
    "name": "ipython",
    "version": 3
   },
   "file_extension": ".py",
   "mimetype": "text/x-python",
   "name": "python",
   "nbconvert_exporter": "python",
   "pygments_lexer": "ipython3",
   "version": "3.7.6"
  }
 },
 "nbformat": 4,
 "nbformat_minor": 4
}
