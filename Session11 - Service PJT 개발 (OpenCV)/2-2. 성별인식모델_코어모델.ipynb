{
 "cells": [
  {
   "cell_type": "markdown",
   "metadata": {},
   "source": [
    "### 1. 라이브러리 불러오기"
   ]
  },
  {
   "cell_type": "markdown",
   "metadata": {},
   "source": [
    "일반 CPU 활용 시"
   ]
  },
  {
   "cell_type": "code",
   "execution_count": 1,
   "metadata": {},
   "outputs": [],
   "source": [
    "# import tensorflow as tf\n",
    "\n",
    "# gpus = tf.config.experimental.list_physical_devices('GPU')\n",
    "\n",
    "# gpus"
   ]
  },
  {
   "cell_type": "code",
   "execution_count": 2,
   "metadata": {},
   "outputs": [],
   "source": [
    "# if gpus:\n",
    "#     # 텐서플로가 첫 번째 GPU만 사용하도록 제한\n",
    "#     try:\n",
    "#         tf.config.experimental.set_visible_devices(gpus[0], 'GPU')\n",
    "#     except RuntimeError as e:\n",
    "#     # 프로그램 시작시에 접근 가능한 장치가 설정되어야만 합니다\n",
    "#         print(e)"
   ]
  },
  {
   "cell_type": "code",
   "execution_count": 3,
   "metadata": {},
   "outputs": [],
   "source": [
    "# from tensorflow.keras import backend as K\n",
    "\n",
    "# K.clear_session()\n",
    "\n",
    "# from numba import cuda\n",
    "# cuda.select_device()\n",
    "# cuda.close()"
   ]
  },
  {
   "cell_type": "code",
   "execution_count": 4,
   "metadata": {
    "scrolled": true
   },
   "outputs": [],
   "source": [
    "# 라이브러리 정의 \n",
    "from tensorflow import keras\n",
    "from tensorflow.keras import layers\n",
    "import numpy as np\n",
    "import pandas as pd"
   ]
  },
  {
   "cell_type": "markdown",
   "metadata": {},
   "source": [
    "cuda nvidia gpu 활용 시"
   ]
  },
  {
   "cell_type": "code",
   "execution_count": 5,
   "metadata": {
    "scrolled": true
   },
   "outputs": [
    {
     "name": "stdout",
     "output_type": "stream",
     "text": [
      "[name: \"/device:CPU:0\"\n",
      "device_type: \"CPU\"\n",
      "memory_limit: 268435456\n",
      "locality {\n",
      "}\n",
      "incarnation: 17636340868462707140\n",
      ", name: \"/device:XLA_CPU:0\"\n",
      "device_type: \"XLA_CPU\"\n",
      "memory_limit: 17179869184\n",
      "locality {\n",
      "}\n",
      "incarnation: 16308863054327063236\n",
      "physical_device_desc: \"device: XLA_CPU device\"\n",
      ", name: \"/device:GPU:0\"\n",
      "device_type: \"GPU\"\n",
      "memory_limit: 1434376601\n",
      "locality {\n",
      "  bus_id: 1\n",
      "  links {\n",
      "  }\n",
      "}\n",
      "incarnation: 11628062299786352704\n",
      "physical_device_desc: \"device: 0, name: GeForce GTX 950M, pci bus id: 0000:01:00.0, compute capability: 5.0\"\n",
      ", name: \"/device:XLA_GPU:0\"\n",
      "device_type: \"XLA_GPU\"\n",
      "memory_limit: 17179869184\n",
      "locality {\n",
      "}\n",
      "incarnation: 12750603627372452262\n",
      "physical_device_desc: \"device: XLA_GPU device\"\n",
      "]\n"
     ]
    }
   ],
   "source": [
    "# How to check if the code is running on GPU or CPU?\n",
    "\n",
    "from tensorflow.python.client import device_lib\n",
    "\n",
    "print(device_lib.list_local_devices())\n",
    "\n",
    "import os\n",
    "os.environ[\"CUDA_VISIBLE_DEVICES\"]=\"1\""
   ]
  },
  {
   "cell_type": "markdown",
   "metadata": {},
   "source": [
    "intel gpu 활용 시"
   ]
  },
  {
   "cell_type": "code",
   "execution_count": 6,
   "metadata": {
    "scrolled": true
   },
   "outputs": [],
   "source": [
    "# import numpy as np\n",
    "# import os\n",
    "\n",
    "# # intel gpu 적용\n",
    "# os.environ[\"KERAS_BACKEND\"] = \"plaidml.keras.backend\"\n",
    "# import keras\n",
    "# # mnist 데이터셋 \n",
    "# from keras.datasets import mnist\n"
   ]
  },
  {
   "cell_type": "code",
   "execution_count": 7,
   "metadata": {},
   "outputs": [],
   "source": [
    "import warnings\n",
    "warnings.filterwarnings(action=\"ignore\")"
   ]
  },
  {
   "cell_type": "code",
   "execution_count": 8,
   "metadata": {},
   "outputs": [],
   "source": [
    "# 일반 CPU 활용\n",
    "import pandas as pd\n",
    "import numpy as np\n",
    "import cv2\n",
    "import os\n",
    "import matplotlib.pyplot as plt\n",
    "from tensorflow import keras\n",
    "%matplotlib inline"
   ]
  },
  {
   "cell_type": "markdown",
   "metadata": {},
   "source": [
    "### 2. 데이터 불러오기 및 분리"
   ]
  },
  {
   "cell_type": "code",
   "execution_count": 9,
   "metadata": {},
   "outputs": [],
   "source": [
    "imageList = []\n",
    "labelList = []\n",
    "IMG_SIZE = 48"
   ]
  },
  {
   "cell_type": "code",
   "execution_count": 10,
   "metadata": {},
   "outputs": [],
   "source": [
    "basedir = \"../images/gender\""
   ]
  },
  {
   "cell_type": "code",
   "execution_count": 11,
   "metadata": {},
   "outputs": [
    {
     "data": {
      "text/plain": [
       "['0', '1']"
      ]
     },
     "execution_count": 11,
     "metadata": {},
     "output_type": "execute_result"
    }
   ],
   "source": [
    "categories = os.listdir(basedir)\n",
    "categories"
   ]
  },
  {
   "cell_type": "code",
   "execution_count": 12,
   "metadata": {},
   "outputs": [
    {
     "name": "stdout",
     "output_type": "stream",
     "text": [
      "0\n",
      "1\n"
     ]
    }
   ],
   "source": [
    "# 폴더 순환\n",
    "for i in range(0, len(categories)):\n",
    "    labelPath = os.path.join(basedir, categories[i])\n",
    "    imagePath = os.listdir(labelPath)\n",
    "    print(i)\n",
    "    \n",
    "    # 이미지 순환\n",
    "    for j in range(0, len(imagePath)):\n",
    "        imageFullPath = os.path.join(labelPath, imagePath[j])\n",
    "        # 이미지 로드 오류 시, 에러로깅\n",
    "        try:\n",
    "            baseImg = cv2.imread(imageFullPath, cv2.IMREAD_GRAYSCALE)\n",
    "\n",
    "            ### 1. 이미지 사이즈 변경\n",
    "            refinedImg = cv2.resize(baseImg, (IMG_SIZE,IMG_SIZE))\n",
    "\n",
    "            #plt.imshow(refinedImg, cmap=\"gray\")\n",
    "            imageList.append(refinedImg)\n",
    "            labelList.append(i)\n",
    "        except Exception as e:\n",
    "            print(e, imageFullPath)\n",
    "            pass"
   ]
  },
  {
   "cell_type": "code",
   "execution_count": 13,
   "metadata": {},
   "outputs": [],
   "source": [
    "# 리스트는 어펜드시키기 편하고 빠르다.\n",
    "# 어레이도 느리진 않은데 미리 크기를 선언해주어야 하므로\n",
    "# 리스트로 만들어 어펜드 시킨후 어레이로 변환 시켜 준다.\n",
    "imageArray = np.array(imageList)\n",
    "labelArray = np.array(labelList)"
   ]
  },
  {
   "cell_type": "code",
   "execution_count": 14,
   "metadata": {},
   "outputs": [
    {
     "name": "stdout",
     "output_type": "stream",
     "text": [
      "(23708, 48, 48)\n",
      "(23708,)\n"
     ]
    }
   ],
   "source": [
    "print(imageArray.shape)\n",
    "print(labelArray.shape)"
   ]
  },
  {
   "cell_type": "code",
   "execution_count": 15,
   "metadata": {},
   "outputs": [],
   "source": [
    "from sklearn.model_selection import train_test_split"
   ]
  },
  {
   "cell_type": "code",
   "execution_count": 16,
   "metadata": {},
   "outputs": [],
   "source": [
    "trainingData_features,\\\n",
    "testData_features,\\\n",
    "trainingData_labels,\\\n",
    "testData_labels = \\\n",
    "train_test_split(imageArray, labelArray, test_size=0.2, random_state=2)"
   ]
  },
  {
   "cell_type": "code",
   "execution_count": 17,
   "metadata": {},
   "outputs": [
    {
     "name": "stdout",
     "output_type": "stream",
     "text": [
      "(18966, 48, 48)\n",
      "(4742, 48, 48)\n",
      "(18966,)\n",
      "(4742,)\n"
     ]
    }
   ],
   "source": [
    "print(trainingData_features.shape)\n",
    "print(testData_features.shape)\n",
    "print(trainingData_labels.shape)\n",
    "print(testData_labels.shape)"
   ]
  },
  {
   "cell_type": "code",
   "execution_count": 18,
   "metadata": {},
   "outputs": [],
   "source": [
    "trainingData_features = trainingData_features.reshape(len(trainingData_features), \n",
    "                              IMG_SIZE, \n",
    "                              IMG_SIZE, \n",
    "                              1)\n",
    "testData_features = testData_features.reshape(len(testData_features), \n",
    "                          IMG_SIZE, \n",
    "                          IMG_SIZE, \n",
    "                          1)"
   ]
  },
  {
   "cell_type": "code",
   "execution_count": 19,
   "metadata": {},
   "outputs": [
    {
     "name": "stdout",
     "output_type": "stream",
     "text": [
      "(18966, 48, 48, 1)\n",
      "(4742, 48, 48, 1)\n",
      "(18966,)\n",
      "(4742,)\n"
     ]
    }
   ],
   "source": [
    "print(trainingData_features.shape)\n",
    "print(testData_features.shape)\n",
    "print(trainingData_labels.shape)\n",
    "print(testData_labels.shape)"
   ]
  },
  {
   "cell_type": "code",
   "execution_count": 20,
   "metadata": {},
   "outputs": [],
   "source": [
    "trainingData_features_norm = trainingData_features/255.0\n",
    "testData_features_norm = testData_features/255.0"
   ]
  },
  {
   "cell_type": "code",
   "execution_count": 21,
   "metadata": {},
   "outputs": [],
   "source": [
    "### 정답지는 softmax랑 결합을 위한 onehot encoding"
   ]
  },
  {
   "cell_type": "code",
   "execution_count": 22,
   "metadata": {},
   "outputs": [],
   "source": [
    "from tensorflow.keras.utils import to_categorical"
   ]
  },
  {
   "cell_type": "code",
   "execution_count": 23,
   "metadata": {},
   "outputs": [],
   "source": [
    "trainingData_labels_one = to_categorical(trainingData_labels)\n",
    "testData_labels_one = to_categorical(testData_labels)"
   ]
  },
  {
   "cell_type": "code",
   "execution_count": 24,
   "metadata": {},
   "outputs": [
    {
     "data": {
      "text/plain": [
       "array([1., 0.], dtype=float32)"
      ]
     },
     "execution_count": 24,
     "metadata": {},
     "output_type": "execute_result"
    }
   ],
   "source": [
    "trainingData_labels_one[0]"
   ]
  },
  {
   "cell_type": "markdown",
   "metadata": {},
   "source": [
    "### 3. 모델 생성"
   ]
  },
  {
   "cell_type": "code",
   "execution_count": 25,
   "metadata": {},
   "outputs": [
    {
     "data": {
      "text/plain": [
       "(48, 48, 1)"
      ]
     },
     "execution_count": 25,
     "metadata": {},
     "output_type": "execute_result"
    }
   ],
   "source": [
    "inputShape = trainingData_features[0].shape\n",
    "inputShape"
   ]
  },
  {
   "cell_type": "code",
   "execution_count": 26,
   "metadata": {},
   "outputs": [
    {
     "data": {
      "text/plain": [
       "2"
      ]
     },
     "execution_count": 26,
     "metadata": {},
     "output_type": "execute_result"
    }
   ],
   "source": [
    "outputShape = len(categories)\n",
    "outputShape"
   ]
  },
  {
   "cell_type": "code",
   "execution_count": 27,
   "metadata": {},
   "outputs": [],
   "source": [
    "from tensorflow.keras import Sequential\n",
    "from tensorflow.keras.layers import Dense, Conv2D, MaxPool2D, Flatten, Dropout"
   ]
  },
  {
   "cell_type": "code",
   "execution_count": 28,
   "metadata": {},
   "outputs": [],
   "source": [
    "# 모델 생성 시작\n",
    "model = Sequential()"
   ]
  },
  {
   "cell_type": "code",
   "execution_count": 29,
   "metadata": {},
   "outputs": [],
   "source": [
    "model.add(Conv2D(filters=32, \n",
    "                 kernel_size=3, \n",
    "                 padding=\"same\",\n",
    "                 activation=\"relu\",\n",
    "                input_shape=inputShape))"
   ]
  },
  {
   "cell_type": "code",
   "execution_count": 30,
   "metadata": {},
   "outputs": [],
   "source": [
    "model.add(MaxPool2D(pool_size=2))"
   ]
  },
  {
   "cell_type": "code",
   "execution_count": 31,
   "metadata": {},
   "outputs": [],
   "source": [
    "model.add(Dropout(rate=0.4))"
   ]
  },
  {
   "cell_type": "code",
   "execution_count": 32,
   "metadata": {},
   "outputs": [],
   "source": [
    "model.add(Conv2D(filters=32, \n",
    "                 kernel_size=3, \n",
    "                 padding=\"same\",\n",
    "                 activation=\"relu\",\n",
    "                input_shape=inputShape))"
   ]
  },
  {
   "cell_type": "code",
   "execution_count": 33,
   "metadata": {},
   "outputs": [],
   "source": [
    "model.add(MaxPool2D(pool_size=2))"
   ]
  },
  {
   "cell_type": "code",
   "execution_count": 34,
   "metadata": {},
   "outputs": [],
   "source": [
    "model.add(Flatten())"
   ]
  },
  {
   "cell_type": "code",
   "execution_count": 35,
   "metadata": {},
   "outputs": [],
   "source": [
    "model.add(Dense(units=outputShape, activation=\"softmax\"))"
   ]
  },
  {
   "cell_type": "code",
   "execution_count": 36,
   "metadata": {},
   "outputs": [
    {
     "name": "stdout",
     "output_type": "stream",
     "text": [
      "Model: \"sequential\"\n",
      "_________________________________________________________________\n",
      "Layer (type)                 Output Shape              Param #   \n",
      "=================================================================\n",
      "conv2d (Conv2D)              (None, 48, 48, 32)        320       \n",
      "_________________________________________________________________\n",
      "max_pooling2d (MaxPooling2D) (None, 24, 24, 32)        0         \n",
      "_________________________________________________________________\n",
      "dropout (Dropout)            (None, 24, 24, 32)        0         \n",
      "_________________________________________________________________\n",
      "conv2d_1 (Conv2D)            (None, 24, 24, 32)        9248      \n",
      "_________________________________________________________________\n",
      "max_pooling2d_1 (MaxPooling2 (None, 12, 12, 32)        0         \n",
      "_________________________________________________________________\n",
      "flatten (Flatten)            (None, 4608)              0         \n",
      "_________________________________________________________________\n",
      "dense (Dense)                (None, 2)                 9218      \n",
      "=================================================================\n",
      "Total params: 18,786\n",
      "Trainable params: 18,786\n",
      "Non-trainable params: 0\n",
      "_________________________________________________________________\n"
     ]
    }
   ],
   "source": [
    "model.summary()"
   ]
  },
  {
   "cell_type": "code",
   "execution_count": 37,
   "metadata": {},
   "outputs": [],
   "source": [
    "from tensorflow.keras.utils import plot_model"
   ]
  },
  {
   "cell_type": "code",
   "execution_count": 38,
   "metadata": {},
   "outputs": [
    {
     "data": {
      "image/png": "[encoded data removed]",
      "text/plain": [
       "<IPython.core.display.Image object>"
      ]
     },
     "execution_count": 38,
     "metadata": {},
     "output_type": "execute_result"
    }
   ],
   "source": [
    "plot_model(model)"
   ]
  },
  {
   "cell_type": "markdown",
   "metadata": {},
   "source": [
    "### 4. 모델 컴파일"
   ]
  },
  {
   "cell_type": "code",
   "execution_count": 39,
   "metadata": {},
   "outputs": [],
   "source": [
    "# 이름이 기억 안나면 keras.losses. 쭉 나온다.\n",
    "# 마찬가지로 옵티마이저도 keras.optimizer. 치면 나온다.\n",
    "model.compile(loss=\"categorical_crossentropy\",\n",
    "             optimizer=\"adam\",\n",
    "             metrics=[\"accuracy\"])"
   ]
  },
  {
   "cell_type": "markdown",
   "metadata": {},
   "source": [
    "### 5. 모델학습(훈련)"
   ]
  },
  {
   "cell_type": "code",
   "execution_count": 40,
   "metadata": {},
   "outputs": [],
   "source": [
    "epochNo = 5"
   ]
  },
  {
   "cell_type": "code",
   "execution_count": 41,
   "metadata": {},
   "outputs": [
    {
     "name": "stdout",
     "output_type": "stream",
     "text": [
      "Epoch 1/5\n",
      "593/593 [==============================] - 9s 16ms/step - loss: 0.4984 - accuracy: 0.7527 - val_loss: 0.4374 - val_accuracy: 0.7875ETA: 0s -\n",
      "Epoch 2/5\n",
      "593/593 [==============================] - 12s 20ms/step - loss: 0.3734 - accuracy: 0.8366 - val_loss: 0.3415 - val_accuracy: 0.8546\n",
      "Epoch 3/5\n",
      "593/593 [==============================] - 9s 15ms/step - loss: 0.3379 - accuracy: 0.8550 - val_loss: 0.3111 - val_accuracy: 0.8697\n",
      "Epoch 4/5\n",
      "593/593 [==============================] - 9s 15ms/step - loss: 0.3176 - accuracy: 0.8614 - val_loss: 0.2903 - val_accuracy: 0.8798\n",
      "Epoch 5/5\n",
      "593/593 [==============================] - 9s 15ms/step - loss: 0.2992 - accuracy: 0.8726 - val_loss: 0.2754 - val_accuracy: 0.8854\n"
     ]
    },
    {
     "data": {
      "text/plain": [
       "<tensorflow.python.keras.callbacks.History at 0x15330b08808>"
      ]
     },
     "execution_count": 41,
     "metadata": {},
     "output_type": "execute_result"
    }
   ],
   "source": [
    "model.fit(x=trainingData_features_norm, \n",
    "          y=trainingData_labels_one,\n",
    "          epochs=epochNo,\n",
    "          batch_size=32,\n",
    "          validation_data=(trainingData_features_norm,trainingData_labels_one))"
   ]
  },
  {
   "cell_type": "markdown",
   "metadata": {},
   "source": [
    "### 6. 모델 추론"
   ]
  },
  {
   "cell_type": "code",
   "execution_count": 42,
   "metadata": {},
   "outputs": [
    {
     "name": "stdout",
     "output_type": "stream",
     "text": [
      "149/149 [==============================] - 1s 6ms/step - loss: 0.2994 - accuracy: 0.8766\n"
     ]
    },
    {
     "data": {
      "text/plain": [
       "[0.29938188195228577, 0.8766343593597412]"
      ]
     },
     "execution_count": 42,
     "metadata": {},
     "output_type": "execute_result"
    }
   ],
   "source": [
    "model.evaluate(x=testData_features_norm,\n",
    "               y=testData_labels_one)"
   ]
  },
  {
   "cell_type": "markdown",
   "metadata": {},
   "source": [
    "### 7. 모델 예측"
   ]
  },
  {
   "cell_type": "code",
   "execution_count": 43,
   "metadata": {},
   "outputs": [],
   "source": [
    "def refineimage(testImg):\n",
    "    IMG_SIZE = 48\n",
    "    # 컬러이미지 -> 회색톤으로 변경\n",
    "    img_gray = cv2.cvtColor(testImg, cv2.COLOR_RGB2GRAY)\n",
    "\n",
    "    # 사이즈 조정\n",
    "    img_resize = cv2.resize(img_gray, (IMG_SIZE, IMG_SIZE))\n",
    "\n",
    "    ### Shape 변경\n",
    "    img_shape = img_resize.reshape(1, IMG_SIZE, IMG_SIZE, 1)\n",
    "\n",
    "    img_norm = img_shape/255.0\n",
    "    \n",
    "    return img_norm"
   ]
  },
  {
   "cell_type": "code",
   "execution_count": 44,
   "metadata": {},
   "outputs": [
    {
     "data": {
      "text/plain": [
       "1"
      ]
     },
     "execution_count": 44,
     "metadata": {},
     "output_type": "execute_result"
    }
   ],
   "source": [
    "testData = cv2.imread(\"./sample_gender.jpg\", cv2.IMREAD_COLOR)\n",
    "refinedImageOne = refineimage(testData)\n",
    "#refinedImageOne\n",
    "#plt.imshow(refinedImageOne, cmap = \"gray\")\n",
    "np.argmax(model.predict(refinedImageOne))"
   ]
  },
  {
   "cell_type": "markdown",
   "metadata": {},
   "source": [
    "### 검증 테스트"
   ]
  },
  {
   "cell_type": "code",
   "execution_count": 45,
   "metadata": {
    "scrolled": true
   },
   "outputs": [
    {
     "name": "stdout",
     "output_type": "stream",
     "text": [
      "0\n",
      "1\n",
      "0\n",
      "1\n",
      "1\n",
      "1\n",
      "1\n",
      "0\n",
      "1\n",
      "1\n"
     ]
    }
   ],
   "source": [
    "# 폴더 순환\n",
    "\n",
    "labelPath = os.path.join(basedir, categories[1])\n",
    "imagePath = os.listdir(labelPath)\n",
    "imagePath\n",
    "\n",
    "# 이미지 순환\n",
    "for j in range(0, 10):\n",
    "    imageFullPath = os.path.join(labelPath, imagePath[j])\n",
    "    \n",
    "    # 이미지 로드 오류 시, 에러로깅\n",
    "    try:\n",
    "        testData = cv2.imread(imageFullPath, cv2.IMREAD_COLOR)\n",
    "        testData.shape\n",
    "        refinedImageOne = refineimage(testData)\n",
    "        print(np.argmax(model.predict(refinedImageOne)))\n",
    "\n",
    "    except Exception as e:\n",
    "        print(e, imageFullPath)\n",
    "        pass"
   ]
  },
  {
   "cell_type": "markdown",
   "metadata": {},
   "source": [
    "### 8. 모델 저장"
   ]
  },
  {
   "cell_type": "code",
   "execution_count": 46,
   "metadata": {},
   "outputs": [],
   "source": [
    "### 모델 구조 저장\n",
    "model_json = model.to_json()"
   ]
  },
  {
   "cell_type": "code",
   "execution_count": 47,
   "metadata": {},
   "outputs": [],
   "source": [
    "with open(\"d:/model_gender.json\",\"w\") as jsonfile:\n",
    "        jsonfile.write(model_json)"
   ]
  },
  {
   "cell_type": "code",
   "execution_count": 48,
   "metadata": {},
   "outputs": [],
   "source": [
    "model.save_weights(\"d:/model_gender_weight.h5\")"
   ]
  },
  {
   "cell_type": "code",
   "execution_count": 50,
   "metadata": {},
   "outputs": [],
   "source": [
    "from tensorflow.keras import backend as K\n",
    "\n",
    "K.clear_session()\n",
    "\n",
    "from numba import cuda\n",
    "cuda.select_device(0)\n",
    "cuda.close()"
   ]
  }
 ],
 "metadata": {
  "kernelspec": {
   "display_name": "Python 3",
   "language": "python",
   "name": "python3"
  },
  "language_info": {
   "codemirror_mode": {
    "name": "ipython",
    "version": 3
   },
   "file_extension": ".py",
   "mimetype": "text/x-python",
   "name": "python",
   "nbconvert_exporter": "python",
   "pygments_lexer": "ipython3",
   "version": "3.7.6"
  }
 },
 "nbformat": 4,
 "nbformat_minor": 4
}
