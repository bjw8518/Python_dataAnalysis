{
 "cells": [
  {
   "cell_type": "code",
   "execution_count": 1,
   "metadata": {},
   "outputs": [],
   "source": [
    "import os\n",
    "import pandas as pd\n",
    "import numpy as np\n",
    "import cv2\n",
    "\n",
    "from tensorflow.keras.applications.vgg16 import VGG16\n",
    "from tensorflow.keras.layers import Input, Flatten, Dense\n",
    "from tensorflow.keras.models import Model\n",
    "from tensorflow.keras.datasets import mnist"
   ]
  },
  {
   "cell_type": "code",
   "execution_count": 2,
   "metadata": {},
   "outputs": [
    {
     "ename": "NameError",
     "evalue": "name 'x_train' is not defined",
     "output_type": "error",
     "traceback": [
      "\u001b[1;31m---------------------------------------------------------------------------\u001b[0m",
      "\u001b[1;31mNameError\u001b[0m                                 Traceback (most recent call last)",
      "\u001b[1;32mc:\\Users\\bjw85\\Documents\\WORKSPACE\\Python_dataAnalysis\\BJW_learning\\Transfer.ipynb 셀 2\u001b[0m line \u001b[0;36m1\n\u001b[1;32m----> <a href='vscode-notebook-cell:/c%3A/Users/bjw85/Documents/WORKSPACE/Python_dataAnalysis/BJW_learning/Transfer.ipynb#W1sZmlsZQ%3D%3D?line=0'>1</a>\u001b[0m inputShape \u001b[39m=\u001b[39m x_train[\u001b[39m0\u001b[39m]\u001b[39m.\u001b[39mshape\n\u001b[0;32m      <a href='vscode-notebook-cell:/c%3A/Users/bjw85/Documents/WORKSPACE/Python_dataAnalysis/BJW_learning/Transfer.ipynb#W1sZmlsZQ%3D%3D?line=1'>2</a>\u001b[0m inputShape\n\u001b[0;32m      <a href='vscode-notebook-cell:/c%3A/Users/bjw85/Documents/WORKSPACE/Python_dataAnalysis/BJW_learning/Transfer.ipynb#W1sZmlsZQ%3D%3D?line=3'>4</a>\u001b[0m outputShape \u001b[39m=\u001b[39m \u001b[39mlen\u001b[39m(np\u001b[39m.\u001b[39munique(y_train))\n",
      "\u001b[1;31mNameError\u001b[0m: name 'x_train' is not defined"
     ]
    }
   ],
   "source": [
    "inputShape = x_train[0].shape\n",
    "inputShape\n",
    "\n",
    "outputShape = len(np.unique(y_train))\n",
    "outputShape\n",
    "\n",
    "vgg_model = VGG16(weights=None, include_top=False)\n",
    "vgg_model.summary()\n",
    "\n"
   ]
  },
  {
   "cell_type": "code",
   "execution_count": null,
   "metadata": {},
   "outputs": [],
   "source": [
    "\n",
    "keras_input = Input(shape=inputShape, name = 'custom_input')\n",
    "keras_input.shape\n",
    "\n",
    "vgg_model_c = vgg_model(inputs=keras_input)\n",
    "\n",
    "\n",
    "x = Flatten(name='flatten')(vgg_model_c)\n",
    "x = Dense(64, activation=\"relu\", name='custom_1')(x)\n",
    "x = Dense(64, activation=\"relu\", name='custom_2')(x)\n",
    "x = Dense(outputShape, activation='softmax', name='prediction')(x)\n",
    "\n",
    "# 커스텀 모델 생성\n",
    "pretrained_model = Model(inputs=keras_input, outputs=x)\n",
    "pretrained_model.summary()\n"
   ]
  },
  {
   "cell_type": "code",
   "execution_count": null,
   "metadata": {},
   "outputs": [],
   "source": [
    "pretrained_model.compile(loss=\"categorical_crossentropy\", \n",
    "                        optimizer= \"adam\",\n",
    "                        metrics=[\"accuracy\"] )\n"
   ]
  },
  {
   "cell_type": "code",
   "execution_count": null,
   "metadata": {},
   "outputs": [],
   "source": [
    "epochs = 10\n",
    "pretrained_model.fit(x=x_train,\n",
    "                     y=y_train_one,\n",
    "                    epochs=10,\n",
    "                    validation_data = (x_test, y_test_one))\n"
   ]
  },
  {
   "cell_type": "code",
   "execution_count": null,
   "metadata": {},
   "outputs": [],
   "source": [
    "from tenserflow.keras.utils import to_categorical\n",
    "y_train_one = to_categorical(y_train)\n",
    "y_test_one = to_categorical(y_test)"
   ]
  },
  {
   "cell_type": "code",
   "execution_count": null,
   "metadata": {},
   "outputs": [],
   "source": [
    "inputShape = x_train[0].shape\n",
    "inputShape\n",
    "\n",
    "outputShape = len(np.unique(y_train))\n",
    "outputShape\n",
    "\n",
    "vgg_model = VGG16(weights=None, include_top=False)\n",
    "vgg_model = ."
   ]
  },
  {
   "cell_type": "code",
   "execution_count": null,
   "metadata": {},
   "outputs": [],
   "source": []
  }
 ],
 "metadata": {
  "kernelspec": {
   "display_name": "base",
   "language": "python",
   "name": "python3"
  },
  "language_info": {
   "codemirror_mode": {
    "name": "ipython",
    "version": 3
   },
   "file_extension": ".py",
   "mimetype": "text/x-python",
   "name": "python",
   "nbconvert_exporter": "python",
   "pygments_lexer": "ipython3",
   "version": "3.11.4"
  }
 },
 "nbformat": 4,
 "nbformat_minor": 2
}
