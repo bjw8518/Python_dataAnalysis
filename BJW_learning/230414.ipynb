{
 "cells": [
  {
   "cell_type": "code",
   "execution_count": 69,
   "metadata": {},
   "outputs": [],
   "source": [
    "# Pandas 패키지 불러오기\n",
    "import pandas as pd\n",
    "import numpy as np\n",
    "\n",
    "# CSV 파일을 읽어 Data Frame 변수에 저장하기\n",
    "customerData = pd.read_csv(\"../dataset/customerdata.csv\")"
   ]
  },
  {
   "cell_type": "code",
   "execution_count": 53,
   "metadata": {},
   "outputs": [],
   "source": [
    "customerData[\"PRODUCTAGE_NEW\"]=\\\n",
    "np.where(customerData.PRODUCTAGE<= 1, 1,\\\n",
    "    np.where(customerData.PRODUCTAGE<=2,2,3))\n",
    "#PRODUCTAGE < 1 경우 1 그외에는 기존값\n"
   ]
  },
  {
   "cell_type": "code",
   "execution_count": 54,
   "metadata": {},
   "outputs": [],
   "source": [
    "customerData[\"PRODUCTAGE_NEW\"] = np.where(customerData.PRODUCTAGE < 1, 1,0)"
   ]
  },
  {
   "cell_type": "code",
   "execution_count": 55,
   "metadata": {},
   "outputs": [
    {
     "data": {
      "text/html": [
       "<div>\n",
       "<style scoped>\n",
       "    .dataframe tbody tr th:only-of-type {\n",
       "        vertical-align: middle;\n",
       "    }\n",
       "\n",
       "    .dataframe tbody tr th {\n",
       "        vertical-align: top;\n",
       "    }\n",
       "\n",
       "    .dataframe thead th {\n",
       "        text-align: right;\n",
       "    }\n",
       "</style>\n",
       "<table border=\"1\" class=\"dataframe\">\n",
       "  <thead>\n",
       "    <tr style=\"text-align: right;\">\n",
       "      <th></th>\n",
       "      <th>CUSTID</th>\n",
       "      <th>AVGPRICE</th>\n",
       "      <th>EMI</th>\n",
       "      <th>DEVICECOUNT</th>\n",
       "      <th>PRODUCTAGE</th>\n",
       "      <th>CUSTTYPE</th>\n",
       "      <th>PRODUCTAGE_NEW</th>\n",
       "    </tr>\n",
       "  </thead>\n",
       "  <tbody>\n",
       "    <tr>\n",
       "      <th>0</th>\n",
       "      <td>A13566</td>\n",
       "      <td>4273.9</td>\n",
       "      <td>3</td>\n",
       "      <td>6</td>\n",
       "      <td>1.679181</td>\n",
       "      <td>Big-Screen-lover</td>\n",
       "      <td>0</td>\n",
       "    </tr>\n",
       "  </tbody>\n",
       "</table>\n",
       "</div>"
      ],
      "text/plain": [
       "   CUSTID  AVGPRICE  EMI  DEVICECOUNT  PRODUCTAGE          CUSTTYPE  \\\n",
       "0  A13566    4273.9    3            6    1.679181  Big-Screen-lover   \n",
       "\n",
       "   PRODUCTAGE_NEW  \n",
       "0               0  "
      ]
     },
     "execution_count": 55,
     "metadata": {},
     "output_type": "execute_result"
    }
   ],
   "source": [
    "customerData.loc[customerData.CUSTID==\"A13566\"]"
   ]
  },
  {
   "cell_type": "code",
   "execution_count": 56,
   "metadata": {},
   "outputs": [],
   "source": [
    "customerData.loc[customerData.CUSTID==\"A13566\", \"EMI\"] = 10"
   ]
  },
  {
   "cell_type": "code",
   "execution_count": 57,
   "metadata": {},
   "outputs": [
    {
     "data": {
      "text/html": [
       "<div>\n",
       "<style scoped>\n",
       "    .dataframe tbody tr th:only-of-type {\n",
       "        vertical-align: middle;\n",
       "    }\n",
       "\n",
       "    .dataframe tbody tr th {\n",
       "        vertical-align: top;\n",
       "    }\n",
       "\n",
       "    .dataframe thead th {\n",
       "        text-align: right;\n",
       "    }\n",
       "</style>\n",
       "<table border=\"1\" class=\"dataframe\">\n",
       "  <thead>\n",
       "    <tr style=\"text-align: right;\">\n",
       "      <th></th>\n",
       "      <th>CUSTID</th>\n",
       "      <th>AVGPRICE</th>\n",
       "      <th>EMI</th>\n",
       "      <th>DEVICECOUNT</th>\n",
       "      <th>PRODUCTAGE</th>\n",
       "      <th>CUSTTYPE</th>\n",
       "      <th>PRODUCTAGE_NEW</th>\n",
       "    </tr>\n",
       "  </thead>\n",
       "  <tbody>\n",
       "    <tr>\n",
       "      <th>0</th>\n",
       "      <td>A13566</td>\n",
       "      <td>4273.900000</td>\n",
       "      <td>10</td>\n",
       "      <td>6</td>\n",
       "      <td>1.679181</td>\n",
       "      <td>Big-Screen-lover</td>\n",
       "      <td>0</td>\n",
       "    </tr>\n",
       "    <tr>\n",
       "      <th>1</th>\n",
       "      <td>A14219</td>\n",
       "      <td>3642.441950</td>\n",
       "      <td>2</td>\n",
       "      <td>4</td>\n",
       "      <td>2.682023</td>\n",
       "      <td>Sleeping-dog</td>\n",
       "      <td>0</td>\n",
       "    </tr>\n",
       "    <tr>\n",
       "      <th>2</th>\n",
       "      <td>A15312</td>\n",
       "      <td>3653.884565</td>\n",
       "      <td>2</td>\n",
       "      <td>5</td>\n",
       "      <td>3.208202</td>\n",
       "      <td>Sleeping-dog</td>\n",
       "      <td>0</td>\n",
       "    </tr>\n",
       "    <tr>\n",
       "      <th>4</th>\n",
       "      <td>B10634</td>\n",
       "      <td>3391.074215</td>\n",
       "      <td>2</td>\n",
       "      <td>4</td>\n",
       "      <td>2.453656</td>\n",
       "      <td>Sleeping-dog</td>\n",
       "      <td>0</td>\n",
       "    </tr>\n",
       "    <tr>\n",
       "      <th>5</th>\n",
       "      <td>B16849</td>\n",
       "      <td>3755.263391</td>\n",
       "      <td>2</td>\n",
       "      <td>4</td>\n",
       "      <td>2.786665</td>\n",
       "      <td>Sleeping-dog</td>\n",
       "      <td>0</td>\n",
       "    </tr>\n",
       "    <tr>\n",
       "      <th>...</th>\n",
       "      <td>...</td>\n",
       "      <td>...</td>\n",
       "      <td>...</td>\n",
       "      <td>...</td>\n",
       "      <td>...</td>\n",
       "      <td>...</td>\n",
       "      <td>...</td>\n",
       "    </tr>\n",
       "    <tr>\n",
       "      <th>144</th>\n",
       "      <td>Z12772</td>\n",
       "      <td>3029.600000</td>\n",
       "      <td>2</td>\n",
       "      <td>4</td>\n",
       "      <td>2.093035</td>\n",
       "      <td>Big-Screen-lover</td>\n",
       "      <td>0</td>\n",
       "    </tr>\n",
       "    <tr>\n",
       "      <th>145</th>\n",
       "      <td>Z13253</td>\n",
       "      <td>3678.800000</td>\n",
       "      <td>2</td>\n",
       "      <td>5</td>\n",
       "      <td>2.463670</td>\n",
       "      <td>Big-Screen-lover</td>\n",
       "      <td>0</td>\n",
       "    </tr>\n",
       "    <tr>\n",
       "      <th>147</th>\n",
       "      <td>Z16428</td>\n",
       "      <td>3516.500000</td>\n",
       "      <td>2</td>\n",
       "      <td>5</td>\n",
       "      <td>2.371301</td>\n",
       "      <td>Big-Screen-lover</td>\n",
       "      <td>0</td>\n",
       "    </tr>\n",
       "    <tr>\n",
       "      <th>148</th>\n",
       "      <td>Z16735</td>\n",
       "      <td>3300.100000</td>\n",
       "      <td>2</td>\n",
       "      <td>5</td>\n",
       "      <td>1.704942</td>\n",
       "      <td>Big-Screen-lover</td>\n",
       "      <td>0</td>\n",
       "    </tr>\n",
       "    <tr>\n",
       "      <th>149</th>\n",
       "      <td>Z19835</td>\n",
       "      <td>3326.526183</td>\n",
       "      <td>2</td>\n",
       "      <td>6</td>\n",
       "      <td>1.200000</td>\n",
       "      <td>Early-bird</td>\n",
       "      <td>0</td>\n",
       "    </tr>\n",
       "  </tbody>\n",
       "</table>\n",
       "<p>116 rows × 7 columns</p>\n",
       "</div>"
      ],
      "text/plain": [
       "     CUSTID     AVGPRICE  EMI  DEVICECOUNT  PRODUCTAGE          CUSTTYPE  \\\n",
       "0    A13566  4273.900000   10            6    1.679181  Big-Screen-lover   \n",
       "1    A14219  3642.441950    2            4    2.682023      Sleeping-dog   \n",
       "2    A15312  3653.884565    2            5    3.208202      Sleeping-dog   \n",
       "4    B10634  3391.074215    2            4    2.453656      Sleeping-dog   \n",
       "5    B16849  3755.263391    2            4    2.786665      Sleeping-dog   \n",
       "..      ...          ...  ...          ...         ...               ...   \n",
       "144  Z12772  3029.600000    2            4    2.093035  Big-Screen-lover   \n",
       "145  Z13253  3678.800000    2            5    2.463670  Big-Screen-lover   \n",
       "147  Z16428  3516.500000    2            5    2.371301  Big-Screen-lover   \n",
       "148  Z16735  3300.100000    2            5    1.704942  Big-Screen-lover   \n",
       "149  Z19835  3326.526183    2            6    1.200000        Early-bird   \n",
       "\n",
       "     PRODUCTAGE_NEW  \n",
       "0                 0  \n",
       "1                 0  \n",
       "2                 0  \n",
       "4                 0  \n",
       "5                 0  \n",
       "..              ...  \n",
       "144               0  \n",
       "145               0  \n",
       "147               0  \n",
       "148               0  \n",
       "149               0  \n",
       "\n",
       "[116 rows x 7 columns]"
      ]
     },
     "execution_count": 57,
     "metadata": {},
     "output_type": "execute_result"
    }
   ],
   "source": [
    "customerData.loc[(customerData.PRODUCTAGE >= 1)&\n",
    "                (customerData.PRODUCTAGE != customerData.PRODUCTAGE_NEW)]"
   ]
  },
  {
   "cell_type": "code",
   "execution_count": 58,
   "metadata": {},
   "outputs": [
    {
     "data": {
      "text/plain": [
       "array([2, 3, 4, 1, 3, 3, 1, 3, 3, 4, 4, 2, 3, 1, 4, 3, 3, 3, 3, 3, 3, 2,\n",
       "       2, 1, 1, 3, 2, 2, 4, 3, 1, 4, 4, 2, 3, 3, 2, 1, 1, 2, 1, 2, 3, 3,\n",
       "       1, 1, 3, 3, 1, 3, 3, 1, 1, 1, 3, 1, 3, 2, 3, 3, 2, 2, 1, 3, 2, 2,\n",
       "       3, 2, 2, 2, 3, 1, 3, 3, 2, 3, 3, 1, 1, 2, 1, 3, 1, 3, 1, 3, 3, 1,\n",
       "       3, 4, 3, 3, 3, 3, 2, 1, 2, 2, 2, 2, 3, 4, 3, 3, 2, 1, 2, 3, 3, 3,\n",
       "       3, 3, 3, 2, 4, 3, 3, 1, 4, 3, 3, 3, 3, 4, 3, 1, 1, 2, 3, 3, 2, 2,\n",
       "       1, 1, 2, 2, 3, 3, 3, 3, 3, 3, 1, 1, 3, 3, 1, 3, 2, 2])"
      ]
     },
     "execution_count": 58,
     "metadata": {},
     "output_type": "execute_result"
    }
   ],
   "source": [
    "np.where(customerData.PRODUCTAGE < 1, 1,\n",
    "    np.where(customerData.PRODUCTAGE < 2,2,\n",
    "            np.where(customerData.PRODUCTAGE < 3,3,4)))\n",
    "#PRODUCTAGE < 1 경우 1 그외에는 기존값\n"
   ]
  },
  {
   "cell_type": "code",
   "execution_count": 70,
   "metadata": {},
   "outputs": [
    {
     "data": {
      "text/plain": [
       "<bound method NDFrame.head of      CUSTID     AVGPRICE  EMI  DEVICECOUNT  PRODUCTAGE          CUSTTYPE\n",
       "0    A13566  4273.900000    3            6    1.679181  Big-Screen-lover\n",
       "1    A14219  3642.441950    2            4    2.682023      Sleeping-dog\n",
       "2    A15312  3653.884565    2            5    3.208202      Sleeping-dog\n",
       "3    A16605  3713.211107    2            6    0.900000        Early-bird\n",
       "4    B10634  3391.074215    2            4    2.453656      Sleeping-dog\n",
       "..      ...          ...  ...          ...         ...               ...\n",
       "145  Z13253  3678.800000    2            5    2.463670  Big-Screen-lover\n",
       "146  Z13534  3662.437527    3            6    0.900000        Early-bird\n",
       "147  Z16428  3516.500000    2            5    2.371301  Big-Screen-lover\n",
       "148  Z16735  3300.100000    2            5    1.704942  Big-Screen-lover\n",
       "149  Z19835  3326.526183    2            6    1.200000        Early-bird\n",
       "\n",
       "[150 rows x 6 columns]>"
      ]
     },
     "execution_count": 70,
     "metadata": {},
     "output_type": "execute_result"
    }
   ],
   "source": [
    "customerData.head"
   ]
  },
  {
   "cell_type": "code",
   "execution_count": 60,
   "metadata": {},
   "outputs": [],
   "source": [
    "#복잡한 로직 힘듬ㅠ"
   ]
  },
  {
   "cell_type": "code",
   "execution_count": 61,
   "metadata": {},
   "outputs": [],
   "source": [
    "inValue = 1.5\n",
    "outValue =1"
   ]
  },
  {
   "cell_type": "code",
   "execution_count": 71,
   "metadata": {},
   "outputs": [],
   "source": [
    "\n",
    "def test (inValue):\n",
    "    outValue = 1\n",
    "    if inValue < 1:\n",
    "        outValue = 1\n",
    "    elif inValue < 2:\n",
    "        outValue =2\n",
    "    elif inValue < 3:\n",
    "        outValue =3\n",
    "    else :\n",
    "        outValue =4\n",
    "    \n",
    "    return inValue"
   ]
  },
  {
   "cell_type": "code",
   "execution_count": 63,
   "metadata": {},
   "outputs": [],
   "source": [
    "customerData[\"PRODUCTAGE_NEWF\"] = customerData.PRODUCTAGE.apply(test)"
   ]
  },
  {
   "cell_type": "code",
   "execution_count": null,
   "metadata": {},
   "outputs": [],
   "source": [
    "customerData.EMI = customerData.EMI.astype(str)"
   ]
  },
  {
   "cell_type": "code",
   "execution_count": null,
   "metadata": {},
   "outputs": [],
   "source": [
    "customerData[\"NC\"] = customerData.CUSTID.str[1:]+\"=\"+customerData.EMI.astype(str)"
   ]
  }
 ],
 "metadata": {
  "kernelspec": {
   "display_name": "base",
   "language": "python",
   "name": "python3"
  },
  "language_info": {
   "codemirror_mode": {
    "name": "ipython",
    "version": 3
   },
   "file_extension": ".py",
   "mimetype": "text/x-python",
   "name": "python",
   "nbconvert_exporter": "python",
   "pygments_lexer": "ipython3",
   "version": "3.9.13"
  },
  "orig_nbformat": 4
 },
 "nbformat": 4,
 "nbformat_minor": 2
}
