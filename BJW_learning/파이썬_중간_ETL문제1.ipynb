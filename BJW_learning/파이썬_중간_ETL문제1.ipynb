{
 "cells": [
  {
   "cell_type": "code",
   "execution_count": null,
   "id": "8cd140e7-ad07-4dc0-b1f7-f97c5d4ee803",
   "metadata": {},
   "outputs": [],
   "source": [
    "문제1. 프로그램을 실행시키면  \n",
    "    특정폴더 내 모든 csv 및 excel 파일을 파일명으로 오라클에 저장하는 ETL 프로그램 개발"
   ]
  },
  {
   "cell_type": "code",
   "execution_count": null,
   "id": "1be8ef13-c7b3-4fde-b0ef-86197bf95066",
   "metadata": {},
   "outputs": [],
   "source": [
    "#Python으로 특정 폴더에 있는 모든 CSV 및 Excel 파일을 데이터베이스에 \n",
    "#저장하는 프로그램을 작성하는 것입니다. 이를 위해서는 다음과 같은 단계를 거쳐야 합니다.\n",
    "#1.필요한 라이브러리 가져오기. 2.데이터베이스 연결. \n",
    "#3.특정 폴더에서 파일 목록 가져오기. 4.CSV 및 Excel 파일을 데이터베이스에 저장하기\n",
    "#아래는 이 문제를 해결하기 위한 예시 코드입니다."
   ]
  },
  {
   "cell_type": "code",
   "execution_count": null,
   "id": "f3451708-9214-4e28-8e51-492576aedbf1",
   "metadata": {},
   "outputs": [],
   "source": [
    "import os\n",
    "import cx_Oracle\n",
    "import pandas as pd\n",
    "\n",
    "# 데이터베이스 연결 정보\n",
    "dsn_tns = cx_Oracle.makedsn('192.168.110.112', '1521', service_name='orcl')\n",
    "conn = cx_Oracle.connect(user='kopo', password='kopo', dsn=dsn_tns)\n",
    "\n",
    "# 특정 폴더에서 파일 목록 가져오기\n",
    "target_path = '../dataset'\n",
    "file_list = os.listdir(target_path)\n",
    "\n",
    "# CSV 및 Excel 파일을 데이터베이스에 저장하기\n",
    "for file_name in file_list:\n",
    "    file_path = os.path.join(target_path, file_name)\n",
    "    if os.path.isfile(file_path) and (file_name.endswith('.csv') or file_name.endswith('.xlsx')):\n",
    "        df = pd.read_excel(file_path) if file_name.endswith('.xlsx') else pd.read_csv(file_path)\n",
    "        table_name = os.path.splitext(file_name)[0]  # 파일 이름에서 확장자 제거\n",
    "        df.to_sql(table_name, conn, if_exists='replace', index=False)\n",
    "\n",
    "# 데이터베이스 연결 종료\n",
    "conn.close()\n"
   ]
  },
  {
   "cell_type": "code",
   "execution_count": null,
   "id": "3e4c8a84-e300-4765-a797-5445ce910a2d",
   "metadata": {},
   "outputs": [],
   "source": [
    "위 코드에서는 cx_Oracle 라이브러리를 사용하여 Oracle 데이터베이스에 연결합니다. \n",
    "그리고 os 라이브러리를 사용하여 특정 폴더에서 파일 목록을 가져옵니다. \n",
    "파일 목록을 순회하면서 CSV 또는 Excel 파일인 경우에는 \n",
    "pandas 라이브러리를 사용하여 데이터를 읽고, 파일 이름에서 확장자를 제거한 이름으로 데이터베이스에 저장합니다. 이 때, to_sql 함수를 사용하면 데이터베이스에 쉽게 저장할 수 있습니다.\n",
    "\n",
    "위 코드를 collectData.py 파일로 저장하면 파이썬으로 실행할 수 있습니다. \n",
    "예를 들어, 다음과 같이 실행할 수 있습니다."
   ]
  },
  {
   "cell_type": "code",
   "execution_count": null,
   "id": "21072a7c-9b13-4c2d-947b-9f222e3be024",
   "metadata": {},
   "outputs": [],
   "source": [
    "python collectData.py"
   ]
  },
  {
   "cell_type": "code",
   "execution_count": null,
   "id": "56f58379-0009-4b9d-b1d7-13055ba66a7f",
   "metadata": {},
   "outputs": [],
   "source": [
    "파일 경로를 파라미터로 지정하고 싶은 경우, sys.argv 를 사용하여 명령행 인수를 받을 수 있습니다. \n",
    "예를 들어, 다음과 같이 실행할 수 있습니다."
   ]
  },
  {
   "cell_type": "code",
   "execution_count": null,
   "id": "38fb4a42-f93a-4f86-8f2e-a7457ab04986",
   "metadata": {},
   "outputs": [],
   "source": [
    "python collectData.py \"../dataset\""
   ]
  },
  {
   "cell_type": "code",
   "execution_count": null,
   "id": "e6312d6d-3db2-4c9f-a62b-3d29592f06e1",
   "metadata": {},
   "outputs": [],
   "source": [
    "이제 이 코드를 실행하면, 특정 폴더에 있는 모든 CSV 및 Excel 파일이 데이터베이스에 저장됩니다."
   ]
  },
  {
   "cell_type": "code",
   "execution_count": 4,
   "id": "feaa0cc2-a3de-467a-a5e7-42675580485f",
   "metadata": {},
   "outputs": [
    {
     "data": {
      "text/plain": [
       "'C:\\\\Users\\\\SMART17\\\\stdcode6\\\\stdcode6\\\\practice4_26'"
      ]
     },
     "execution_count": 4,
     "metadata": {},
     "output_type": "execute_result"
    }
   ],
   "source": [
    "pwd"
   ]
  }
 ],
 "metadata": {
  "kernelspec": {
   "display_name": "Python 3 (ipykernel)",
   "language": "python",
   "name": "python3"
  },
  "language_info": {
   "codemirror_mode": {
    "name": "ipython",
    "version": 3
   },
   "file_extension": ".py",
   "mimetype": "text/x-python",
   "name": "python",
   "nbconvert_exporter": "python",
   "pygments_lexer": "ipython3",
   "version": "3.9.13"
  }
 },
 "nbformat": 4,
 "nbformat_minor": 5
}
