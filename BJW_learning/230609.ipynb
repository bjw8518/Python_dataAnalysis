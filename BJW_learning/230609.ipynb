{
 "cells": [
  {
   "cell_type": "code",
   "execution_count": 1,
   "metadata": {},
   "outputs": [],
   "source": [
    "#라이브러리 정의\n",
    "import numpy as np\n",
    "import pandas as pd\n"
   ]
  },
  {
   "cell_type": "code",
   "execution_count": 2,
   "metadata": {},
   "outputs": [],
   "source": [
    "from tensorflow import keras\n",
    "from tensorflow.keras import layers"
   ]
  },
  {
   "cell_type": "code",
   "execution_count": 3,
   "metadata": {},
   "outputs": [],
   "source": [
    "featuresData = pd.read_csv (\"../dataset/feature_regression_example.csv\")\n",
    "sortKey = [\"REGIONID\",\"PRODUCTGROUP\",\"PRODUCT\",\"ITEM\",\"YEARWEEK\"]\n",
    "featuresData = featuresData.sort_values(sortKey)"
   ]
  },
  {
   "cell_type": "code",
   "execution_count": null,
   "metadata": {},
   "outputs": [],
   "source": [
    "from sklearn.preprocessing import LabelEncoder\n",
    "le_yn = LabelEncoder\n",
    "featuresData [\"LE_PROMO\"] = \\\n",
    "le_yn.fit_transform(featuresData.PROMOTION)\n",
    "featuresData [\"LE_HOLI\"] = \\\n",
    "le_yn.fit_transform(featuresData.HOLIDAY)"
   ]
  },
  {
   "cell_type": "code",
   "execution_count": 5,
   "metadata": {},
   "outputs": [],
   "source": [
    "label = [\"QTY\"]"
   ]
  },
  {
   "cell_type": "code",
   "execution_count": 6,
   "metadata": {},
   "outputs": [
    {
     "data": {
      "text/plain": [
       "['YEARWEEK', 'WEEK', 'PRO_PERCENT', 'HCLUS', 'YEAR']"
      ]
     },
     "execution_count": 6,
     "metadata": {},
     "output_type": "execute_result"
    }
   ],
   "source": [
    "features = list(set(featuresData.select_dtypes(np.number).columns)-set(label))\n",
    "features"
   ]
  },
  {
   "cell_type": "code",
   "execution_count": 7,
   "metadata": {},
   "outputs": [],
   "source": [
    "stdIndex = int(len(featuresData )*0.8)"
   ]
  },
  {
   "cell_type": "code",
   "execution_count": 8,
   "metadata": {},
   "outputs": [],
   "source": [
    "stdYearweek = featuresData.loc[stdIndex,\"YEARWEEK\"]"
   ]
  },
  {
   "cell_type": "code",
   "execution_count": 9,
   "metadata": {},
   "outputs": [],
   "source": [
    "trainingData_features = featuresData.loc[featuresData.YEARWEEK <= stdYearweek ,features]\n",
    "trainingData_label = featuresData.loc[featuresData.YEARWEEK <= stdYearweek ,features]\n",
    "testData_features = featuresData.loc[featuresData.YEARWEEK > stdYearweek ,features]\n",
    "testData_label = featuresData.loc[featuresData.YEARWEEK > stdYearweek ,features]\n",
    "testData_all = featuresData.loc[featuresData.YEARWEEK > stdYearweek]"
   ]
  },
  {
   "cell_type": "code",
   "execution_count": 10,
   "metadata": {},
   "outputs": [],
   "source": [
    "features = [\"HCLUS\",\" PRO_ PERCENT\",\"HOLIDAY_YN\",\" PROMOTION_YN\"]"
   ]
  },
  {
   "cell_type": "code",
   "execution_count": 72,
   "metadata": {},
   "outputs": [],
   "source": [
    "label =[\"QTY\"]"
   ]
  },
  {
   "cell_type": "code",
   "execution_count": 74,
   "metadata": {},
   "outputs": [],
   "source": [
    "# featuresData.dtypes\n",
    "# features = [\"HCLUS\",\" PRO_ PERCENT\",\" LE_ PROMO\",\" LE_HOLI\"]\n",
    "# stdFeatures = 0.5\n",
    "# corrdf= featuresData.corr\n",
    "# features = list(corrdf[ (abs(corrdf.QTY) > 0.5)&\n",
    "#         (corrdf.QTY <1)].index)"
   ]
  },
  {
   "cell_type": "code",
   "execution_count": 75,
   "metadata": {},
   "outputs": [],
   "source": [
    "from tensorflow.keras import Sequential\n",
    "from tensorflow.keras.layers import Dense"
   ]
  },
  {
   "cell_type": "code",
   "execution_count": 76,
   "metadata": {},
   "outputs": [
    {
     "ename": "NameError",
     "evalue": "name 'n_cols' is not defined",
     "output_type": "error",
     "traceback": [
      "\u001b[1;31m---------------------------------------------------------------------------\u001b[0m",
      "\u001b[1;31mNameError\u001b[0m                                 Traceback (most recent call last)",
      "Cell \u001b[1;32mIn[76], line 2\u001b[0m\n\u001b[0;32m      1\u001b[0m model \u001b[39m=\u001b[39m Sequential()\n\u001b[1;32m----> 2\u001b[0m model\u001b[39m.\u001b[39madd(Dense(\u001b[39m8\u001b[39m, activation\u001b[39m=\u001b[39m\u001b[39m'\u001b[39m\u001b[39mrelu\u001b[39m\u001b[39m'\u001b[39m,input_shape\u001b[39m=\u001b[39m(n_cols,)))\n\u001b[0;32m      3\u001b[0m model\u001b[39m.\u001b[39madd(Dense(\u001b[39m8\u001b[39m, activation\u001b[39m=\u001b[39m\u001b[39m'\u001b[39m\u001b[39mrelu\u001b[39m\u001b[39m'\u001b[39m))\n\u001b[0;32m      4\u001b[0m model\u001b[39m.\u001b[39madd(Dense(\u001b[39m1\u001b[39m))\n",
      "\u001b[1;31mNameError\u001b[0m: name 'n_cols' is not defined"
     ]
    }
   ],
   "source": [
    "model = Sequential()\n",
    "model.add(Dense(8, activation='relu', input_shape=(n_cols,)))\n",
    "model.add(Dense(8, activation='relu'))\n",
    "model.add(Dense(1))"
   ]
  },
  {
   "cell_type": "code",
   "execution_count": null,
   "metadata": {},
   "outputs": [],
   "source": [
    "from tensorflow import keras\n",
    "from tensorflow.keras import Sequential\n",
    "from tensorflow.keras.layers import Dense"
   ]
  },
  {
   "cell_type": "code",
   "execution_count": null,
   "metadata": {},
   "outputs": [],
   "source": [
    "model = Sequential()\n",
    "inputShape = trainingData_features.loc[0,:].shape\n",
    "model.add(Dense(units=8,activation='relu',input_shape=inputShape))\n",
    "model.add(Dense(units=8,activation='relu'))\n",
    "model.summary()"
   ]
  },
  {
   "cell_type": "code",
   "execution_count": null,
   "metadata": {},
   "outputs": [],
   "source": [
    "from tensorflow.keras.utils import plot_model\n",
    "plot_model(model,to_file='model_plot.png',\n",
    "        show_shapes=True,\n",
    "        show_layer_names=True)"
   ]
  },
  {
   "cell_type": "code",
   "execution_count": null,
   "metadata": {},
   "outputs": [],
   "source": [
    "from tensorflow.keras import optimizers\n",
    "from tensorflow.keras import losses\n",
    "from tensorflow.keras import metrics\n",
    "\n",
    "model.compile(loss=\"mean_squared_error\",\n",
    "            optimizer = \"adam\",\n",
    "            metrics =[\"mean_squared\",\"mean_absolute_error\"])\n",
    "\n",
    "model.compile(optimizer=optimizers.Adam(),\n",
    "            loss=losses.mean_squared_error,\n",
    "            metrics =[metrics.mean_squared_error, metrics.mean_absolute_errr]                                                                                                                                                                   \n",
    "            )"
   ]
  },
  {
   "cell_type": "code",
   "execution_count": null,
   "metadata": {},
   "outputs": [],
   "source": [
    "from tensorflow.keras.callbacks import EarlyStopping , ModelCheckpoint , TensorBoard\n",
    "from datetime import datetime\n",
    "import os\n",
    "\n",
    "logdir = os.path.join (\"logs/fit/\" ,datetime.now().strftime(\"%Y%m%d_%H%M%S\"))\n"
   ]
  }
 ],
 "metadata": {
  "kernelspec": {
   "display_name": "Python 3 (ipykernel)",
   "language": "python",
   "name": "python3"
  },
  "language_info": {
   "codemirror_mode": {
    "name": "ipython",
    "version": 3
   },
   "file_extension": ".py",
   "mimetype": "text/x-python",
   "name": "python",
   "nbconvert_exporter": "python",
   "pygments_lexer": "ipython3",
   "version": "3.10.9"
  }
 },
 "nbformat": 4,
 "nbformat_minor": 4
}
