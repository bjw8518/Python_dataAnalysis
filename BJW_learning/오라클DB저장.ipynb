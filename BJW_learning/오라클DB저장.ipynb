{
 "cells": [
  {
   "cell_type": "markdown",
   "id": "437d3147-2821-4f36-bb16-30cb9e8ddee2",
   "metadata": {},
   "source": [
    "# 참조. 데이터베이스 데이터 수집 및 저장 (Oracle)"
   ]
  },
  {
   "cell_type": "code",
   "execution_count": 1,
   "id": "25f41776-c056-40ea-ae75-1c510ad35ed8",
   "metadata": {},
   "outputs": [],
   "source": [
    "# 설치필요 라이브러리 : pip install cx_Oracle\n",
    "import pandas as pd\n",
    "from sqlalchemy import create_engine,types\n",
    "id = \"HAITEAM\"\n",
    "pw = \"HAITEAM\"\n",
    "ip = \"192.168.110.17\"\n",
    "port = \"1521\"\n",
    "dbName = \"XE\"\n",
    "# DB 커넥션 열기\n",
    "engine = create_engine('oracle+cx_oracle://{}:{}@{}:{}/{}'.format(id,pw,ip,port,dbName)    ) "
   ]
  },
  {
   "cell_type": "code",
   "execution_count": 7,
   "id": "6d61a029-af3e-4272-b8bf-bca5caf90443",
   "metadata": {},
   "outputs": [],
   "source": [
    "# 테이블 전체 조회 select * from tabs와 유사\n",
    "# engine.table_names()"
   ]
  },
  {
   "cell_type": "code",
   "execution_count": 26,
   "id": "3ab99277-c3d6-4b5b-bdd1-801e8946c5b9",
   "metadata": {},
   "outputs": [],
   "source": [
    "# csv 파일 불러오기\n",
    "#gunmu=pd.read_csv(\"./근무지.csv\",encoding=\"ms949\")\n",
    "buseo=pd.read_csv(\"./부서.csv\",encoding=\"ms949\")\n",
    "sawon=pd.read_csv(\"./사원.csv\",encoding=\"ms949\")\n",
    "jikgb=pd.read_csv(\"./직급.csv\",encoding=\"ms949\")"
   ]
  },
  {
   "cell_type": "code",
   "execution_count": 27,
   "id": "2e7e17a0-8546-4ccd-b5ff-ccae1f6996d6",
   "metadata": {},
   "outputs": [
    {
     "name": "stderr",
     "output_type": "stream",
     "text": [
      "C:\\Users\\SMART17\\Anaconda3\\lib\\site-packages\\pandas\\io\\sql.py:1666: UserWarning: The provided table name 'JIKGB_TEST' is not found exactly as such in the database after writing the table, possibly due to case sensitivity issues. Consider using lower case table names.\n",
      "  warnings.warn(msg, UserWarning)\n"
     ]
    },
    {
     "data": {
      "text/plain": [
       "6"
      ]
     },
     "execution_count": 27,
     "metadata": {},
     "output_type": "execute_result"
    }
   ],
   "source": [
    "tableName = \"JIKGB_TEST\"\n",
    "\n",
    "#### 문자컬럼에 대해서 varchar (100) 적용 _ 사용시 속도 SpeedUp 50배 \n",
    "objectColumns = list(jikgb.columns[jikgb.dtypes == 'object'])\n",
    "typeDict={}\n",
    "maxLen = 100\n",
    "\n",
    "for i in range(0, len(objectColumns)):\n",
    "    # sawonData[i].str.len().max() 최대치 사용할 경우\n",
    "    typeDict[ objectColumns[i] ] = types.VARCHAR(100)\n",
    "#### 문자컬럼에 대해서 varchar (100) 적용 _ 사용시 속도 SpeedUp 50배 \n",
    "\n",
    "jikgb.to_sql(name=tableName, if_exists=\"replace\", con=engine,dtype=typeDict, index=False)"
   ]
  },
  {
   "cell_type": "code",
   "execution_count": null,
   "id": "37119eb7-81f7-48f9-aa95-66cb2675feb9",
   "metadata": {},
   "outputs": [],
   "source": [
    "BUSEO_TEST\n",
    "SAWON_TEST\n",
    "KNMUJI_TEST\n",
    "JIKGB_TEST"
   ]
  },
  {
   "cell_type": "code",
   "execution_count": null,
   "id": "e4152ab0-f51f-4476-8ac7-0cbbde8f3cfc",
   "metadata": {},
   "outputs": [],
   "source": []
  }
 ],
 "metadata": {
  "kernelspec": {
   "display_name": "Python 3 (ipykernel)",
   "language": "python",
   "name": "python3"
  },
  "language_info": {
   "codemirror_mode": {
    "name": "ipython",
    "version": 3
   },
   "file_extension": ".py",
   "mimetype": "text/x-python",
   "name": "python",
   "nbconvert_exporter": "python",
   "pygments_lexer": "ipython3",
   "version": "3.9.13"
  }
 },
 "nbformat": 4,
 "nbformat_minor": 5
}
