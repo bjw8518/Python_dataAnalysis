{
 "cells": [
  {
   "cell_type": "code",
   "execution_count": null,
   "metadata": {},
   "outputs": [],
   "source": [
    "#이전 셀과 합치기 Shift + Alt + Win + J\n",
    "#다음 셀과 합치기 Alt + Win + J\n",
    "#셀 위아래에 복사하기 Shift + Alt +↑/↓\n",
    "#셀 위아래 이동  Alt +↑/↓\n",
    "#삭제 Ctrl + Shift + k"
   ]
  },
  {
   "cell_type": "code",
   "execution_count": 1,
   "metadata": {},
   "outputs": [],
   "source": [
    "from selenium import webdriver\n",
    "from selenium.webdriver.chrome.service import Service\n",
    "from selenium.webdriver.chrome.options import Options\n",
    "from webdriver_manager.chrome import ChromeDriverManager\n",
    "chromeOption = Options()\n",
    "chromeOption.add_argument(\"window-size=1920x1080\")\n",
    "dirver = webdriver.Chrome(service = Service( ChromeDriverManager().install() ),\n",
    "                          options= chromeOption)"
   ]
  }
 ],
 "metadata": {
  "kernelspec": {
   "display_name": "Python 3 (ipykernel)",
   "language": "python",
   "name": "python3"
  },
  "language_info": {
   "codemirror_mode": {
    "name": "ipython",
    "version": 3
   },
   "file_extension": ".py",
   "mimetype": "text/x-python",
   "name": "python",
   "nbconvert_exporter": "python",
   "pygments_lexer": "ipython3",
   "version": "3.9.13"
  },
  "vscode": {
   "interpreter": {
    "hash": "6e72a21cb9798eff289026a8bc363b072e3835941b1b0b0a537155fad72842b4"
   }
  }
 },
 "nbformat": 4,
 "nbformat_minor": 4
}
