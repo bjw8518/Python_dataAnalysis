{
 "cells": [
  {
   "cell_type": "code",
   "execution_count": 1,
   "id": "6747b8ef-dc44-4bb5-83aa-e5fcaebcda4c",
   "metadata": {},
   "outputs": [],
   "source": [
    "import pandas as pd"
   ]
  },
  {
   "cell_type": "code",
   "execution_count": 2,
   "id": "8d055efa-a955-478a-b230-65161c2217e3",
   "metadata": {},
   "outputs": [],
   "source": [
    "import bs4, requests"
   ]
  },
  {
   "cell_type": "code",
   "execution_count": 3,
   "id": "3ca18524-b2e3-402a-b2cf-a413e6d8c559",
   "metadata": {},
   "outputs": [],
   "source": [
    "targetUrl = \"https://sparkkorea.com/%ed%80%b4%ec%a6%88/\""
   ]
  },
  {
   "cell_type": "code",
   "execution_count": 4,
   "id": "0024659b-eb7a-46f4-87da-90d34b6f8301",
   "metadata": {},
   "outputs": [],
   "source": [
    "try:\n",
    "    resp = requests.get(targetUrl)\n",
    "except Exception as e:\n",
    "    print(e)"
   ]
  },
  {
   "cell_type": "code",
   "execution_count": 5,
   "id": "3c8419b7-08f6-4e26-8eb3-1ef3030a7e3e",
   "metadata": {},
   "outputs": [],
   "source": [
    "webPageSrc = resp.text"
   ]
  },
  {
   "cell_type": "code",
   "execution_count": 6,
   "id": "f26ee749-9d38-46d9-8cab-f503f72005e1",
   "metadata": {},
   "outputs": [],
   "source": [
    "htmlObj = bs4.BeautifulSoup(webPageSrc,\"html.parser\")"
   ]
  },
  {
   "cell_type": "code",
   "execution_count": 7,
   "id": "4a6e6014-ced9-4d6f-a21f-e651b69f8183",
   "metadata": {},
   "outputs": [],
   "source": [
    "targetDiv=htmlObj.find(name= \"div\", attrs ={ \"id\": \"id_spark_quiz\"})                      "
   ]
  },
  {
   "cell_type": "code",
   "execution_count": 11,
   "id": "9a91c9ad-7571-48df-a97d-3e3fa101fd50",
   "metadata": {},
   "outputs": [],
   "source": [
    "aLinks = targetDiv.findAll(name=\"a\")"
   ]
  },
  {
   "cell_type": "code",
   "execution_count": 12,
   "id": "090d47e7-5f7d-486c-ad3f-d9bfe5d018a7",
   "metadata": {},
   "outputs": [],
   "source": [
    "aLinksLen = len(aLinks)"
   ]
  },
  {
   "cell_type": "code",
   "execution_count": 13,
   "id": "ffaf4a53-2e61-4699-ac06-5c4b1ced1099",
   "metadata": {},
   "outputs": [],
   "source": [
    "nameList = []\n",
    "linkList = []"
   ]
  },
  {
   "cell_type": "markdown",
   "id": "8e704402",
   "metadata": {},
   "source": []
  },
  {
   "cell_type": "code",
   "execution_count": 14,
   "id": "1e9dc6ce-feba-4478-8025-d698253e5783",
   "metadata": {},
   "outputs": [],
   "source": [
    "for i in range(0,aLinksLen):\n",
    "    #퀴즈이름ㅁ 및링크 정보수집\n",
    "    quizName = aLinks[i].text\n",
    "    quizLink = aLinks[i].attrs[\"href\"]\n",
    "    #리스트에 수집한값 append\n",
    "    nameList.append(quizName)\n",
    "    linkList.append(quizLink)"
   ]
  },
  {
   "cell_type": "code",
   "execution_count": 15,
   "id": "287abb17-85f2-4bf4-a422-543390676e5c",
   "metadata": {},
   "outputs": [],
   "source": [
    "result = pd.DataFrame( zip (nameList, linkList), columns = [\"퀴즈이름\",\"퀴즈링크\"])"
   ]
  },
  {
   "cell_type": "code",
   "execution_count": 17,
   "id": "a9e59cf8-d029-4624-93dd-5efb94ae8de5",
   "metadata": {},
   "outputs": [],
   "source": [
    "result.to_csv(\"./result.csv\", encoding=\"ms949\")"
   ]
  }
 ],
 "metadata": {
  "kernelspec": {
   "display_name": "Python 3 (ipykernel)",
   "language": "python",
   "name": "python3"
  },
  "language_info": {
   "codemirror_mode": {
    "name": "ipython",
    "version": 3
   },
   "file_extension": ".py",
   "mimetype": "text/x-python",
   "name": "python",
   "nbconvert_exporter": "python",
   "pygments_lexer": "ipython3",
   "version": "3.9.13"
  }
 },
 "nbformat": 4,
 "nbformat_minor": 5
}
