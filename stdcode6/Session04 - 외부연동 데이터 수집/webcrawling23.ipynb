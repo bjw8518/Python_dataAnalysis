{
 "cells": [
  {
   "cell_type": "code",
   "execution_count": 21,
   "metadata": {},
   "outputs": [],
   "source": [
    "import bs4, requests,pandas as pd"
   ]
  },
  {
   "cell_type": "code",
   "execution_count": 22,
   "metadata": {},
   "outputs": [],
   "source": [
    "targetUrl = \"https://sparkkorea.com/%ed%80%b4%ec%a6%88/\""
   ]
  },
  {
   "cell_type": "code",
   "execution_count": 23,
   "metadata": {},
   "outputs": [],
   "source": [
    "try:\n",
    "    #웹페이지 요청 (200:정상) 및 소스 가져오기\n",
    "    resp = requests.get(targetUrl)\n",
    "except Exception as e:\n",
    "    print(e)"
   ]
  },
  {
   "cell_type": "code",
   "execution_count": 24,
   "metadata": {},
   "outputs": [],
   "source": [
    "webPageSource = resp.text"
   ]
  },
  {
   "cell_type": "markdown",
   "metadata": {},
   "source": [
    "#태그정보 수집"
   ]
  },
  {
   "cell_type": "code",
   "execution_count": 25,
   "metadata": {},
   "outputs": [],
   "source": [
    "htmlObj = bs4.BeautifulSoup(webPageSource,\"html.parser\")"
   ]
  },
  {
   "cell_type": "code",
   "execution_count": 26,
   "metadata": {},
   "outputs": [],
   "source": [
    "divs = htmlObj.findAll(name=\"div\") #findAll = 여러개를 리스트로 저장 (list)"
   ]
  },
  {
   "cell_type": "code",
   "execution_count": 27,
   "metadata": {},
   "outputs": [],
   "source": [
    "atags = htmlObj.find_all(name=\"a\") #findAll = 여러개를 리스트로 저장 (list)"
   ]
  },
  {
   "cell_type": "code",
   "execution_count": 28,
   "metadata": {},
   "outputs": [],
   "source": [
    "linkList =[]"
   ]
  },
  {
   "cell_type": "code",
   "execution_count": 29,
   "metadata": {},
   "outputs": [
    {
     "name": "stdout",
     "output_type": "stream",
     "text": [
      "'href'\n"
     ]
    }
   ],
   "source": [
    "for i in range(0, len(atags)):\n",
    "    try:\n",
    "        linkList.append(atags[i].attrs[\"href\"])\n",
    "    except Exception as e:\n",
    "        print(e)"
   ]
  },
  {
   "cell_type": "code",
   "execution_count": 30,
   "metadata": {},
   "outputs": [
    {
     "data": {
      "text/plain": [
       "<div class=\"class_spark_quiz\" id=\"id_spark_quiz\">\n",
       "<h1>Spark 퀴즈 </h1>\n",
       "<a href=\"https://forms.gle/Fw49w9GhWQChDcZm7\"> 6/13 Spark 심화과정 </a>\n",
       "<p></p>\n",
       "<a href=\"https://forms.gle/G4TcXm3fKuHLHA6D6\"> 6/13 Spark 기본과정 </a>\n",
       "<p></p>\n",
       "<a href=\"https://forms.gle/M8gr1kC2ubA3UDVp8\"> 6/18 Spark [MAP_FILTER] </a>\n",
       "<p></p>\n",
       "<a href=\"https://forms.gle/h8w5mZ4MNaPLCPbi6\"> 6/18 Spark GroupBy 심화 </a>\n",
       "<p></p>\n",
       "<a href=\"https://forms.gle/q5yL6QHfueDLM5w27\"> 6/25 Spark RDD 실전 분석 </a>\n",
       "<p></p>\n",
       "<a href=\"https://forms.gle/Gxb4y6LfVYiaLu4M7\"> 6/27 Spark RDD 실전 분석2 </a>\n",
       "<p></p>\n",
       "</div>"
      ]
     },
     "execution_count": 30,
     "metadata": {},
     "output_type": "execute_result"
    }
   ],
   "source": [
    "\n",
    "htmlObj.find(name=\"div\", attrs={\"id\":\"id_spark_quiz\"})"
   ]
  },
  {
   "cell_type": "code",
   "execution_count": 31,
   "metadata": {},
   "outputs": [],
   "source": [
    "targetDiv = htmlObj.find(name=\"div\", attrs ={\"id\":\"id_spark_quiz\"})"
   ]
  },
  {
   "cell_type": "code",
   "execution_count": 32,
   "metadata": {},
   "outputs": [],
   "source": [
    "aLinks = targetDiv.find(name=\"a\")"
   ]
  },
  {
   "cell_type": "code",
   "execution_count": 33,
   "metadata": {},
   "outputs": [],
   "source": [
    "rowList = []\n",
    "for i in range(0,len(aLinks)):\n",
    "    eachAtag = aLinks\n",
    "    QuizName = eachAtag.text\n",
    "    linkName = eachAtag.attrs[\"href\"]\n",
    "    rowList.append([QuizName,linkName])\n",
    "\n",
    "result = pd.DataFrame(rowList,columns=['퀴즈이름','퀴즈링크'])"
   ]
  },
  {
   "cell_type": "code",
   "execution_count": 34,
   "metadata": {},
   "outputs": [],
   "source": [
    "result.to_csv(\"../result.csv\", encoding=\"ms949\")"
   ]
  }
 ],
 "metadata": {
  "kernelspec": {
   "display_name": "base",
   "language": "python",
   "name": "python3"
  },
  "language_info": {
   "codemirror_mode": {
    "name": "ipython",
    "version": 3
   },
   "file_extension": ".py",
   "mimetype": "text/x-python",
   "name": "python",
   "nbconvert_exporter": "python",
   "pygments_lexer": "ipython3",
   "version": "3.9.13"
  },
  "orig_nbformat": 4
 },
 "nbformat": 4,
 "nbformat_minor": 2
}
