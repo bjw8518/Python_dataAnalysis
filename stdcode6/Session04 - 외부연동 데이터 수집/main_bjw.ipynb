{
 "cells": [
  {
   "cell_type": "code",
   "execution_count": 21,
   "metadata": {},
   "outputs": [],
   "source": [
    "import requests, bs4\n",
    "import pandas as pd\n",
    "from bs4 import BeautifulSoup\n"
   ]
  },
  {
   "cell_type": "code",
   "execution_count": 22,
   "metadata": {},
   "outputs": [],
   "source": [
    "url = 'https://finance.naver.com/item/sise_day.naver?code=005930'\n",
    "req = requests.get(url, headers={'User-agent': 'Mozilla/5.0'})\n",
    "html = BeautifulSoup(req.text, \"lxml\")"
   ]
  },
  {
   "cell_type": "code",
   "execution_count": 23,
   "metadata": {},
   "outputs": [
    {
     "name": "stdout",
     "output_type": "stream",
     "text": [
      "/item/sise_day.naver?code=005930&page=672\n"
     ]
    }
   ],
   "source": [
    "pgrr = html.find('td', class_='pgRR')\n",
    "print(pgrr.a['href'])"
   ]
  },
  {
   "cell_type": "code",
   "execution_count": 24,
   "metadata": {},
   "outputs": [
    {
     "name": "stdout",
     "output_type": "stream",
     "text": [
      "['/item/sise_day.naver?code', '005930&page', '672']\n"
     ]
    }
   ],
   "source": [
    "s = pgrr.a['href'].split('=')\n",
    "print(s)"
   ]
  },
  {
   "cell_type": "code",
   "execution_count": 25,
   "metadata": {},
   "outputs": [
    {
     "name": "stdout",
     "output_type": "stream",
     "text": [
      "672\n"
     ]
    }
   ],
   "source": [
    "last_page = s[-1]\n",
    "print(last_page)"
   ]
  },
  {
   "cell_type": "code",
   "execution_count": 28,
   "metadata": {},
   "outputs": [],
   "source": [
    "headers = {'User-agent': 'Mozilla/5.0'}\n",
    "url = 'https://finance.naver.com/item/sise_day.naver?code=005930'\n",
    "df = None\n",
    "\n",
    "for page in range(1, int(last_page)+1):\n",
    "    req = requests.get(f'{url}&page={page}', headers=headers)\n",
    "    df = pd.concat([df, pd.read_html(req.text, encoding = 'euc-kr')[0]], ignore_index=True)"
   ]
  },
  {
   "cell_type": "code",
   "execution_count": 29,
   "metadata": {},
   "outputs": [],
   "source": [
    "df.dropna(inplace = True)\n",
    "df.reset_index(drop=True, inplace=True)"
   ]
  },
  {
   "cell_type": "code",
   "execution_count": null,
   "metadata": {},
   "outputs": [
    {
     "data": {
      "text/html": [
       "<div>\n",
       "<style scoped>\n",
       "    .dataframe tbody tr th:only-of-type {\n",
       "        vertical-align: middle;\n",
       "    }\n",
       "\n",
       "    .dataframe tbody tr th {\n",
       "        vertical-align: top;\n",
       "    }\n",
       "\n",
       "    .dataframe thead th {\n",
       "        text-align: right;\n",
       "    }\n",
       "</style>\n",
       "<table border=\"1\" class=\"dataframe\">\n",
       "  <thead>\n",
       "    <tr style=\"text-align: right;\">\n",
       "      <th></th>\n",
       "      <th>날짜</th>\n",
       "      <th>종가</th>\n",
       "      <th>전일비</th>\n",
       "      <th>시가</th>\n",
       "      <th>고가</th>\n",
       "      <th>저가</th>\n",
       "      <th>거래량</th>\n",
       "    </tr>\n",
       "  </thead>\n",
       "  <tbody>\n",
       "    <tr>\n",
       "      <th>0</th>\n",
       "      <td>2023.04.05</td>\n",
       "      <td>63900.0</td>\n",
       "      <td>300.0</td>\n",
       "      <td>63700.0</td>\n",
       "      <td>64000.0</td>\n",
       "      <td>63400.0</td>\n",
       "      <td>9051129.0</td>\n",
       "    </tr>\n",
       "    <tr>\n",
       "      <th>1</th>\n",
       "      <td>2023.04.04</td>\n",
       "      <td>63600.0</td>\n",
       "      <td>500.0</td>\n",
       "      <td>63400.0</td>\n",
       "      <td>63800.0</td>\n",
       "      <td>62800.0</td>\n",
       "      <td>11120514.0</td>\n",
       "    </tr>\n",
       "    <tr>\n",
       "      <th>2</th>\n",
       "      <td>2023.04.03</td>\n",
       "      <td>63100.0</td>\n",
       "      <td>900.0</td>\n",
       "      <td>64000.0</td>\n",
       "      <td>64000.0</td>\n",
       "      <td>63000.0</td>\n",
       "      <td>11973133.0</td>\n",
       "    </tr>\n",
       "    <tr>\n",
       "      <th>3</th>\n",
       "      <td>2023.03.31</td>\n",
       "      <td>64000.0</td>\n",
       "      <td>800.0</td>\n",
       "      <td>64000.0</td>\n",
       "      <td>64000.0</td>\n",
       "      <td>63700.0</td>\n",
       "      <td>14094479.0</td>\n",
       "    </tr>\n",
       "    <tr>\n",
       "      <th>4</th>\n",
       "      <td>2023.03.30</td>\n",
       "      <td>63200.0</td>\n",
       "      <td>500.0</td>\n",
       "      <td>63700.0</td>\n",
       "      <td>63700.0</td>\n",
       "      <td>63100.0</td>\n",
       "      <td>15684377.0</td>\n",
       "    </tr>\n",
       "    <tr>\n",
       "      <th>...</th>\n",
       "      <td>...</td>\n",
       "      <td>...</td>\n",
       "      <td>...</td>\n",
       "      <td>...</td>\n",
       "      <td>...</td>\n",
       "      <td>...</td>\n",
       "      <td>...</td>\n",
       "    </tr>\n",
       "    <tr>\n",
       "      <th>6715</th>\n",
       "      <td>1996.07.01</td>\n",
       "      <td>72000.0</td>\n",
       "      <td>3500.0</td>\n",
       "      <td>69000.0</td>\n",
       "      <td>72300.0</td>\n",
       "      <td>68800.0</td>\n",
       "      <td>147310.0</td>\n",
       "    </tr>\n",
       "    <tr>\n",
       "      <th>6716</th>\n",
       "      <td>1996.06.29</td>\n",
       "      <td>68500.0</td>\n",
       "      <td>400.0</td>\n",
       "      <td>68100.0</td>\n",
       "      <td>69100.0</td>\n",
       "      <td>67100.0</td>\n",
       "      <td>96710.0</td>\n",
       "    </tr>\n",
       "    <tr>\n",
       "      <th>6717</th>\n",
       "      <td>1996.06.28</td>\n",
       "      <td>68100.0</td>\n",
       "      <td>1200.0</td>\n",
       "      <td>67300.0</td>\n",
       "      <td>68500.0</td>\n",
       "      <td>67200.0</td>\n",
       "      <td>138430.0</td>\n",
       "    </tr>\n",
       "    <tr>\n",
       "      <th>6718</th>\n",
       "      <td>1996.06.27</td>\n",
       "      <td>66900.0</td>\n",
       "      <td>800.0</td>\n",
       "      <td>67500.0</td>\n",
       "      <td>67700.0</td>\n",
       "      <td>66700.0</td>\n",
       "      <td>155450.0</td>\n",
       "    </tr>\n",
       "    <tr>\n",
       "      <th>6719</th>\n",
       "      <td>1996.06.26</td>\n",
       "      <td>67700.0</td>\n",
       "      <td>200.0</td>\n",
       "      <td>67600.0</td>\n",
       "      <td>67900.0</td>\n",
       "      <td>66000.0</td>\n",
       "      <td>136630.0</td>\n",
       "    </tr>\n",
       "  </tbody>\n",
       "</table>\n",
       "<p>6720 rows × 7 columns</p>\n",
       "</div>"
      ],
      "text/plain": [
       "              날짜       종가     전일비       시가       고가       저가         거래량\n",
       "0     2023.04.05  63900.0   300.0  63700.0  64000.0  63400.0   9051129.0\n",
       "1     2023.04.04  63600.0   500.0  63400.0  63800.0  62800.0  11120514.0\n",
       "2     2023.04.03  63100.0   900.0  64000.0  64000.0  63000.0  11973133.0\n",
       "3     2023.03.31  64000.0   800.0  64000.0  64000.0  63700.0  14094479.0\n",
       "4     2023.03.30  63200.0   500.0  63700.0  63700.0  63100.0  15684377.0\n",
       "...          ...      ...     ...      ...      ...      ...         ...\n",
       "6715  1996.07.01  72000.0  3500.0  69000.0  72300.0  68800.0    147310.0\n",
       "6716  1996.06.29  68500.0   400.0  68100.0  69100.0  67100.0     96710.0\n",
       "6717  1996.06.28  68100.0  1200.0  67300.0  68500.0  67200.0    138430.0\n",
       "6718  1996.06.27  66900.0   800.0  67500.0  67700.0  66700.0    155450.0\n",
       "6719  1996.06.26  67700.0   200.0  67600.0  67900.0  66000.0    136630.0\n",
       "\n",
       "[6720 rows x 7 columns]"
      ]
     },
     "execution_count": 32,
     "metadata": {},
     "output_type": "execute_result"
    }
   ],
   "source": [
    "df"
   ]
  },
  {
   "cell_type": "code",
   "execution_count": null,
   "metadata": {},
   "outputs": [],
   "source": [
    "df.to_excel(\"../../sasmsung_stock.xlsx\", index=False)"
   ]
  }
 ],
 "metadata": {
  "kernelspec": {
   "display_name": "base",
   "language": "python",
   "name": "python3"
  },
  "language_info": {
   "codemirror_mode": {
    "name": "ipython",
    "version": 3
   },
   "file_extension": ".py",
   "mimetype": "text/x-python",
   "name": "python",
   "nbconvert_exporter": "python",
   "pygments_lexer": "ipython3",
   "version": "3.9.13"
  },
  "orig_nbformat": 4,
  "vscode": {
   "interpreter": {
    "hash": "17f704cfdee090e59b33645634adefe931a103d82fed8335d0706b337eb9a3c8"
   }
  }
 },
 "nbformat": 4,
 "nbformat_minor": 2
}
