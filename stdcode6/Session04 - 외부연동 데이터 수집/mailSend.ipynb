{
 "cells": [
  {
   "cell_type": "code",
   "execution_count": 9,
   "metadata": {},
   "outputs": [
    {
     "ename": "TypeError",
     "evalue": "a bytes-like object is required, not 'str'",
     "output_type": "error",
     "traceback": [
      "\u001b[1;31m---------------------------------------------------------------------------\u001b[0m",
      "\u001b[1;31mTypeError\u001b[0m                                 Traceback (most recent call last)",
      "\u001b[1;32m~\\AppData\\Local\\Temp\\ipykernel_15684\\1644786101.py\u001b[0m in \u001b[0;36m<module>\u001b[1;34m\u001b[0m\n\u001b[0;32m     30\u001b[0m \u001b[1;31m# userpw = \"xxxxxxxxxxxxxxxx\"\u001b[0m\u001b[1;33m\u001b[0m\u001b[1;33m\u001b[0m\u001b[0m\n\u001b[0;32m     31\u001b[0m \u001b[1;33m\u001b[0m\u001b[0m\n\u001b[1;32m---> 32\u001b[1;33m \u001b[0msmtp_gmail\u001b[0m\u001b[1;33m.\u001b[0m\u001b[0mlogin\u001b[0m\u001b[1;33m(\u001b[0m\u001b[0muserid\u001b[0m\u001b[1;33m,\u001b[0m \u001b[0muserpw\u001b[0m\u001b[1;33m)\u001b[0m\u001b[1;33m\u001b[0m\u001b[1;33m\u001b[0m\u001b[0m\n\u001b[0m\u001b[0;32m     33\u001b[0m \u001b[1;33m\u001b[0m\u001b[0m\n\u001b[0;32m     34\u001b[0m \u001b[1;31m### 3. 수신자 목록 정의 및 불러오기\u001b[0m\u001b[1;33m\u001b[0m\u001b[1;33m\u001b[0m\u001b[0m\n",
      "\u001b[1;32mc:\\Users\\SMART07\\anaconda3\\lib\\smtplib.py\u001b[0m in \u001b[0;36mlogin\u001b[1;34m(self, user, password, initial_response_ok)\u001b[0m\n\u001b[0;32m    737\u001b[0m             \u001b[0mmethod_name\u001b[0m \u001b[1;33m=\u001b[0m \u001b[1;34m'auth_'\u001b[0m \u001b[1;33m+\u001b[0m \u001b[0mauthmethod\u001b[0m\u001b[1;33m.\u001b[0m\u001b[0mlower\u001b[0m\u001b[1;33m(\u001b[0m\u001b[1;33m)\u001b[0m\u001b[1;33m.\u001b[0m\u001b[0mreplace\u001b[0m\u001b[1;33m(\u001b[0m\u001b[1;34m'-'\u001b[0m\u001b[1;33m,\u001b[0m \u001b[1;34m'_'\u001b[0m\u001b[1;33m)\u001b[0m\u001b[1;33m\u001b[0m\u001b[1;33m\u001b[0m\u001b[0m\n\u001b[0;32m    738\u001b[0m             \u001b[1;32mtry\u001b[0m\u001b[1;33m:\u001b[0m\u001b[1;33m\u001b[0m\u001b[1;33m\u001b[0m\u001b[0m\n\u001b[1;32m--> 739\u001b[1;33m                 (code, resp) = self.auth(\n\u001b[0m\u001b[0;32m    740\u001b[0m                     \u001b[0mauthmethod\u001b[0m\u001b[1;33m,\u001b[0m \u001b[0mgetattr\u001b[0m\u001b[1;33m(\u001b[0m\u001b[0mself\u001b[0m\u001b[1;33m,\u001b[0m \u001b[0mmethod_name\u001b[0m\u001b[1;33m)\u001b[0m\u001b[1;33m,\u001b[0m\u001b[1;33m\u001b[0m\u001b[1;33m\u001b[0m\u001b[0m\n\u001b[0;32m    741\u001b[0m                     initial_response_ok=initial_response_ok)\n",
      "\u001b[1;32mc:\\Users\\SMART07\\anaconda3\\lib\\smtplib.py\u001b[0m in \u001b[0;36mauth\u001b[1;34m(self, mechanism, authobject, initial_response_ok)\u001b[0m\n\u001b[0;32m    651\u001b[0m             response = encode_base64(\n\u001b[0;32m    652\u001b[0m                 authobject(challenge).encode('ascii'), eol='')\n\u001b[1;32m--> 653\u001b[1;33m             \u001b[1;33m(\u001b[0m\u001b[0mcode\u001b[0m\u001b[1;33m,\u001b[0m \u001b[0mresp\u001b[0m\u001b[1;33m)\u001b[0m \u001b[1;33m=\u001b[0m \u001b[0mself\u001b[0m\u001b[1;33m.\u001b[0m\u001b[0mdocmd\u001b[0m\u001b[1;33m(\u001b[0m\u001b[0mresponse\u001b[0m\u001b[1;33m)\u001b[0m\u001b[1;33m\u001b[0m\u001b[1;33m\u001b[0m\u001b[0m\n\u001b[0m\u001b[0;32m    654\u001b[0m             \u001b[1;31m# If server keeps sending challenges, something is wrong.\u001b[0m\u001b[1;33m\u001b[0m\u001b[1;33m\u001b[0m\u001b[0m\n\u001b[0;32m    655\u001b[0m             \u001b[1;32mif\u001b[0m \u001b[0mself\u001b[0m\u001b[1;33m.\u001b[0m\u001b[0m_auth_challenge_count\u001b[0m \u001b[1;33m>\u001b[0m \u001b[0m_MAXCHALLENGE\u001b[0m\u001b[1;33m:\u001b[0m\u001b[1;33m\u001b[0m\u001b[1;33m\u001b[0m\u001b[0m\n",
      "\u001b[1;32mc:\\Users\\SMART07\\anaconda3\\lib\\smtplib.py\u001b[0m in \u001b[0;36mdocmd\u001b[1;34m(self, cmd, args)\u001b[0m\n\u001b[0;32m    429\u001b[0m     \u001b[1;32mdef\u001b[0m \u001b[0mdocmd\u001b[0m\u001b[1;33m(\u001b[0m\u001b[0mself\u001b[0m\u001b[1;33m,\u001b[0m \u001b[0mcmd\u001b[0m\u001b[1;33m,\u001b[0m \u001b[0margs\u001b[0m\u001b[1;33m=\u001b[0m\u001b[1;34m\"\"\u001b[0m\u001b[1;33m)\u001b[0m\u001b[1;33m:\u001b[0m\u001b[1;33m\u001b[0m\u001b[1;33m\u001b[0m\u001b[0m\n\u001b[0;32m    430\u001b[0m         \u001b[1;34m\"\"\"Send a command, and return its response code.\"\"\"\u001b[0m\u001b[1;33m\u001b[0m\u001b[1;33m\u001b[0m\u001b[0m\n\u001b[1;32m--> 431\u001b[1;33m         \u001b[0mself\u001b[0m\u001b[1;33m.\u001b[0m\u001b[0mputcmd\u001b[0m\u001b[1;33m(\u001b[0m\u001b[0mcmd\u001b[0m\u001b[1;33m,\u001b[0m \u001b[0margs\u001b[0m\u001b[1;33m)\u001b[0m\u001b[1;33m\u001b[0m\u001b[1;33m\u001b[0m\u001b[0m\n\u001b[0m\u001b[0;32m    432\u001b[0m         \u001b[1;32mreturn\u001b[0m \u001b[0mself\u001b[0m\u001b[1;33m.\u001b[0m\u001b[0mgetreply\u001b[0m\u001b[1;33m(\u001b[0m\u001b[1;33m)\u001b[0m\u001b[1;33m\u001b[0m\u001b[1;33m\u001b[0m\u001b[0m\n\u001b[0;32m    433\u001b[0m \u001b[1;33m\u001b[0m\u001b[0m\n",
      "\u001b[1;32mc:\\Users\\SMART07\\anaconda3\\lib\\smtplib.py\u001b[0m in \u001b[0;36mputcmd\u001b[1;34m(self, cmd, args)\u001b[0m\n\u001b[0;32m    371\u001b[0m         \u001b[1;32melse\u001b[0m\u001b[1;33m:\u001b[0m\u001b[1;33m\u001b[0m\u001b[1;33m\u001b[0m\u001b[0m\n\u001b[0;32m    372\u001b[0m             \u001b[0ms\u001b[0m \u001b[1;33m=\u001b[0m \u001b[1;34mf'{cmd} {args}'\u001b[0m\u001b[1;33m\u001b[0m\u001b[1;33m\u001b[0m\u001b[0m\n\u001b[1;32m--> 373\u001b[1;33m         \u001b[1;32mif\u001b[0m \u001b[1;34m'\\r'\u001b[0m \u001b[1;32min\u001b[0m \u001b[0ms\u001b[0m \u001b[1;32mor\u001b[0m \u001b[1;34m'\\n'\u001b[0m \u001b[1;32min\u001b[0m \u001b[0ms\u001b[0m\u001b[1;33m:\u001b[0m\u001b[1;33m\u001b[0m\u001b[1;33m\u001b[0m\u001b[0m\n\u001b[0m\u001b[0;32m    374\u001b[0m             \u001b[0ms\u001b[0m \u001b[1;33m=\u001b[0m \u001b[0ms\u001b[0m\u001b[1;33m.\u001b[0m\u001b[0mreplace\u001b[0m\u001b[1;33m(\u001b[0m\u001b[1;34m'\\n'\u001b[0m\u001b[1;33m,\u001b[0m \u001b[1;34m'\\\\n'\u001b[0m\u001b[1;33m)\u001b[0m\u001b[1;33m.\u001b[0m\u001b[0mreplace\u001b[0m\u001b[1;33m(\u001b[0m\u001b[1;34m'\\r'\u001b[0m\u001b[1;33m,\u001b[0m \u001b[1;34m'\\\\r'\u001b[0m\u001b[1;33m)\u001b[0m\u001b[1;33m\u001b[0m\u001b[1;33m\u001b[0m\u001b[0m\n\u001b[0;32m    375\u001b[0m             raise ValueError(\n",
      "\u001b[1;31mTypeError\u001b[0m: a bytes-like object is required, not 'str'"
     ]
    }
   ],
   "source": [
    "# SMTP 프로토콜 로드\n",
    "import smtplib\n",
    "\n",
    "# 이메일을 간단하게 보낼수 있는 라이브러리 로드\n",
    "from email.message import EmailMessage\n",
    "\n",
    "# import pickle\n",
    "# pw = \"password\"    \n",
    "# pickle.dump(pw, open(\"pw.pickle\", 'wb'))\n",
    "# pw = pickle.load(open('pw.pickle', 'rb'))\n",
    "\n",
    "# GMAIL 메일 설정\n",
    "smtp_gmail = smtplib.SMTP('smtp.gmail.com', 587)\n",
    "\n",
    "# 서버 연결을 설정하는 단계\n",
    "smtp_gmail.ehlo()\n",
    "\n",
    "# 연결을 암호화\n",
    "smtp_gmail.starttls()\n",
    "\n",
    "userid = \"bjw8518@gmail.com\"\n",
    "\n",
    "import getpass\n",
    "\n",
    "mypass = getpass.getpass()\n",
    "\n",
    "userpw = mypass\n",
    "\n",
    "# userid = \"xxxxxxxx\"\n",
    "# userpw = \"xxxxxxxxxxxxxxxx\"\n",
    "\n",
    "smtp_gmail.login(userid, userpw)\n",
    "\n",
    "### 3. 수신자 목록 정의 및 불러오기\n",
    "\n",
    "import pandas as pd\n",
    "emailList =pd.read_csv(\"./emailaddress.csv\")\n",
    "\n",
    "emailList.이메일주소.tolist()\n",
    "\n",
    "# 저장된 csv 파일 불러오기\n",
    "#emailaddress.csv\n",
    "\n",
    "to = [\"bjw980310@naver.com\", \"bsu85181319@gmail.com\"]\n",
    "\n",
    "import pandas as pd\n",
    "\n",
    "mailData = pd.read_csv(\"../dataset/mailaddress\")\n",
    "\n",
    "to = list(mailData.email) #불확실\n",
    "\n",
    "\n",
    "### 4. 메일전송\n",
    "\n",
    "msg=EmailMessage()\n",
    "\n",
    "# 제목 입력\n",
    "msg['Subject']=\"퀴즈 정보\"\n",
    " \n",
    "# 내용 입력\n",
    "msg.set_content(\"퀴즈정보\")\n",
    " \n",
    "# 보내는 사람\n",
    "msg['From']='bjw8518@gmail.com'\n",
    " \n",
    "# 받는 사람\n",
    "msg['To'] = \",\".join(to)\n",
    "\n",
    "file='emailaddress.csv'\n",
    "fp = open(file,'rb')\n",
    "file_data=fp.read()\n",
    "\n",
    "msg.add_attachment(file_data,\n",
    "                maintype='text',\n",
    "                subtype='plain',\n",
    "                filename=file)\n",
    "# 메일 전송\n",
    "smtp_gmail.send_message(msg)\n",
    "smtp_gmail.close()"
   ]
  }
 ],
 "metadata": {
  "kernelspec": {
   "display_name": "base",
   "language": "python",
   "name": "python3"
  },
  "language_info": {
   "codemirror_mode": {
    "name": "ipython",
    "version": 3
   },
   "file_extension": ".py",
   "mimetype": "text/x-python",
   "name": "python",
   "nbconvert_exporter": "python",
   "pygments_lexer": "ipython3",
   "version": "3.9.13"
  },
  "orig_nbformat": 4,
  "vscode": {
   "interpreter": {
    "hash": "6e72a21cb9798eff289026a8bc363b072e3835941b1b0b0a537155fad72842b4"
   }
  }
 },
 "nbformat": 4,
 "nbformat_minor": 2
}
