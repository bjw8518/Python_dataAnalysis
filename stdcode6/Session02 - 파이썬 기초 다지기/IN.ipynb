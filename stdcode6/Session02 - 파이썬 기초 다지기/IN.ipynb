{
 "cells": [
  {
   "cell_type": "markdown",
   "id": "635e97c9-87f1-42c8-a8db-6aab60607a26",
   "metadata": {
    "tags": []
   },
   "source": [
    "# 1. 특정파일을 불러와야한다\n",
    "## 2.코드 꼭 까보기\n",
    "\n",
    "#file01.csv,file02.csv,file03.csv "
   ]
  },
  {
   "cell_type": "code",
   "execution_count": 11,
   "id": "a568752c-cdd4-487c-83f5-ae717fbc7b44",
   "metadata": {},
   "outputs": [],
   "source": [
    "import pandas as pd"
   ]
  },
  {
   "cell_type": "code",
   "execution_count": 12,
   "id": "12f5ea28-1118-4efd-9fa8-f54162010fdb",
   "metadata": {
    "jupyter": {
     "source_hidden": true
    },
    "tags": []
   },
   "outputs": [],
   "source": [
    "import os"
   ]
  },
  {
   "cell_type": "code",
   "execution_count": 13,
   "id": "c5313c86-0e10-4073-8944-23d29c319352",
   "metadata": {},
   "outputs": [],
   "source": [
    "fileList = os.listdir(\"../dataset/indo/\")"
   ]
  },
  {
   "cell_type": "code",
   "execution_count": 14,
   "id": "cc4a87dc-70c3-4aec-87c2-5057b5211542",
   "metadata": {},
   "outputs": [
    {
     "data": {
      "text/plain": [
       "['.ipynb_checkpoints',\n",
       " 'file01.txt',\n",
       " 'file02.txt',\n",
       " 'file03.txt',\n",
       " 'indoData.txt']"
      ]
     },
     "execution_count": 14,
     "metadata": {},
     "output_type": "execute_result"
    }
   ],
   "source": [
    "fileList"
   ]
  },
  {
   "cell_type": "code",
   "execution_count": null,
   "id": "812b1556-81b8-4ee3-9ef1-a58398039019",
   "metadata": {},
   "outputs": [],
   "source": [
    "#step1: 파일은 어떤확장자로 저장되어있는지 확인한다\n",
    "#step2: 파일은 깨진 파일도 있을까?[x]\n",
    "#step3: 특정폴더를 기준으로 잡는다 [../dataset/indo/]\n",
    "#step4: 특정폴더 내 파일을 모두 검색한다 a.txt, b.txt\n",
    "#step5: 기준폴더+파일명을 붙여서 데이터를 불러온다  "
   ]
  },
  {
   "cell_type": "code",
   "execution_count": null,
   "id": "3fb886b9-ad67-4d26-9d48-e4b12bfab127",
   "metadata": {},
   "outputs": [],
   "source": [
    "import pandas as pd"
   ]
  },
  {
   "cell_type": "code",
   "execution_count": 16,
   "id": "3f0e355b-5741-4a6f-a39c-fd479fa6ee58",
   "metadata": {},
   "outputs": [],
   "source": [
    "import os"
   ]
  }
 ],
 "metadata": {
  "kernelspec": {
   "display_name": "Python 3 (ipykernel)",
   "language": "python",
   "name": "python3"
  },
  "language_info": {
   "codemirror_mode": {
    "name": "ipython",
    "version": 3
   },
   "file_extension": ".py",
   "mimetype": "text/x-python",
   "name": "python",
   "nbconvert_exporter": "python",
   "pygments_lexer": "ipython3",
   "version": "3.9.13"
  }
 },
 "nbformat": 4,
 "nbformat_minor": 5
}
