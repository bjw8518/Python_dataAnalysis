{
 "cells": [
  {
   "cell_type": "code",
   "execution_count": null,
   "id": "00e2551c-aae8-4c3d-9808-d7c9707eef57",
   "metadata": {},
   "outputs": [],
   "source": [
    "from hkhkhk import cF"
   ]
  },
  {
   "cell_type": "code",
   "execution_count": null,
   "id": "1bb41cfe-4a2d-4113-bc73-876fba1986e2",
   "metadata": {},
   "outputs": [],
   "source": []
  }
 ],
 "metadata": {
  "kernelspec": {
   "display_name": "Python 3 (ipykernel)",
   "language": "python",
   "name": "python3"
  },
  "language_info": {
   "codemirror_mode": {
    "name": "ipython",
    "version": 3
   },
   "file_extension": ".py",
   "mimetype": "text/x-python",
   "name": "python",
   "nbconvert_exporter": "python",
   "pygments_lexer": "ipython3",
   "version": "3.9.13"
  }
 },
 "nbformat": 4,
 "nbformat_minor": 5
}
