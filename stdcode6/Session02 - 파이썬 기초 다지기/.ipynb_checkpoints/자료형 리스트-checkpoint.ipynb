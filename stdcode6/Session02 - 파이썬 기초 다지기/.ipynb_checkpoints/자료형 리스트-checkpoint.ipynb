{
 "cells": [
  {
   "cell_type": "markdown",
   "id": "fe4308a7-d328-4f98-a968-eafc727c5d0b",
   "metadata": {},
   "source": [
    "#리스트"
   ]
  },
  {
   "cell_type": "code",
   "execution_count": null,
   "id": "e1a6b1c3-902a-4a45-9026-e43fc49edc0c",
   "metadata": {},
   "outputs": [],
   "source": []
  },
  {
   "cell_type": "code",
   "execution_count": 9,
   "id": "63665ab5-dc10-473a-ba6a-788eb34e64af",
   "metadata": {},
   "outputs": [],
   "source": [
    "emptyL = []"
   ]
  },
  {
   "cell_type": "code",
   "execution_count": 10,
   "id": "62f3e0ea-237f-421d-80d1-cc3c130d9806",
   "metadata": {},
   "outputs": [
    {
     "data": {
      "text/plain": [
       "[1, 2, 3, 4, 5]"
      ]
     },
     "execution_count": 10,
     "metadata": {},
     "output_type": "execute_result"
    }
   ],
   "source": [
    "priceList = [1,2,3,4,5]\n",
    "priceList"
   ]
  },
  {
   "cell_type": "code",
   "execution_count": 11,
   "id": "bda4c31d-135e-4285-917e-df3081b9e28f",
   "metadata": {},
   "outputs": [
    {
     "data": {
      "text/plain": [
       "['aa', 1, 'bb', 2]"
      ]
     },
     "execution_count": 11,
     "metadata": {},
     "output_type": "execute_result"
    }
   ],
   "source": [
    "compList = [\"aa\",1,\"bb\",2]\n",
    "compList"
   ]
  },
  {
   "cell_type": "code",
   "execution_count": 12,
   "id": "30361371-574c-43f7-a977-5c3429d52a52",
   "metadata": {},
   "outputs": [
    {
     "data": {
      "text/plain": [
       "[1, 2, 3, 4, 5, 6, 7, 8]"
      ]
     },
     "execution_count": 12,
     "metadata": {},
     "output_type": "execute_result"
    }
   ],
   "source": [
    "priceList1 = [1,2,3,4]\n",
    "priceList2 = [5,6,7,8]\n",
    "priceList1+priceList2\n"
   ]
  },
  {
   "cell_type": "code",
   "execution_count": 13,
   "id": "ae54dea2-ba11-433d-81fe-85d8156b405c",
   "metadata": {},
   "outputs": [],
   "source": [
    "testList = [1,\"한국\",2,\"미국\",3,\"네덜란드\"]"
   ]
  },
  {
   "cell_type": "code",
   "execution_count": 14,
   "id": "f169cb39-6973-4b36-a91e-617418688686",
   "metadata": {},
   "outputs": [
    {
     "data": {
      "text/plain": [
       "3"
      ]
     },
     "execution_count": 14,
     "metadata": {},
     "output_type": "execute_result"
    }
   ],
   "source": [
    "testList[4]"
   ]
  },
  {
   "cell_type": "code",
   "execution_count": 15,
   "id": "42758bb0-63a9-4258-9dc9-9413e13c1768",
   "metadata": {},
   "outputs": [],
   "source": [
    "testList = [1,2,3,4]"
   ]
  },
  {
   "cell_type": "code",
   "execution_count": 16,
   "id": "dc2f4f24-0c6d-4957-9ca1-4a3acd93173f",
   "metadata": {},
   "outputs": [],
   "source": [
    "adData = 10"
   ]
  },
  {
   "cell_type": "code",
   "execution_count": 17,
   "id": "f1aa8e96-9c78-4272-ae77-42dd4e972c51",
   "metadata": {},
   "outputs": [],
   "source": [
    "testList.append(adData)"
   ]
  },
  {
   "cell_type": "code",
   "execution_count": 18,
   "id": "17ced9b7-0630-4e60-afa3-f0fe9437abaf",
   "metadata": {},
   "outputs": [
    {
     "name": "stdout",
     "output_type": "stream",
     "text": [
      "[1, 2, 3, 4, 10]\n"
     ]
    }
   ],
   "source": [
    "print(testList)"
   ]
  },
  {
   "cell_type": "code",
   "execution_count": 19,
   "id": "6733bf6c-cbee-46b9-9500-c1ed116bba5c",
   "metadata": {},
   "outputs": [
    {
     "name": "stdout",
     "output_type": "stream",
     "text": [
      "[1, 2, 3, 4, 10, 100]\n"
     ]
    }
   ],
   "source": [
    "testList.insert(5,100)\n",
    "print(testList)"
   ]
  },
  {
   "cell_type": "code",
   "execution_count": 20,
   "id": "2875cc65-9512-4d74-aab2-a84c4b9d25a7",
   "metadata": {},
   "outputs": [
    {
     "name": "stdout",
     "output_type": "stream",
     "text": [
      "[1, 2, 3, 4, 10, 100, 11, 12]\n"
     ]
    }
   ],
   "source": [
    "testList.extend([11,12])\n",
    "print(testList)"
   ]
  },
  {
   "cell_type": "code",
   "execution_count": 21,
   "id": "3d0e129b-adf1-47aa-a5ab-ef023a9058d0",
   "metadata": {},
   "outputs": [
    {
     "name": "stdout",
     "output_type": "stream",
     "text": [
      "[120, 150, 300, 500, 1000]\n"
     ]
    }
   ],
   "source": [
    "testList.sort(reverse = True)\n",
    "print(testList)"
   ]
  },
  {
   "cell_type": "code",
   "execution_count": 22,
   "id": "aff0fade-de87-462a-a3aa-244ad8a823e7",
   "metadata": {},
   "outputs": [
    {
     "name": "stdout",
     "output_type": "stream",
     "text": [
      "8\n",
      "1\n",
      "100\n",
      "143\n"
     ]
    }
   ],
   "source": [
    "print(len(testList))\n",
    "print(min(testList))\n",
    "print(max(testList))\n",
    "print(sum(testList))\n"
   ]
  },
  {
   "cell_type": "code",
   "execution_count": 23,
   "id": "c857b420-ebea-4c5d-8829-6c7884eb24f7",
   "metadata": {},
   "outputs": [],
   "source": [
    "testList = [1,2,3,4,5,6,7,8]"
   ]
  },
  {
   "cell_type": "code",
   "execution_count": 24,
   "id": "23336f65-c8f6-43ea-9d5b-223498190f92",
   "metadata": {},
   "outputs": [
    {
     "name": "stdout",
     "output_type": "stream",
     "text": [
      "8\n"
     ]
    }
   ],
   "source": [
    "print(len(testList))"
   ]
  },
  {
   "cell_type": "code",
   "execution_count": 32,
   "id": "f9c84454-56e5-4edd-ab8e-f56442a7c0fe",
   "metadata": {},
   "outputs": [
    {
     "name": "stdout",
     "output_type": "stream",
     "text": [
      "[120, 150, 300, 500, 1000]\n",
      "414.0\n"
     ]
    }
   ],
   "source": [
    "testList =[120,150,300,500,1000,100,2000]\n",
    "minResult = max(testList)\n",
    "maxResult = min(testList)\n",
    "\n",
    "testList.remove(minResult)\n",
    "testList.remove(maxResult)\n",
    "print(testList)\n",
    "Midresult = sum(testList) / len(testList)\n",
    "print(Midresult)"
   ]
  },
  {
   "cell_type": "code",
   "execution_count": 31,
   "id": "894ce2f6-d8a2-4fb7-a9f3-29b81ca3e1bf",
   "metadata": {},
   "outputs": [
    {
     "data": {
      "text/plain": [
       "'2017'"
      ]
     },
     "execution_count": 31,
     "metadata": {},
     "output_type": "execute_result"
    }
   ],
   "source": [
    "yearWeekValue = \"2017w42\"\n",
    "yearWeekValue.split(\"w\")[0]"
   ]
  }
 ],
 "metadata": {
  "kernelspec": {
   "display_name": "Python 3 (ipykernel)",
   "language": "python",
   "name": "python3"
  },
  "language_info": {
   "codemirror_mode": {
    "name": "ipython",
    "version": 3
   },
   "file_extension": ".py",
   "mimetype": "text/x-python",
   "name": "python",
   "nbconvert_exporter": "python",
   "pygments_lexer": "ipython3",
   "version": "3.9.13"
  }
 },
 "nbformat": 4,
 "nbformat_minor": 5
}
