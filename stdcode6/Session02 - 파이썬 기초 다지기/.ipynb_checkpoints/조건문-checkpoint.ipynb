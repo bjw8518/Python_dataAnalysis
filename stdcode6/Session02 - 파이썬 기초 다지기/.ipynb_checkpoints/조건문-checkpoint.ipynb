{
 "cells": [
  {
   "cell_type": "code",
   "execution_count": 85,
   "id": "44914793-2239-4ce0-a8c3-6b5f11cd1e61",
   "metadata": {},
   "outputs": [],
   "source": [
    "# 1.조건문"
   ]
  },
  {
   "cell_type": "code",
   "execution_count": 1,
   "id": "12f5f276-a015-465c-a3f4-add744f6ef52",
   "metadata": {},
   "outputs": [],
   "source": [
    "# 조건문\n",
    "score =80\n",
    "if(점수 >=90):\n",
    "    print(\"엘리트\")\n",
    "elif(점수 > 80):\n",
    "    print(\"일반\")\n",
    "elif(점수 >70):\n",
    "    print(\"미달\")\n",
    "else:\n",
    "    print(\"불합격\")\n"
   ]
  },
  {
   "cell_type": "code",
   "execution_count": null,
   "id": "61481cae-581a-4757-853c-49ab4650b873",
   "metadata": {},
   "outputs": [],
   "source": []
  },
  {
   "cell_type": "code",
   "execution_count": 25,
   "id": "ed794ed7-4e28-4e6c-aeb3-d87c2cca17a5",
   "metadata": {},
   "outputs": [],
   "source": [
    "inpScore = 60\n",
    "hak =\"미달\""
   ]
  },
  {
   "cell_type": "code",
   "execution_count": 31,
   "id": "f3e31f24-5db4-45bc-a3d9-e7032f3d821f",
   "metadata": {},
   "outputs": [],
   "source": [
    "if inpScore >= 90:\n",
    "    hak =\"프리미엄\"\n",
    "elif inpScore >= 80:\n",
    "    hak =\"중간\"\n",
    "elif inpScore >= 70:\n",
    "    hak =\"약함\"\n"
   ]
  },
  {
   "cell_type": "code",
   "execution_count": 83,
   "id": "ffd87433-bb7a-4f03-b6bd-03a2f2483f9e",
   "metadata": {},
   "outputs": [
    {
     "data": {
      "text/plain": [
       "'미달'"
      ]
     },
     "execution_count": 83,
     "metadata": {},
     "output_type": "execute_result"
    }
   ],
   "source": [
    "hak"
   ]
  },
  {
   "cell_type": "code",
   "execution_count": null,
   "id": "46ef860c-fe40-4541-a7b7-78fd06635a16",
   "metadata": {},
   "outputs": [],
   "source": [
    "# 조건문\n",
    "# 1. 기본 조건문 사용방법\n",
    "# 2. 중복 조건설정 필요x\n",
    "# 3. else 를 꼭 쓰도록 할것  #안쓰는게 규칙인 팀에선 기본값 세팅 할것"
   ]
  },
  {
   "cell_type": "code",
   "execution_count": 94,
   "id": "94d858d6-5874-4d3b-b133-dc63b5a4c661",
   "metadata": {},
   "outputs": [
    {
     "ename": "ZeroDivisionError",
     "evalue": "division by zero",
     "output_type": "error",
     "traceback": [
      "\u001b[1;31m---------------------------------------------------------------------------\u001b[0m",
      "\u001b[1;31mZeroDivisionError\u001b[0m                         Traceback (most recent call last)",
      "\u001b[1;32m~\\AppData\\Local\\Temp\\ipykernel_12140\\600747112.py\u001b[0m in \u001b[0;36m<module>\u001b[1;34m\u001b[0m\n\u001b[0;32m      1\u001b[0m \u001b[0mbunmo\u001b[0m \u001b[1;33m=\u001b[0m \u001b[1;36m0\u001b[0m\u001b[1;33m\u001b[0m\u001b[1;33m\u001b[0m\u001b[0m\n\u001b[0;32m      2\u001b[0m \u001b[0mbunja\u001b[0m \u001b[1;33m=\u001b[0m \u001b[1;36m300\u001b[0m\u001b[1;33m\u001b[0m\u001b[1;33m\u001b[0m\u001b[0m\n\u001b[1;32m----> 3\u001b[1;33m \u001b[0mtotal\u001b[0m \u001b[1;33m=\u001b[0m \u001b[0mbunja\u001b[0m\u001b[1;33m/\u001b[0m\u001b[0mbunmo\u001b[0m\u001b[1;33m\u001b[0m\u001b[1;33m\u001b[0m\u001b[0m\n\u001b[0m\u001b[0;32m      4\u001b[0m \u001b[0mtotal\u001b[0m\u001b[1;33m\u001b[0m\u001b[1;33m\u001b[0m\u001b[0m\n",
      "\u001b[1;31mZeroDivisionError\u001b[0m: division by zero"
     ]
    }
   ],
   "source": [
    "bunmo = 0\n",
    "bunja = 300\n",
    "total = bunja/bunmo\n",
    "total"
   ]
  },
  {
   "cell_type": "code",
   "execution_count": 95,
   "id": "972a7c36-7e00-4e7e-a2af-d51423048a47",
   "metadata": {},
   "outputs": [],
   "source": [
    "avgSellout = 0"
   ]
  },
  {
   "cell_type": "code",
   "execution_count": 97,
   "id": "c5a5318d-f149-4c6b-a876-f5e1754e9212",
   "metadata": {},
   "outputs": [],
   "source": [
    "if bunmo == 0:\n",
    "    avgSellout = 0\n",
    "    #분모가 0이 아닐결루\n",
    "else :\n",
    "    avgSellout = bunja / bunmo"
   ]
  },
  {
   "cell_type": "markdown",
   "id": "e9fcd21f-f441-4f9a-900f-f8dbabbad42b",
   "metadata": {},
   "source": [
    "#1 tv모델을 선언한다"
   ]
  },
  {
   "cell_type": "code",
   "execution_count": 103,
   "id": "d340c59b-6795-452a-92f5-73c3d4a96bfd",
   "metadata": {},
   "outputs": [],
   "source": [
    "tvModel = \"UN002\"\n",
    "preFix = \"LEDTV_\""
   ]
  },
  {
   "cell_type": "code",
   "execution_count": null,
   "id": "d1f454fd-2db6-4ca9-8108-8da8c1c18c90",
   "metadata": {},
   "outputs": [],
   "source": [
    "#모델에 접두어가 이미 있으면 PASS\n",
    "#접두어가 없으면 접두어를 붙인다"
   ]
  },
  {
   "cell_type": "code",
   "execution_count": 106,
   "id": "a1546ab7-91a6-430d-b4dd-2199eca3e312",
   "metadata": {},
   "outputs": [
    {
     "data": {
      "text/plain": [
       "'LEDTV_UN002'"
      ]
     },
     "execution_count": 106,
     "metadata": {},
     "output_type": "execute_result"
    }
   ],
   "source": [
    "tvModel = \"UN002\"\n",
    "preFix = \"LEDTV_\"\n",
    "if tvModel.count(preFix)>0:\n",
    "    pass\n",
    "else:\n",
    "    tvModel = preFix+tvModel\n",
    "tvModel"
   ]
  },
  {
   "cell_type": "code",
   "execution_count": 120,
   "id": "18e2e218-b399-490f-abe5-f07587f736ad",
   "metadata": {},
   "outputs": [
    {
     "data": {
      "text/plain": [
       "'LEDTV_52001'"
      ]
     },
     "execution_count": 120,
     "metadata": {},
     "output_type": "execute_result"
    }
   ],
   "source": [
    "tvModel = \"LEDTV_52001\"\n",
    "preFix = \"LEDTV\"\n",
    "\n",
    "if tvModel.count(preFix)>=2:\n",
    "    tvModel.replace(\"preFix\",\"\")\n",
    "    tvModel = preFix+tvModel\n",
    "elif tvModel.count(preFix)==1:\n",
    "    pass\n",
    "else:\n",
    "    tvModel = preFix+tvModel"
   ]
  }
 ],
 "metadata": {
  "kernelspec": {
   "display_name": "Python 3 (ipykernel)",
   "language": "python",
   "name": "python3"
  },
  "language_info": {
   "codemirror_mode": {
    "name": "ipython",
    "version": 3
   },
   "file_extension": ".py",
   "mimetype": "text/x-python",
   "name": "python",
   "nbconvert_exporter": "python",
   "pygments_lexer": "ipython3",
   "version": "3.9.13"
  }
 },
 "nbformat": 4,
 "nbformat_minor": 5
}
