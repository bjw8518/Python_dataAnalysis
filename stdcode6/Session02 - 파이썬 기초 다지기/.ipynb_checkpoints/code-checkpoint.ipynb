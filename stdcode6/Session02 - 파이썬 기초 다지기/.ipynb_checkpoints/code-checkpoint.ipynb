{
 "cells": [
  {
   "cell_type": "code",
   "execution_count": 2,
   "id": "ba3c7bb9-8ca3-4dc4-ab6a-ceac6f00e989",
   "metadata": {},
   "outputs": [],
   "source": [
    "import pandas as pd"
   ]
  },
  {
   "cell_type": "code",
   "execution_count": 3,
   "id": "996ca8fe-6bf5-4099-b5e5-e4ee98ae9add",
   "metadata": {},
   "outputs": [],
   "source": [
    "customerData = pd.read_csv(\"../dataset/kopo_customerdata.csv\")\n",
    "customerTotalList = customerData[\"TOTAL_AMOUNT\"].tolist()"
   ]
  },
  {
   "cell_type": "code",
   "execution_count": 118,
   "id": "68627f94-e5b5-484f-880a-df6b8432954b",
   "metadata": {},
   "outputs": [
    {
     "name": "stdout",
     "output_type": "stream",
     "text": [
      "35248.91490376756\n"
     ]
    }
   ],
   "source": [
    "customerTotalList.sort(reverse = True)\n",
    "resu = sum(customerTotalList) / len(customerTotalList)\n",
    "print(resu)\n"
   ]
  }
 ],
 "metadata": {
  "kernelspec": {
   "display_name": "Python 3 (ipykernel)",
   "language": "python",
   "name": "python3"
  },
  "language_info": {
   "codemirror_mode": {
    "name": "ipython",
    "version": 3
   },
   "file_extension": ".py",
   "mimetype": "text/x-python",
   "name": "python",
   "nbconvert_exporter": "python",
   "pygments_lexer": "ipython3",
   "version": "3.9.13"
  }
 },
 "nbformat": 4,
 "nbformat_minor": 5
}
