{
 "cells": [
  {
   "cell_type": "markdown",
   "metadata": {},
   "source": [
    "# 1.함수를 만든다"
   ]
  },
  {
   "cell_type": "code",
   "execution_count": 70,
   "metadata": {},
   "outputs": [],
   "source": [
    "def minMaxAvg(testList):\n",
    "    \"\"\"\n",
    "    최소 최대값을 뺀 평균\n",
    "    prameter : testList = 리스트\n",
    "    return : 리스트내 값에서 최소 최대값을 뺀 평균을 반환한다.\n",
    "    \"\"\"\n",
    "\n",
    "    #testList = [1,5,7,2,6,8,2,5,11]\n",
    "\n",
    "    minValue = min(testList)\n",
    "    maxValue = max(testList)\n",
    "    print(\"최대값{} 최소값{}\".format(minValue, maxValue) )\n",
    "\n",
    "    testList.remove(minValue)\n",
    "    testList.remove(maxValue)\n",
    "\n",
    "    average = 0\n",
    "\n",
    "    if len(testList) != 0: #같지않다\n",
    "        average = sum(testList)/len(testList)\n",
    "    else:\n",
    "        pass\n",
    "\n",
    "    return average"
   ]
  },
  {
   "cell_type": "code",
   "execution_count": 11,
   "metadata": {},
   "outputs": [],
   "source": [
    "#함수 소수점 몇째자리까지 내림하는 함수"
   ]
  },
  {
   "cell_type": "code",
   "execution_count": null,
   "metadata": {},
   "outputs": [],
   "source": [
    "#둘째 자리에서 내림하는 함수를 만든다"
   ]
  },
  {
   "cell_type": "code",
   "execution_count": null,
   "metadata": {},
   "outputs": [],
   "source": [
    "#함수만들기"
   ]
  },
  {
   "cell_type": "code",
   "execution_count": 71,
   "metadata": {},
   "outputs": [],
   "source": [
    " inValue = 10.21312"
   ]
  },
  {
   "cell_type": "code",
   "execution_count": 87,
   "metadata": {},
   "outputs": [
    {
     "data": {
      "text/plain": [
       "2"
      ]
     },
     "execution_count": 87,
     "metadata": {},
     "output_type": "execute_result"
    }
   ],
   "source": [
    "minValue"
   ]
  },
  {
   "cell_type": "code",
   "execution_count": null,
   "metadata": {},
   "outputs": [],
   "source": []
  },
  {
   "cell_type": "code",
   "execution_count": null,
   "metadata": {},
   "outputs": [],
   "source": []
  },
  {
   "cell_type": "code",
   "execution_count": 62,
   "metadata": {},
   "outputs": [],
   "source": [
    "def csF(inValue):\n",
    "    \"\"\"\n",
    "    값의 소수점 둘째 자리에서 내림\n",
    "    parameter: inValue\n",
    "    return:  소수점 둘째 자리에서 내림한 값을 반환 \n",
    "    \"\"\"\n",
    "   #inValue = 10.21312\n",
    "\n",
    "    roundPoint = 10**2\n",
    "\n",
    "    step1 = inValue * 100\n",
    "\n",
    "    step2 = int(step1)\n",
    "\n",
    "    step3 = step2 / roundPoint\n",
    "\n",
    "    return step3"
   ]
  },
  {
   "cell_type": "code",
   "execution_count": null,
   "metadata": {},
   "outputs": [],
   "source": [
    "step3"
   ]
  },
  {
   "cell_type": "code",
   "execution_count": 63,
   "metadata": {
    "tags": []
   },
   "outputs": [
    {
     "data": {
      "text/plain": [
       "10.21"
      ]
     },
     "execution_count": 63,
     "metadata": {},
     "output_type": "execute_result"
    }
   ],
   "source": [
    "step3"
   ]
  },
  {
   "cell_type": "code",
   "execution_count": null,
   "metadata": {},
   "outputs": [],
   "source": []
  },
  {
   "cell_type": "code",
   "execution_count": 64,
   "metadata": {},
   "outputs": [],
   "source": [
    "def csF(inValue,inpoint=2): #inpoint=2 //기본값 세팅 shift+tab\n",
    "    #inValue = 10.123124\n",
    "    #inpoint = 4\n",
    "    roundPoint = 10**inpoint\n",
    "\n",
    "    step1 = inValue = roundPoint\n",
    "    step2 =int (step1)\n",
    "    step3 = step2/roundPoint\n",
    "    return step3"
   ]
  },
  {
   "cell_type": "code",
   "execution_count": 65,
   "metadata": {},
   "outputs": [
    {
     "data": {
      "text/plain": [
       "1.0"
      ]
     },
     "execution_count": 65,
     "metadata": {},
     "output_type": "execute_result"
    }
   ],
   "source": [
    "csF(10.123124,4)"
   ]
  }
 ],
 "metadata": {
  "kernelspec": {
   "display_name": "Python 3 (ipykernel)",
   "language": "python",
   "name": "python3"
  },
  "language_info": {
   "codemirror_mode": {
    "name": "ipython",
    "version": 3
   },
   "file_extension": ".py",
   "mimetype": "text/x-python",
   "name": "python",
   "nbconvert_exporter": "python",
   "pygments_lexer": "ipython3",
   "version": "3.9.13"
  }
 },
 "nbformat": 4,
 "nbformat_minor": 4
}
