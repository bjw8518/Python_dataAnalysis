{
 "cells": [
  {
   "cell_type": "markdown",
   "id": "bfd12a77-3f35-4b5a-b481-aafeeaa1cf0a",
   "metadata": {},
   "source": [
    "#1.자료형"
   ]
  },
  {
   "cell_type": "markdown",
   "id": "04c485c0-fe65-43dc-a3bf-6261477d69fe",
   "metadata": {},
   "source": [
    "##1-1. 수"
   ]
  },
  {
   "cell_type": "code",
   "execution_count": 4,
   "id": "bd5db449-8820-4585-a7a8-2c2e49246c2e",
   "metadata": {},
   "outputs": [],
   "source": [
    "integer_value = 123\n",
    "float_value = 12.456"
   ]
  },
  {
   "cell_type": "code",
   "execution_count": 10,
   "id": "fd9777dd-3d50-4a7c-84eb-5daf4826dd6a",
   "metadata": {},
   "outputs": [
    {
     "name": "stdout",
     "output_type": "stream",
     "text": [
      "135.456\n"
     ]
    }
   ],
   "source": [
    "# 1. 더하기 연산\n",
    "sumation = integer_value+float_value\n",
    "print(sumation)"
   ]
  },
  {
   "cell_type": "code",
   "execution_count": 11,
   "id": "e2ca31cb-5f86-4624-907e-a35fd659e63e",
   "metadata": {},
   "outputs": [
    {
     "name": "stdout",
     "output_type": "stream",
     "text": [
      "110.544\n"
     ]
    }
   ],
   "source": [
    "# 2. 뺴기 연산\n",
    "sumation = integer_value-float_value\n",
    "print(sumation)"
   ]
  },
  {
   "cell_type": "code",
   "execution_count": 12,
   "id": "23e881a0-a07b-4b27-b113-c842fd716540",
   "metadata": {},
   "outputs": [
    {
     "name": "stdout",
     "output_type": "stream",
     "text": [
      "1532.088\n"
     ]
    }
   ],
   "source": [
    "# 3. 곱하기 연산\n",
    "multiple = integer_value*float_value\n",
    "print(multiple)"
   ]
  },
  {
   "cell_type": "code",
   "execution_count": 14,
   "id": "b3fcd633-678e-415a-b0a3-d00ad6018490",
   "metadata": {},
   "outputs": [
    {
     "name": "stdout",
     "output_type": "stream",
     "text": [
      "9.8747591522158\n"
     ]
    }
   ],
   "source": [
    "# 4. 나누기 연산\n",
    "division = integer_value/float_value\n",
    "print(division)"
   ]
  },
  {
   "cell_type": "code",
   "execution_count": 15,
   "id": "e555c6fd-c432-4527-b5f4-3e3863508cfd",
   "metadata": {},
   "outputs": [
    {
     "name": "stdout",
     "output_type": "stream",
     "text": [
      "144\n"
     ]
    }
   ],
   "source": [
    "# 5. 제곱연산\n",
    "integer_value2 = int(float_value)\n",
    "exponential = integer_value2**2\n",
    "print(exponential)"
   ]
  },
  {
   "cell_type": "code",
   "execution_count": null,
   "id": "fc4ab725-5367-4ad2-9493-77aae8e5d196",
   "metadata": {},
   "outputs": [],
   "source": [
    "#*mod*연산으로 패턴잦는거 중요"
   ]
  },
  {
   "cell_type": "code",
   "execution_count": null,
   "id": "70db7d79-603e-4762-a331-b5f18718922e",
   "metadata": {},
   "outputs": [],
   "source": [
    "#현재 시간과 분을 입력값으로 받아서\n",
    "#두개의 값을 더하는 연산을 수행하세요"
   ]
  },
  {
   "cell_type": "code",
   "execution_count": 22,
   "id": "d518e86c-4892-4168-bdc5-cde7a23cfad3",
   "metadata": {},
   "outputs": [
    {
     "name": "stdout",
     "output_type": "stream",
     "text": [
      "20\n"
     ]
    }
   ],
   "source": [
    "thisHour = 17;\n",
    "thisMin = 3;\n",
    "result = thisHour + thisMin\n",
    "print(result)"
   ]
  },
  {
   "cell_type": "code",
   "execution_count": 23,
   "id": "829980da-9c81-4896-987d-dc5c6fbe35dc",
   "metadata": {},
   "outputs": [],
   "source": [
    "#라이브러리 선언\n",
    "from datetime import datetime"
   ]
  },
  {
   "cell_type": "code",
   "execution_count": 27,
   "id": "12807d47-86e7-4681-b7a5-31c054cfeca0",
   "metadata": {},
   "outputs": [],
   "source": [
    "currentDate = datetime.now()"
   ]
  },
  {
   "cell_type": "code",
   "execution_count": 28,
   "id": "dac14734-69f8-4100-926b-558e14f096bf",
   "metadata": {},
   "outputs": [],
   "source": [
    "currentHour = currentDate.hour\n",
    "currentMinute = currentDate.minute"
   ]
  },
  {
   "cell_type": "markdown",
   "id": "dbcbec72-2ecc-4506-be1e-d89339b008ca",
   "metadata": {},
   "source": [
    "##1-2. 문자열"
   ]
  },
  {
   "cell_type": "code",
   "execution_count": null,
   "id": "d44c7ea9-d4f8-4db4-bf85-46780e119257",
   "metadata": {},
   "outputs": [],
   "source": [
    "#문자선언시에는"
   ]
  },
  {
   "cell_type": "code",
   "execution_count": null,
   "id": "7a0f5b6d-359c-40f7-88f9-32f3651a93d9",
   "metadata": {},
   "outputs": [],
   "source": [
    "stringValue = \"SEC\""
   ]
  },
  {
   "cell_type": "code",
   "execution_count": null,
   "id": "57ea7767-e94a-40f6-b90f-cdbeab92fa79",
   "metadata": {},
   "outputs": [],
   "source": [
    "stringValue2 = '\"input\"'"
   ]
  },
  {
   "cell_type": "code",
   "execution_count": null,
   "id": "ff50218b-df86-4701-a662-735a93f05a02",
   "metadata": {},
   "outputs": [],
   "source": [
    "stringValue2 = \"I'm a student\""
   ]
  },
  {
   "cell_type": "code",
   "execution_count": null,
   "id": "d2875788-b8fd-4a85-96b7-e053839ee8ad",
   "metadata": {},
   "outputs": [],
   "source": [
    "stringValue2 = \"\"\"I'm a student\"\"\""
   ]
  },
  {
   "cell_type": "markdown",
   "id": "71c86d8b-e698-4aa1-957d-2a144466d79b",
   "metadata": {},
   "source": [
    "#문자"
   ]
  },
  {
   "cell_type": "code",
   "execution_count": 4,
   "id": "f0b01b18-ee8b-4790-a23e-3648ccdfd387",
   "metadata": {},
   "outputs": [
    {
     "name": "stdout",
     "output_type": "stream",
     "text": [
      "**********database access complated\n"
     ]
    }
   ],
   "source": [
    "print(\"*\"*10 + \"database access complated\")"
   ]
  },
  {
   "cell_type": "code",
   "execution_count": 18,
   "id": "ac178f71-29d3-4d0f-aaa1-20798be56c92",
   "metadata": {},
   "outputs": [],
   "source": [
    "yearweek =\"202301\""
   ]
  },
  {
   "cell_type": "code",
   "execution_count": 7,
   "id": "5cd790b6-05d0-49b8-9df5-db5618cca75d",
   "metadata": {},
   "outputs": [
    {
     "name": "stdout",
     "output_type": "stream",
     "text": [
      "2023\n"
     ]
    }
   ],
   "source": [
    "print(yearweek[0:4])"
   ]
  },
  {
   "cell_type": "code",
   "execution_count": 28,
   "id": "0835938f-4e39-474e-83df-251265bc036d",
   "metadata": {},
   "outputs": [],
   "source": [
    "yearweek = \"2023W01\""
   ]
  },
  {
   "cell_type": "code",
   "execution_count": 29,
   "id": "24a53bf0-9189-4721-a6c7-0b77f0c4c18c",
   "metadata": {},
   "outputs": [
    {
     "name": "stdout",
     "output_type": "stream",
     "text": [
      "1\n"
     ]
    }
   ],
   "source": [
    "print(yearweek.count(\"W\"));"
   ]
  },
  {
   "cell_type": "code",
   "execution_count": 31,
   "id": "9a7c6c69-dab1-4527-9f67-c491f310746e",
   "metadata": {},
   "outputs": [
    {
     "data": {
      "text/plain": [
       "4"
      ]
     },
     "execution_count": 31,
     "metadata": {},
     "output_type": "execute_result"
    }
   ],
   "source": [
    "yearweek.index(\"W\")"
   ]
  },
  {
   "cell_type": "code",
   "execution_count": 34,
   "id": "e023a539-5d1d-412d-9679-251fae48b23d",
   "metadata": {},
   "outputs": [],
   "source": [
    "yearweek = \"2023@@#$!$@@#01        \""
   ]
  },
  {
   "cell_type": "code",
   "execution_count": 36,
   "id": "6b0aa882-21c8-404d-b63a-d1247719a239",
   "metadata": {},
   "outputs": [
    {
     "data": {
      "text/plain": [
       "'2023_01'"
      ]
     },
     "execution_count": 36,
     "metadata": {},
     "output_type": "execute_result"
    }
   ],
   "source": [
    "yearweek.replace(\"@@#$!$@@#\",\"_\")"
   ]
  },
  {
   "cell_type": "markdown",
   "id": "34adca99-ed83-4ea5-a033-21f302d820ad",
   "metadata": {},
   "source": [
    "#정규표현식\n",
    "###정규표현식"
   ]
  },
  {
   "cell_type": "code",
   "execution_count": 38,
   "id": "1deb70e1-a9cb-4d9c-8d24-567c1187347f",
   "metadata": {},
   "outputs": [],
   "source": [
    "yearweek = \"2016W12\""
   ]
  },
  {
   "cell_type": "code",
   "execution_count": 39,
   "id": "2234749e-0080-4d90-a84d-151721138ff4",
   "metadata": {},
   "outputs": [],
   "source": [
    "stdChar = \"W\""
   ]
  },
  {
   "cell_type": "code",
   "execution_count": 45,
   "id": "4a89ea42-63ff-4596-9465-36566a81781d",
   "metadata": {},
   "outputs": [],
   "source": [
    "yearweek = yearweek.replace(\"W\",\"\")"
   ]
  },
  {
   "cell_type": "code",
   "execution_count": 46,
   "id": "bf260c84-8a0d-4ec0-8989-cfd1e9144d4d",
   "metadata": {},
   "outputs": [
    {
     "data": {
      "text/plain": [
       "201622"
      ]
     },
     "execution_count": 46,
     "metadata": {},
     "output_type": "execute_result"
    }
   ],
   "source": [
    "int( yearweek )+ 10"
   ]
  },
  {
   "cell_type": "code",
   "execution_count": 54,
   "id": "828c36fa-b1b6-4992-9716-306db498f240",
   "metadata": {},
   "outputs": [],
   "source": [
    "######숫자를 문자로\n",
    "inValue = 202301"
   ]
  },
  {
   "cell_type": "code",
   "execution_count": 55,
   "id": "2d108b14-f6ea-486f-8a27-96dac6d834ee",
   "metadata": {},
   "outputs": [],
   "source": [
    "inValue = str(inValue)"
   ]
  },
  {
   "cell_type": "code",
   "execution_count": 51,
   "id": "45b22bb3-ec2c-48c6-9e5b-c792b6c6a497",
   "metadata": {},
   "outputs": [],
   "source": [
    "yearLen = 4"
   ]
  },
  {
   "cell_type": "code",
   "execution_count": 56,
   "id": "e7240418-5fa4-4e13-a6da-179fd8738ffb",
   "metadata": {},
   "outputs": [],
   "source": [
    "year = inValue[:4]\n",
    "week = inValue[2:]\n"
   ]
  },
  {
   "cell_type": "code",
   "execution_count": 57,
   "id": "46e203da-029e-4cbe-a74c-bdc360709537",
   "metadata": {},
   "outputs": [],
   "source": [
    "inValue = 202301"
   ]
  },
  {
   "cell_type": "markdown",
   "id": "9cf16bef-23c3-4bf1-ac47-8bd9bb8a34b1",
   "metadata": {},
   "source": [
    "year = int(inValue /100)\n",
    "week = inValue % 100"
   ]
  },
  {
   "cell_type": "code",
   "execution_count": 125,
   "id": "8acd8d0a-9fe3-4d89-b663-7a9fa16d6b61",
   "metadata": {},
   "outputs": [
    {
     "name": "stdout",
     "output_type": "stream",
     "text": [
      "SEC 201828 250\n",
      "SEC \n",
      "201828\n",
      "250\n"
     ]
    }
   ],
   "source": [
    "inValue = \"sec 2018W28 250\"\n",
    "inValue =inValue.upper().replace(\"W\",\"\")\n",
    "print(inValue)\n",
    "stock_name = inValue[0:4]\n",
    "date = inValue[4:10]\n",
    "value = inValue[11:14]\n",
    "print(stock_name)\n",
    "print(date)\n",
    "print(value)"
   ]
  }
 ],
 "metadata": {
  "kernelspec": {
   "display_name": "Python 3 (ipykernel)",
   "language": "python",
   "name": "python3"
  },
  "language_info": {
   "codemirror_mode": {
    "name": "ipython",
    "version": 3
   },
   "file_extension": ".py",
   "mimetype": "text/x-python",
   "name": "python",
   "nbconvert_exporter": "python",
   "pygments_lexer": "ipython3",
   "version": "3.9.13"
  }
 },
 "nbformat": 4,
 "nbformat_minor": 5
}
