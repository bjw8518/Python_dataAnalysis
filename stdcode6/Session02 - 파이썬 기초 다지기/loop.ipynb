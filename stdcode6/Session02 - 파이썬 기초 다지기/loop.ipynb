{
 "cells": [
  {
   "cell_type": "code",
   "execution_count": null,
   "id": "cf6b617f-8de4-412d-8719-3d14e5f24d1b",
   "metadata": {},
   "outputs": [],
   "source": [
    "#앞에 LEDTV_를 붙여야한다"
   ]
  },
  {
   "cell_type": "code",
   "execution_count": 9,
   "id": "a840fbd5-23d1-478d-866d-0356cfdeac11",
   "metadata": {},
   "outputs": [],
   "source": []
  },
  {
   "cell_type": "code",
   "execution_count": 3,
   "id": "c3c5b11f-198e-4432-a9de-a6876695c274",
   "metadata": {},
   "outputs": [],
   "source": [
    "#step.1\n",
    "#문자열로 \"LED_TV\"선언\n",
    "#step.2\n",
    "#리스트0번째 인덱스를 불러와서 문자열을 앞에 삽입한다\n",
    "#리스트를 같이 업뎃한다"
   ]
  },
  {
   "cell_type": "code",
   "execution_count": 64,
   "id": "a69a4029-5ff0-428a-aeca-d17d07862559",
   "metadata": {},
   "outputs": [],
   "source": [
    "inList = [\"UN40EN001\",\"UN40EN002\"]\n",
    "preFix = \"LEDTV_\""
   ]
  },
  {
   "cell_type": "code",
   "execution_count": 65,
   "id": "71e617d8-6cad-4557-acb8-ba2622d9c1f0",
   "metadata": {},
   "outputs": [],
   "source": [
    "inListLen = len(inList)"
   ]
  },
  {
   "cell_type": "code",
   "execution_count": 76,
   "id": "7e4b37e1-0e87-4168-becf-df80def8f63d",
   "metadata": {},
   "outputs": [],
   "source": [
    "i = 0"
   ]
  },
  {
   "cell_type": "code",
   "execution_count": 77,
   "id": "feec059a-5893-46b0-a686-6dba177f0cca",
   "metadata": {},
   "outputs": [],
   "source": [
    "# for i in range(0, inListLen):\n",
    "inList[i] + preFix + inList[i]"
   ]
  },
  {
   "cell_type": "code",
   "execution_count": 19,
   "id": "8a92f90e-6e41-464d-9129-ea5e44e2baa0",
   "metadata": {},
   "outputs": [],
   "source": [
    "import pandas as pd"
   ]
  },
  {
   "cell_type": "code",
   "execution_count": 20,
   "id": "db538ae8-a546-48fb-8b43-1318a77d6f2b",
   "metadata": {},
   "outputs": [],
   "source": [
    "csData = pd.read_csv(\"../dataset/kopo_customerdata.csv\")\n",
    "csCodeData = list(csData.CUSTOMERCODE)"
   ]
  },
  {
   "cell_type": "code",
   "execution_count": 32,
   "id": "2fef6d37-4517-47d0-82f1-d39d2470d077",
   "metadata": {},
   "outputs": [
    {
     "data": {
      "text/plain": [
       "300000"
      ]
     },
     "execution_count": 32,
     "metadata": {},
     "output_type": "execute_result"
    }
   ],
   "source": [
    "len(csCodeData)"
   ]
  },
  {
   "cell_type": "code",
   "execution_count": 33,
   "id": "76a598d0-e39f-4896-8fd6-801214c40bd6",
   "metadata": {},
   "outputs": [],
   "source": [
    "#preFix를 정의한다 \"한국은행\"\n",
    "preFix = \"한국은행_\""
   ]
  },
  {
   "cell_type": "code",
   "execution_count": null,
   "id": "11f2d478-d826-4b2f-a3be-af6e2758ca1c",
   "metadata": {},
   "outputs": [],
   "source": [
    "csCodeDataLength = len(csCodeData)"
   ]
  },
  {
   "cell_type": "code",
   "execution_count": null,
   "id": "7f937253-55ab-42eb-806e-e974cc632419",
   "metadata": {},
   "outputs": [],
   "source": [
    "for i in range(0,csCodeDataLength):\n",
    "    csCodeData[i] = preFix + str(csCodeData[i])"
   ]
  }
 ],
 "metadata": {
  "kernelspec": {
   "display_name": "Python 3 (ipykernel)",
   "language": "python",
   "name": "python3"
  },
  "language_info": {
   "codemirror_mode": {
    "name": "ipython",
    "version": 3
   },
   "file_extension": ".py",
   "mimetype": "text/x-python",
   "name": "python",
   "nbconvert_exporter": "python",
   "pygments_lexer": "ipython3",
   "version": "3.9.13"
  }
 },
 "nbformat": 4,
 "nbformat_minor": 5
}
