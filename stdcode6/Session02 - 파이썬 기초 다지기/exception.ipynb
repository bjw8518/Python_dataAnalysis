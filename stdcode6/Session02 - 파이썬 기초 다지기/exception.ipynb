{
 "cells": [
  {
   "cell_type": "code",
   "execution_count": 13,
   "metadata": {},
   "outputs": [],
   "source": [
    "import pandas as pd"
   ]
  },
  {
   "cell_type": "code",
   "execution_count": 14,
   "metadata": {},
   "outputs": [],
   "source": [
    "dataSum = []"
   ]
  },
  {
   "cell_type": "code",
   "execution_count": 20,
   "metadata": {},
   "outputs": [
    {
     "name": "stdout",
     "output_type": "stream",
     "text": [
      "../dataset/kopo_product_volume0.csv\n",
      "../dataset/kopo_product_volume1.csv\n",
      "[Errno 2] No such file or directory: '../dataset/kopo_product_volume1.csv'\n",
      "../dataset/kopo_product_volume2.csv\n"
     ]
    }
   ],
   "source": [
    "for i in range(0, 3):\n",
    "    #데이터를 시퀀셜 하게 읽어서 dataSum리스트에 추가한다\n",
    "    loadFileName = (\"../dataset/kopo_product_volume{}.csv\".format(i))\n",
    "    print(loadFileName)\n",
    "    try:\n",
    "        dataSum.append(pd.read_csv(loadFileName))\n",
    "    except Exception as e:\n",
    "        print(e)"
   ]
  },
  {
   "cell_type": "code",
   "execution_count": 16,
   "metadata": {},
   "outputs": [],
   "source": [
    "import pandas as pd"
   ]
  },
  {
   "cell_type": "code",
   "execution_count": 18,
   "metadata": {},
   "outputs": [],
   "source": [
    "indata = pd.read_csv(\"../dataset/kopo_customerdata.csv\")\n"
   ]
  },
  {
   "cell_type": "code",
   "execution_count": 24,
   "metadata": {},
   "outputs": [],
   "source": [
    "columnsList = list(indata.columns)"
   ]
  },
  {
   "cell_type": "code",
   "execution_count": 43,
   "metadata": {},
   "outputs": [
    {
     "data": {
      "text/plain": [
       "16"
      ]
     },
     "execution_count": 43,
     "metadata": {},
     "output_type": "execute_result"
    }
   ],
   "source": [
    "len(columnsList)\n"
   ]
  },
  {
   "cell_type": "code",
   "execution_count": 47,
   "metadata": {},
   "outputs": [
    {
     "name": "stdout",
     "output_type": "stream",
     "text": [
      "CUSTOMERCODE\n",
      "STATENAME\n",
      "could not convert string to float: 'State2'\n",
      "ST\n",
      "GENDER\n",
      "could not convert string to float: 'Male'\n",
      "DOB\n",
      "GENDER1\n",
      "EMAIL\n",
      "FEST_CNT\n",
      "TOTAL_AMOUNT\n",
      "AC_AMOUNT\n",
      "AV_AMOUNT\n",
      "HA_AMOUNT\n",
      "EMI_CE_AMOUNT\n",
      "IS_HIGHEND\n",
      "CNT_VIST\n",
      "GAP_VISIT\n"
     ]
    }
   ],
   "source": [
    "for i in range(0,len(columnsList)):\n",
    "    targetcolumn = columnsList[i]\n",
    "    print(targetcolumn)\n",
    "    #타입변경 (기존타입 ->float)\n",
    "    try:\n",
    "        indata[targetcolumn] =indata[targetcolumn].astype(float)\n",
    "        #못바꾸면 예외처리\n",
    "    except Exception as e:\n",
    "        print(e)"
   ]
  },
  {
   "cell_type": "code",
   "execution_count": 35,
   "metadata": {},
   "outputs": [],
   "source": [
    "#컬럼의 타입을 변경시키는 코드다 (전체컬럼을 float로 바꿔보자)\n",
    "indata[\"CUSTOMERCODE\"] = indata[\"CUSTOMERCODE\"].astype(float)\n",
    "indata[\"CUSTOMERCODE\"] = indata[\"CUSTOMERCODE\"].astype(float)\n",
    "\n",
    "\n",
    "    \n"
   ]
  }
 ],
 "metadata": {
  "kernelspec": {
   "display_name": "base",
   "language": "python",
   "name": "python3"
  },
  "language_info": {
   "codemirror_mode": {
    "name": "ipython",
    "version": 3
   },
   "file_extension": ".py",
   "mimetype": "text/x-python",
   "name": "python",
   "nbconvert_exporter": "python",
   "pygments_lexer": "ipython3",
   "version": "3.9.13"
  },
  "orig_nbformat": 4
 },
 "nbformat": 4,
 "nbformat_minor": 2
}
