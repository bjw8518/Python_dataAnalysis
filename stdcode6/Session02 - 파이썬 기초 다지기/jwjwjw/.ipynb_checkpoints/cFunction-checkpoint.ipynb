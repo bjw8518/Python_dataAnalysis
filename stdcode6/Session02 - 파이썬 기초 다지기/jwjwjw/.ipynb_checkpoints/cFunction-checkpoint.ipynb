{
 "cells": [
  {
   "cell_type": "code",
   "execution_count": 15,
   "id": "0e0680b2-bba4-4e86-bed0-f7ac4ddd44ae",
   "metadata": {},
   "outputs": [],
   "source": [
    "def minMaxAvg(testList):\n",
    "    \"\"\"\n",
    "    최소 최대값을 뺀 평균\n",
    "    parameter : testList = 리스트\n",
    "    return: 리스트내 값에서 최소 최댓값을 뺀 평균을 반환한다\n",
    "    \"\"\"\n",
    "\n",
    "    #testList=[2,5,3,7,8,4,1,6,9]\n",
    "    minValue = min(testList)\n",
    "    maxValue = max(testList)\n",
    "    print(\"최대값{} 최솟값{}\".format(minValue,maxValue) )\n",
    "\n",
    "    testList.remove(minValue)\n",
    "    testList.remove(maxValue)\n",
    "\n",
    "    average = 0\n",
    "\n",
    "    if len(testList) !=0:\n",
    "        average =sum(testList)/len(testList)\n",
    "    else :\n",
    "        pass\n",
    "    return average"
   ]
  },
  {
   "cell_type": "code",
   "execution_count": 16,
   "id": "2c9c9543-aaa5-46ef-ac5e-f16e9d0ba83c",
   "metadata": {},
   "outputs": [],
   "source": [
    "testList=[2,5,3,7,8,4,1,6,9]"
   ]
  },
  {
   "cell_type": "code",
   "execution_count": 17,
   "id": "484c6e69-538e-44da-9159-520386cd82fc",
   "metadata": {},
   "outputs": [
    {
     "data": {
      "text/plain": [
       "5.0"
      ]
     },
     "execution_count": 17,
     "metadata": {},
     "output_type": "execute_result"
    }
   ],
   "source": [
    "average"
   ]
  }
 ],
 "metadata": {
  "kernelspec": {
   "display_name": "Python 3 (ipykernel)",
   "language": "python",
   "name": "python3"
  },
  "language_info": {
   "codemirror_mode": {
    "name": "ipython",
    "version": 3
   },
   "file_extension": ".py",
   "mimetype": "text/x-python",
   "name": "python",
   "nbconvert_exporter": "python",
   "pygments_lexer": "ipython3",
   "version": "3.9.13"
  }
 },
 "nbformat": 4,
 "nbformat_minor": 5
}
