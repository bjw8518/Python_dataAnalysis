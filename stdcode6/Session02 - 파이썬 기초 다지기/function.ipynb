{
 "cells": [
  {
   "cell_type": "markdown",
   "metadata": {},
   "source": [
    "#함수만들기"
   ]
  },
  {
   "cell_type": "code",
   "execution_count": 19,
   "metadata": {},
   "outputs": [
    {
     "ename": "IndentationError",
     "evalue": "expected an indented block (546963333.py, line 4)",
     "output_type": "error",
     "traceback": [
      "\u001b[1;36m  File \u001b[1;32m\"C:\\Users\\SMART07\\AppData\\Local\\Temp\\ipykernel_11028\\546963333.py\"\u001b[1;36m, line \u001b[1;32m4\u001b[0m\n\u001b[1;33m    reulst = (firstValue*secondValue)**2 #2의제곱\u001b[0m\n\u001b[1;37m    ^\u001b[0m\n\u001b[1;31mIndentationError\u001b[0m\u001b[1;31m:\u001b[0m expected an indented block\n"
     ]
    }
   ],
   "source": [
    "def diffPowerFunc(firstValue,secondValue):\n",
    "#firstValue = 10\n",
    "#secondValue = 5\n",
    "reulst = (firstValue*secondValue)**2 #2의제곱\n",
    "reulst"
   ]
  },
  {
   "cell_type": "code",
   "execution_count": 17,
   "metadata": {},
   "outputs": [
    {
     "ename": "NameError",
     "evalue": "name 'diffPowerFunc' is not defined",
     "output_type": "error",
     "traceback": [
      "\u001b[1;31m---------------------------------------------------------------------------\u001b[0m",
      "\u001b[1;31mNameError\u001b[0m                                 Traceback (most recent call last)",
      "\u001b[1;32m~\\AppData\\Local\\Temp\\ipykernel_11028\\491641576.py\u001b[0m in \u001b[0;36m<module>\u001b[1;34m\u001b[0m\n\u001b[1;32m----> 1\u001b[1;33m \u001b[0mdiffPowerFunc\u001b[0m\u001b[1;33m(\u001b[0m\u001b[1;36m10\u001b[0m\u001b[1;33m,\u001b[0m\u001b[1;36m5\u001b[0m\u001b[1;33m)\u001b[0m\u001b[1;33m\u001b[0m\u001b[1;33m\u001b[0m\u001b[0m\n\u001b[0m",
      "\u001b[1;31mNameError\u001b[0m: name 'diffPowerFunc' is not defined"
     ]
    }
   ],
   "source": [
    "diffPowerFunc(10,5)"
   ]
  },
  {
   "cell_type": "code",
   "execution_count": 23,
   "metadata": {},
   "outputs": [
    {
     "ename": "IndentationError",
     "evalue": "expected an indented block (1720062571.py, line 2)",
     "output_type": "error",
     "traceback": [
      "\u001b[1;36m  File \u001b[1;32m\"C:\\Users\\SMART07\\AppData\\Local\\Temp\\ipykernel_11028\\1720062571.py\"\u001b[1;36m, line \u001b[1;32m2\u001b[0m\n\u001b[1;33m    step1 = inValue * 100\u001b[0m\n\u001b[1;37m    ^\u001b[0m\n\u001b[1;31mIndentationError\u001b[0m\u001b[1;31m:\u001b[0m expected an indented block\n"
     ]
    }
   ],
   "source": [
    "def roundFunction(inValue):\n",
    "step1 = inValue * 100\n",
    "step2 = int(step1 + 0.5)\n",
    "outvalue\n",
    "= step2 / 100\n",
    "return\n",
    "outvalue"
   ]
  },
  {
   "cell_type": "code",
   "execution_count": 2,
   "metadata": {},
   "outputs": [],
   "source": [
    "model = [\"MODEL01\",\"MODEL02\"]\n",
    "attatedModel = []\n",
    "for i in range(0, len(model) ):\n",
    "    if( model[i] == \"MODEL01\" ):\n",
    "        break\n",
    "    attatedModel.append(model[i])\n",
    "    print( model[i] )\n"
   ]
  },
  {
   "cell_type": "code",
   "execution_count": 7,
   "metadata": {},
   "outputs": [],
   "source": [
    "recallProduct = \"MODEL2\""
   ]
  },
  {
   "cell_type": "code",
   "execution_count": 8,
   "metadata": {},
   "outputs": [],
   "source": [
    "productList = [\"MODEL1\",\"MODEL2\",\"MODEL3\"]"
   ]
  },
  {
   "cell_type": "code",
   "execution_count": 11,
   "metadata": {},
   "outputs": [
    {
     "name": "stdout",
     "output_type": "stream",
     "text": [
      "MODEL1\n",
      "MODEL2\n"
     ]
    }
   ],
   "source": [
    "for i in range(0, len(productList)):\n",
    "    \n",
    "    if productList[i] == recallProduct:\n",
    "        print(productList[i]) #이부분 사이에 리콜제품 로직 추가 가능 \n",
    "        break\n",
    "    print(productList[i])"
   ]
  },
  {
   "cell_type": "code",
   "execution_count": 18,
   "metadata": {},
   "outputs": [
    {
     "name": "stdout",
     "output_type": "stream",
     "text": [
      "MODEL3\n"
     ]
    }
   ],
   "source": [
    "for i in range(0, len(productList)):\n",
    "    \n",
    "    if productList[i] == recallProduct:\n",
    "        continue\n",
    "    print(productList[i])"
   ]
  },
  {
   "cell_type": "code",
   "execution_count": 16,
   "metadata": {},
   "outputs": [
    {
     "name": "stdout",
     "output_type": "stream",
     "text": [
      "MODEL1\n",
      "MODEL2\n",
      "MODEL3\n"
     ]
    }
   ],
   "source": [
    "for i in range(0, len(productList)):\n",
    "    \n",
    "    if productList[i] == recallProduct:\n",
    "        pass\n",
    "    print(productList[i])"
   ]
  }
 ],
 "metadata": {
  "kernelspec": {
   "display_name": "base",
   "language": "python",
   "name": "python3"
  },
  "language_info": {
   "codemirror_mode": {
    "name": "ipython",
    "version": 3
   },
   "file_extension": ".py",
   "mimetype": "text/x-python",
   "name": "python",
   "nbconvert_exporter": "python",
   "pygments_lexer": "ipython3",
   "version": "3.9.13"
  },
  "orig_nbformat": 4
 },
 "nbformat": 4,
 "nbformat_minor": 2
}
