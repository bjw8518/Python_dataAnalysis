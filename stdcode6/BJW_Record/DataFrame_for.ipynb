{
 "cells": [
  {
   "cell_type": "markdown",
   "id": "b2c00ca0-f887-411b-8ce6-89bf351ad9e6",
   "metadata": {
    "tags": []
   },
   "source": [
    "## 1.코드 꼭 까보기"
   ]
  },
  {
   "cell_type": "code",
   "execution_count": 155,
   "id": "0b1d0e8c-914c-42ca-889f-eaa46b5f79e8",
   "metadata": {},
   "outputs": [
    {
     "data": {
      "text/html": [
       "<div>\n",
       "<style scoped>\n",
       "    .dataframe tbody tr th:only-of-type {\n",
       "        vertical-align: middle;\n",
       "    }\n",
       "\n",
       "    .dataframe tbody tr th {\n",
       "        vertical-align: top;\n",
       "    }\n",
       "\n",
       "    .dataframe thead th {\n",
       "        text-align: right;\n",
       "    }\n",
       "</style>\n",
       "<table border=\"1\" class=\"dataframe\">\n",
       "  <thead>\n",
       "    <tr style=\"text-align: right;\">\n",
       "      <th></th>\n",
       "      <th>이름</th>\n",
       "      <th>학번</th>\n",
       "      <th>이메일</th>\n",
       "    </tr>\n",
       "  </thead>\n",
       "  <tbody>\n",
       "    <tr>\n",
       "      <th>0</th>\n",
       "      <td>김철수</td>\n",
       "      <td>1</td>\n",
       "      <td>1h</td>\n",
       "    </tr>\n",
       "    <tr>\n",
       "      <th>1</th>\n",
       "      <td>김영희</td>\n",
       "      <td>1</td>\n",
       "      <td>1h</td>\n",
       "    </tr>\n",
       "    <tr>\n",
       "      <th>2</th>\n",
       "      <td>배진우</td>\n",
       "      <td>1</td>\n",
       "      <td>abc@naver.com</td>\n",
       "    </tr>\n",
       "  </tbody>\n",
       "</table>\n",
       "</div>"
      ],
      "text/plain": [
       "    이름 학번            이메일\n",
       "0  김철수  1             1h\n",
       "1  김영희  1             1h\n",
       "2  배진우  1  abc@naver.com"
      ]
     },
     "execution_count": 155,
     "metadata": {},
     "output_type": "execute_result"
    }
   ],
   "source": [
    "import pandas as pd\n",
    "\n",
    "\n",
    "row1List = [\"김철수\",\"1\",\"1h\"]\n",
    "row2List = [\"김영희\",\"1\",\"1h\"]\n",
    "row3List = [\"배진우\",\"1\",\"abc@naver.com\"]\n",
    "\n",
    "testDf = pd.DataFrame([row1List,row2List,row3List])\n",
    "testDf.columns = [\"이!#%%름\",\"학#!$%%번\",\"이%@#@$메%일\"]\n",
    "\n",
    "columnList = list(testDf.columns)\n",
    "\n",
    "for i in range(0, len(columnList)):    \n",
    "    columnList[i]=columnList[i].replace(\"%%\",\"\").replace(\"%%\",\"\").replace(\"!\",\"\").replace(\"#\",\"\").replace(\"$\",\"\").replace(\"@\",\"\")#컬럼의 기호 replace\n",
    "    \n",
    "    #.replace(/\"!\" | \"#\" | \"%\" | \"$\"/g , \"\")\n",
    "    \n",
    "    \n",
    "\n",
    "columnList\n",
    "\n",
    "testDf.columns = newColumn\n",
    "\n",
    "testDf\n",
    "\n",
    "#1.헤더는 주석처리한다\n",
    "#2.로직은 shift+tab으로 땡긴다 \n",
    "#3. i값을 위에 선언 후 돌려본다 하나씩!\n",
    "# for i in len(0, columnList)):\n",
    "#    columnList[i] = columnList[i].replace(\"$\",\"\") #들여쓰기*****\n",
    "\n"
   ]
  },
  {
   "cell_type": "code",
   "execution_count": null,
   "id": "ddbae2f2-6a97-444a-aaf9-9ae196cf8460",
   "metadata": {},
   "outputs": [],
   "source": []
  },
  {
   "cell_type": "code",
   "execution_count": 90,
   "id": "ca238417-52fd-4fb3-9879-8dc800d3e363",
   "metadata": {},
   "outputs": [],
   "source": [
    "#1.헤더는 주석처리한다\n",
    "#2.로직은 shift+tab으로 땡긴다 \n",
    "#3. i값을 위에 선언 후 돌려본다 하나씩!\n",
    "# for i in len(0, columnList)):\n",
    "#    columnList[i] = columnList[i].replace(\"$\",\"\") #들여쓰기*****\n",
    "\n"
   ]
  },
  {
   "cell_type": "code",
   "execution_count": null,
   "id": "0a6236e8-1f1f-4004-9f46-84dce6965c0a",
   "metadata": {},
   "outputs": [],
   "source": [
    "for문의 쓰임새를 알기 위해 다음과 같은 문제를 생각해 보자.\n",
    "\n",
    "총 5명의 학생이 시험을 보았는데 시험 점수가 60점 이상이면 합격이고 그렇지 않으면 불합격이다. 합격인지 불합격인지 결과를 보여 주시오.\n",
    "우선 학생 5명의 시험 점수를 리스트로 표현해 보자.\n",
    "\n",
    "marks = [90, 25, 67, 45, 80]\n",
    "1번 학생은 90점이고 5번 학생은 80점이다.\n",
    "\n",
    "이런 점수를 차례로 검사해서 합격했는지 불합격했는지 통보해 주는 프로그램을 만들어 보자."
   ]
  },
  {
   "cell_type": "code",
   "execution_count": 148,
   "id": "a7f2143d-8115-40ae-8ac4-e6f91e4c0541",
   "metadata": {},
   "outputs": [
    {
     "name": "stdout",
     "output_type": "stream",
     "text": [
      "불합격입니다\n",
      "불합격입니다\n",
      "불합격입니다\n",
      "불합격입니다\n",
      "불합격입니다\n"
     ]
    }
   ],
   "source": []
  },
  {
   "cell_type": "code",
   "execution_count": 154,
   "id": "120f38be-6345-4837-94d3-383e63d38220",
   "metadata": {},
   "outputs": [
    {
     "name": "stdout",
     "output_type": "stream",
     "text": [
      "5번 학생은 합격입니다.\n",
      "5번 학생은 불합격입니다.\n",
      "5번 학생은 합격입니다.\n",
      "5번 학생은 불합격입니다.\n",
      "5번 학생은 합격입니다.\n"
     ]
    }
   ],
   "source": [
    "# marks1.py\n",
    "marks = [90, 25, 67, 45, 80]\n",
    "\n",
    "count = 0 \n",
    "for mark in marks: \n",
    "    count = count +1 \n",
    "    if mark >= 60: \n",
    "        print(\"%d번 학생은 합격입니다.\" % number)\n",
    "    else: \n",
    "        print(\"%d번 학생은 불합격입니다.\" % number)"
   ]
  },
  {
   "cell_type": "code",
   "execution_count": 166,
   "id": "7811ac77-16c8-47c9-8b7b-1284323ecdea",
   "metadata": {},
   "outputs": [
    {
     "name": "stdout",
     "output_type": "stream",
     "text": [
      "나무찍기\n",
      "나무찍기\n",
      "나무찍기\n",
      "나무찍기\n",
      "나무찍기\n",
      "나무찍기\n",
      "나무찍기\n",
      "나무찍기\n",
      "나무찍기\n",
      "나무찍기\n",
      "나무잘림\n"
     ]
    }
   ],
   "source": [
    "tree = 0\n",
    "\n",
    "while tree < 10:\n",
    "    tree = tree+1\n",
    "    print(\"나무찍기\")\n",
    "    if tree == 10:\n",
    "        print(\"나무잘림\")\n"
   ]
  },
  {
   "cell_type": "code",
   "execution_count": 175,
   "id": "8c8e802c-fc71-4c82-8715-12b9e88e5971",
   "metadata": {},
   "outputs": [
    {
     "name": "stdout",
     "output_type": "stream",
     "text": [
      "taxi\n"
     ]
    }
   ],
   "source": [
    "money = 5000\n",
    "taxi = 4800\n",
    "if money >= taxi :\n",
    "    print(\"taxi\")\n",
    "else:\n",
    "    print(\"walk\")"
   ]
  },
  {
   "cell_type": "code",
   "execution_count": 243,
   "id": "8f3ba097-9e41-4a21-b46e-ac1ebcd69e04",
   "metadata": {},
   "outputs": [
    {
     "name": "stdout",
     "output_type": "stream",
     "text": [
      "대출상품_상\n",
      "대출상품_상\n",
      "대출상품_상\n"
     ]
    }
   ],
   "source": [
    "prefix = \"대출상품_\"\n",
    "targetItem = [\"EN001\",\"EN002\",\"EN003\"]\n",
    "\n",
    "for i in range(0, 3):#len(targetItem)\n",
    "    targetItem = prefix+targetItem[0]\n",
    "    targetItem = prefix+targetItem[1]\n",
    "    targetItem = prefix+targetItem[2]\n",
    "    print(targetItem)\n",
    "    "
   ]
  }
 ],
 "metadata": {
  "kernelspec": {
   "display_name": "Python 3 (ipykernel)",
   "language": "python",
   "name": "python3"
  },
  "language_info": {
   "codemirror_mode": {
    "name": "ipython",
    "version": 3
   },
   "file_extension": ".py",
   "mimetype": "text/x-python",
   "name": "python",
   "nbconvert_exporter": "python",
   "pygments_lexer": "ipython3",
   "version": "3.9.13"
  }
 },
 "nbformat": 4,
 "nbformat_minor": 5
}
