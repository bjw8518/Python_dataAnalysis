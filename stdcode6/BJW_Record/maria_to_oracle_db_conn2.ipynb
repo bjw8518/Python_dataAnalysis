{
 "cells": [
  {
   "cell_type": "code",
   "execution_count": null,
   "metadata": {},
   "outputs": [],
   "source": [
    "import mariadb\n",
    "import cx_Oracle\n",
    "import pandas as pd\n",
    "from sqlalchemy import create_engine,types\n",
    "\n",
    "# MariaDB 연결 정보\n",
    "mariadb_con = {\n",
    "    'host': 'localhost',\n",
    "    'user': 'root',\n",
    "    'password': 'password',\n",
    "    'database': 'dbname'\n",
    "}\n",
    "\n",
    "# Oracle 연결 정보\n",
    "oracle_con = {\n",
    "    'user': 'kopo',\n",
    "    'password': 'kopo',\n",
    "    'dsn': '192.168.110.112:1521/orcl'\n",
    "}\n",
    "\n",
    "# MariaDB 연결\n",
    "mariadb_conn = mariadb.connect(mariadb_con)\n",
    "mariadb_cursor = mariadb_conn.cursor()\n",
    "\n",
    "# kopo_bankdata 데이터 가져오기\n",
    "mariadb_cursor.execute('SELECT * FROM kopo_bankdata')\n",
    "bankdata = mariadb_cursor.fetchall()\n",
    "\n",
    "# Oracle 연결\n",
    "oracle_conn = cx_Oracle.connect(oracle_con)\n",
    "oracle_cursor = oracle_conn.cursor()\n",
    "\n",
    "# kopo_bankdata 데이터 Oracle에 저장\n",
    "for row in bankdata:\n",
    "    oracle_cursor.execute(\"\"\"\n",
    "        INSERT INTO kopo_bankdata (col1, col2, col3, col4)\n",
    "        VALUES (:col1, :col2, :col3, :col4)\n",
    "    \"\"\", {\n",
    "        'col1': row[0],\n",
    "        'col2': row[1],\n",
    "        'col3': row[2],\n",
    "        'col4': row[3]\n",
    "    })\n",
    "\n",
    "oracle_conn.commit()\n",
    "\n",
    "# 연결 종료\n",
    "mariadb_cursor.close()\n",
    "mariadb_conn.close()\n",
    "oracle_cursor.close()\n",
    "oracle_conn.close()\n"
   ]
  }
 ],
 "metadata": {
  "kernelspec": {
   "display_name": "base",
   "language": "python",
   "name": "python3"
  },
  "language_info": {
   "codemirror_mode": {
    "name": "ipython",
    "version": 3
   },
   "file_extension": ".py",
   "mimetype": "text/x-python",
   "name": "python",
   "nbconvert_exporter": "python",
   "pygments_lexer": "ipython3",
   "version": "3.9.13"
  },
  "orig_nbformat": 4
 },
 "nbformat": 4,
 "nbformat_minor": 2
}
