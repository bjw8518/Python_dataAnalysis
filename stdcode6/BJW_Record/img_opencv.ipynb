{
 "cells": [
  {
   "cell_type": "code",
   "execution_count": 1,
   "id": "76d0f330-f5b2-47de-bb2d-ccf21db8df94",
   "metadata": {},
   "outputs": [],
   "source": [
    "import numpy as np\n",
    "import mnist\n",
    "from tensorflow import keras"
   ]
  },
  {
   "cell_type": "code",
   "execution_count": 2,
   "id": "6fdde4fc-2664-422b-83f6-ca806d743132",
   "metadata": {},
   "outputs": [],
   "source": [
    "from tensorflow.keras.layers import Dense, Dropout, Flatten"
   ]
  },
  {
   "cell_type": "code",
   "execution_count": 3,
   "id": "fcecc620-c491-4413-bcb6-51152f0a710c",
   "metadata": {},
   "outputs": [],
   "source": [
    "from tensorflow.keras.models import Sequential"
   ]
  },
  {
   "cell_type": "code",
   "execution_count": 4,
   "id": "970b8226-3c6a-418e-bcd7-13c1b59bd174",
   "metadata": {},
   "outputs": [],
   "source": [
    "from tensorflow.keras.utils import to_categorical"
   ]
  },
  {
   "cell_type": "code",
   "execution_count": 5,
   "id": "8c7b48f9-877e-42ad-8e27-9228115453b3",
   "metadata": {},
   "outputs": [],
   "source": [
    "train_images = mnist.train_images()\n",
    "train_labels = mnist.train_labels()\n",
    "test_images = mnist.test_images()\n",
    "test_labels = mnist.test_labels()"
   ]
  },
  {
   "cell_type": "code",
   "execution_count": 6,
   "id": "6451fd20-77fe-40d9-996b-bcbb84427ed2",
   "metadata": {},
   "outputs": [
    {
     "name": "stdout",
     "output_type": "stream",
     "text": [
      "(60000, 28, 28)\n",
      "(60000,)\n",
      "(10000, 28, 28)\n",
      "(10000,)\n"
     ]
    }
   ],
   "source": [
    "print(train_images.shape)\n",
    "print(train_labels.shape)\n",
    "print(test_images.shape)\n",
    "print(test_labels.shape)"
   ]
  },
  {
   "cell_type": "code",
   "execution_count": 7,
   "id": "b6847b49-42e1-484f-92a8-2c0eee01cdfd",
   "metadata": {},
   "outputs": [],
   "source": [
    "import pandas as pd\n",
    "import matplotlib.pyplot as plt\n",
    "%matplotlib inline"
   ]
  },
  {
   "cell_type": "code",
   "execution_count": 8,
   "id": "1d946a65-504c-4202-9c37-557f7f72fdfe",
   "metadata": {},
   "outputs": [],
   "source": [
    "eachImg = pd.DataFrame(train_images[2])"
   ]
  },
  {
   "cell_type": "code",
   "execution_count": 9,
   "id": "01c307a1-abe8-4c7f-a56a-a3ee3a901fbc",
   "metadata": {},
   "outputs": [],
   "source": [
    "eachImg.to_csv(\"d:/eachImg.csv\")"
   ]
  },
  {
   "cell_type": "code",
   "execution_count": 11,
   "id": "35235ddb-7588-44f4-b14f-47a6594a487f",
   "metadata": {},
   "outputs": [
    {
     "data": {
      "text/plain": [
       "<matplotlib.image.AxesImage at 0x12bac74a040>"
      ]
     },
     "execution_count": 11,
     "metadata": {},
     "output_type": "execute_result"
    },
    {
     "data": {
      "image/png": "[encoded data removed]",
      "text/plain": [
       "<Figure size 640x480 with 1 Axes>"
      ]
     },
     "metadata": {},
     "output_type": "display_data"
    }
   ],
   "source": [
    "plt.imshow(train_images[2],cmap=\"gray\")"
   ]
  },
  {
   "cell_type": "code",
   "execution_count": 12,
   "id": "5dcfcea1-5b09-4e49-ae0b-f89be180f36f",
   "metadata": {},
   "outputs": [],
   "source": [
    "train_images = (train_images / 255)\n",
    "test_images = (test_images / 255)"
   ]
  },
  {
   "cell_type": "code",
   "execution_count": 13,
   "id": "208dc399-91bb-48c5-9ea0-dc37050023ec",
   "metadata": {},
   "outputs": [],
   "source": [
    "train_labels_one_hot = to_categorical(train_labels)\n",
    "test_labels_one_hot = to_categorical(test_labels)"
   ]
  },
  {
   "cell_type": "code",
   "execution_count": 14,
   "id": "5adb2766-8167-482d-b881-73d92592365a",
   "metadata": {},
   "outputs": [
    {
     "data": {
      "text/plain": [
       "array([0., 0., 0., 0., 1., 0., 0., 0., 0., 0.], dtype=float32)"
      ]
     },
     "execution_count": 14,
     "metadata": {},
     "output_type": "execute_result"
    }
   ],
   "source": [
    "train_labels_one_hot[2]"
   ]
  },
  {
   "cell_type": "code",
   "execution_count": 15,
   "id": "54ef8d41-667f-4a28-bb6f-62d89c9856b2",
   "metadata": {},
   "outputs": [
    {
     "data": {
      "text/plain": [
       "4"
      ]
     },
     "execution_count": 15,
     "metadata": {},
     "output_type": "execute_result"
    }
   ],
   "source": [
    "np.argmax(train_labels_one_hot[2])"
   ]
  },
  {
   "attachments": {},
   "cell_type": "markdown",
   "id": "a2472b18-3ccc-4dd6-809c-9819502bfb9d",
   "metadata": {},
   "source": [
    "###모델생성"
   ]
  },
  {
   "cell_type": "code",
   "execution_count": 16,
   "id": "e8c93ad6-0d3e-45d4-8c99-f368dd7f6953",
   "metadata": {},
   "outputs": [],
   "source": [
    "#intput layer\n",
    "input_shape = train_images[0].shape"
   ]
  },
  {
   "cell_type": "code",
   "execution_count": 17,
   "id": "aaec647f-e32c-4076-851c-1e2d19ecac37",
   "metadata": {},
   "outputs": [],
   "source": [
    "#output layer\n",
    "nClasses = 10\n",
    "nClasses =len(np.unique(train_labels))"
   ]
  },
  {
   "cell_type": "code",
   "execution_count": 18,
   "id": "067f328c-ad30-42d7-aeba-f32a6804a846",
   "metadata": {},
   "outputs": [],
   "source": [
    "model = Sequential()\n",
    "model.add(Flatten(input_shape=input_shape))\n",
    "model.add(Dense(units=16, activation='relu', input_shape=input_shape))\n",
    "model.add(Dense(units=16, activation='relu'))\n",
    "model.add(Dense(units=nClasses,activation='softmax'))"
   ]
  },
  {
   "cell_type": "code",
   "execution_count": 19,
   "id": "f653210d-5ff2-47d6-ac70-0e0d5b49c4be",
   "metadata": {},
   "outputs": [
    {
     "name": "stdout",
     "output_type": "stream",
     "text": [
      "Model: \"sequential\"\n",
      "_________________________________________________________________\n",
      " Layer (type)                Output Shape              Param #   \n",
      "=================================================================\n",
      " flatten (Flatten)           (None, 784)               0         \n",
      "                                                                 \n",
      " dense (Dense)               (None, 16)                12560     \n",
      "                                                                 \n",
      " dense_1 (Dense)             (None, 16)                272       \n",
      "                                                                 \n",
      " dense_2 (Dense)             (None, 10)                170       \n",
      "                                                                 \n",
      "=================================================================\n",
      "Total params: 13,002\n",
      "Trainable params: 13,002\n",
      "Non-trainable params: 0\n",
      "_________________________________________________________________\n"
     ]
    }
   ],
   "source": [
    "model.summary()"
   ]
  },
  {
   "attachments": {},
   "cell_type": "markdown",
   "id": "795084a3-8deb-410b-894e-a57da3b9200f",
   "metadata": {},
   "source": [
    "###B-2모델 컴파일"
   ]
  },
  {
   "cell_type": "code",
   "execution_count": 20,
   "id": "a0360944-7bb2-4887-9d46-238222865e7c",
   "metadata": {},
   "outputs": [],
   "source": [
    "model.compile(loss='categorical_crossentropy',\n",
    "              optimizer=\"adam\",\n",
    "              metrics=[\"accuracy\"])"
   ]
  },
  {
   "attachments": {},
   "cell_type": "markdown",
   "id": "57a061d7-7a66-4472-8905-82e14dbef784",
   "metadata": {},
   "source": [
    "### b-3 모델훈련"
   ]
  },
  {
   "cell_type": "code",
   "execution_count": 21,
   "id": "151192b0-bbe9-4756-ad92-9b362554e958",
   "metadata": {},
   "outputs": [
    {
     "data": {
      "text/plain": [
       "(60000, 28, 28)"
      ]
     },
     "execution_count": 21,
     "metadata": {},
     "output_type": "execute_result"
    }
   ],
   "source": [
    "train_images.shape"
   ]
  },
  {
   "cell_type": "code",
   "execution_count": 23,
   "id": "fdd18d96-26aa-4199-a712-7193eb583e5f",
   "metadata": {},
   "outputs": [
    {
     "name": "stdout",
     "output_type": "stream",
     "text": [
      "Epoch 1/10\n",
      "1500/1500 [==============================] - 3s 2ms/step - loss: 0.4875 - accuracy: 0.8561 - val_loss: 0.2619 - val_accuracy: 0.9252\n",
      "Epoch 2/10\n",
      "1500/1500 [==============================] - 2s 1ms/step - loss: 0.2466 - accuracy: 0.9286 - val_loss: 0.2120 - val_accuracy: 0.9395\n",
      "Epoch 3/10\n",
      "1500/1500 [==============================] - 2s 1ms/step - loss: 0.2094 - accuracy: 0.9397 - val_loss: 0.1953 - val_accuracy: 0.9447\n",
      "Epoch 4/10\n",
      "1500/1500 [==============================] - 2s 1ms/step - loss: 0.1858 - accuracy: 0.9456 - val_loss: 0.1854 - val_accuracy: 0.9482\n",
      "Epoch 5/10\n",
      "1500/1500 [==============================] - 2s 2ms/step - loss: 0.1719 - accuracy: 0.9498 - val_loss: 0.1774 - val_accuracy: 0.9492\n",
      "Epoch 6/10\n",
      "1500/1500 [==============================] - 2s 2ms/step - loss: 0.1590 - accuracy: 0.9538 - val_loss: 0.1855 - val_accuracy: 0.9446\n",
      "Epoch 7/10\n",
      "1500/1500 [==============================] - 2s 1ms/step - loss: 0.1495 - accuracy: 0.9551 - val_loss: 0.1673 - val_accuracy: 0.9493\n",
      "Epoch 8/10\n",
      "1500/1500 [==============================] - 2s 1ms/step - loss: 0.1412 - accuracy: 0.9579 - val_loss: 0.1726 - val_accuracy: 0.9487\n",
      "Epoch 9/10\n",
      "1500/1500 [==============================] - 2s 1ms/step - loss: 0.1367 - accuracy: 0.9592 - val_loss: 0.1651 - val_accuracy: 0.9509\n",
      "Epoch 10/10\n",
      "1500/1500 [==============================] - 2s 1ms/step - loss: 0.1312 - accuracy: 0.9600 - val_loss: 0.1650 - val_accuracy: 0.9528\n"
     ]
    }
   ],
   "source": [
    "history = model.fit(x=train_images,\n",
    "                    y=train_labels_one_hot,\n",
    "                    epochs=10,\n",
    "                    batch_size=32,\n",
    "                    validation_split=0.2\n",
    "                    )"
   ]
  },
  {
   "attachments": {},
   "cell_type": "markdown",
   "id": "947d4d95-ad48-4769-a62e-a439a32cd070",
   "metadata": {},
   "source": [
    "### c-1.모델추론"
   ]
  },
  {
   "cell_type": "code",
   "execution_count": 24,
   "id": "59e21e32-7253-44f8-8ce5-c877fc5df1f9",
   "metadata": {},
   "outputs": [
    {
     "name": "stdout",
     "output_type": "stream",
     "text": [
      "313/313 [==============================] - 1s 1ms/step - loss: 0.1659 - accuracy: 0.9548\n"
     ]
    },
    {
     "data": {
      "text/plain": [
       "[0.16589276492595673, 0.954800009727478]"
      ]
     },
     "execution_count": 24,
     "metadata": {},
     "output_type": "execute_result"
    }
   ],
   "source": [
    "model.evaluate(test_images, test_labels_one_hot)"
   ]
  },
  {
   "attachments": {},
   "cell_type": "markdown",
   "id": "ba495488-94dd-423a-9a3c-e83354f42aeb",
   "metadata": {},
   "source": [
    "#c-1예측"
   ]
  },
  {
   "cell_type": "code",
   "execution_count": 25,
   "id": "2d696456-d924-40be-817a-35ec0529bf02",
   "metadata": {},
   "outputs": [],
   "source": [
    "import cv2"
   ]
  },
  {
   "cell_type": "code",
   "execution_count": 26,
   "id": "d8b44fe3-eadf-4da8-b71b-6f5213f9a296",
   "metadata": {},
   "outputs": [],
   "source": [
    "testImg = cv2.imread(\"./img/img_18.jpg\", cv2.IMREAD_GRAYSCALE)"
   ]
  },
  {
   "cell_type": "code",
   "execution_count": 27,
   "id": "5e9a5ea6-552b-4ece-9c6e-d86cb19ee37a",
   "metadata": {},
   "outputs": [],
   "source": [
    "import matplotlib.pyplot as plt"
   ]
  }
 ],
 "metadata": {
  "kernelspec": {
   "display_name": "Python 3 (ipykernel)",
   "language": "python",
   "name": "python3"
  },
  "language_info": {
   "codemirror_mode": {
    "name": "ipython",
    "version": 3
   },
   "file_extension": ".py",
   "mimetype": "text/x-python",
   "name": "python",
   "nbconvert_exporter": "python",
   "pygments_lexer": "ipython3",
   "version": "3.9.6"
  }
 },
 "nbformat": 4,
 "nbformat_minor": 5
}
